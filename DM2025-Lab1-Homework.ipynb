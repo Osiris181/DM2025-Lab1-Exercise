{
 "cells": [
  {
   "cell_type": "markdown",
   "metadata": {},
   "source": [
    "### Student Information\n",
    "Name: 鄭振慈 Patrick Thelysander\n",
    "\n",
    "Student ID: 61347113S\n",
    "\n",
    "GitHub ID: Osiris181"
   ]
  },
  {
   "cell_type": "markdown",
   "metadata": {},
   "source": [
    "---"
   ]
  },
  {
   "cell_type": "markdown",
   "metadata": {},
   "source": [
    "### Instructions"
   ]
  },
  {
   "cell_type": "markdown",
   "metadata": {},
   "source": [
    "### First Phase Submission"
   ]
  },
  {
   "cell_type": "markdown",
   "metadata": {},
   "source": [
    "1. First: do the **take home** exercises in the [DM2025-Lab1-Master](https://github.com/leoson-wu/DM2025-Lab1-Exercise/blob/main/DM2025-Lab1-Master.ipynb) that considered as **phase 1 (from exercise 1 to exercise 15)**. You can answer in the master file. __This part is worth 10% of your grade.__\n",
    "\n",
    "\n",
    "2. Second: follow the same process from the [DM2025-Lab1-Master](https://github.com/leoson-wu/DM2025-Lab1-Exercise/blob/main/DM2025-Lab1-Master.ipynb) on **the new dataset** up **until phase 1**. You can skip some exercises if you think some steps are not necessary. However main exercises should be completed. You don't need to explain all details as we did (some **minimal comments** explaining your code are useful though).  __This part is worth 15% of your grade.__\n",
    "    -  Use [the new dataset](https://github.com/leoson-wu/DM2025-Lab1-Exercise/blob/main/newdataset/Reddit-stock-sentiment.csv). The dataset contains a 16 columns including 'text' and 'label', with the sentiment labels being: 1.0 is positive, 0.0 is neutral and -1.0 is negative. You can simplify the dataset and use only the columns that you think are necessary. \n",
    "    \n",
    "    - You are allowed to use and modify the `helper` functions in the folder of the first lab session (notice they may need modification) or create your own.\n",
    "    - Use this file to complete the homework from the second part. Make sure the code can be run from the beginning till the end and has all the needed output.\n",
    "\n",
    "\n",
    "3. Third: please attempt the following tasks on **the new dataset**. __This part is worth 10% of your grade.__\n",
    "    - Generate meaningful **new data visualizations**. Refer to online resources and the Data Mining textbook for inspiration and ideas. \n",
    "    \n",
    "\n",
    "\n",
    "4. Fourth: It's hard for us to follow if your code is messy, so please **tidy up your notebook** and **add minimal comments where needed**. __This part is worth 5% of your grade.__\n",
    "\n",
    "You can submit your homework following these guidelines: [DM2025-Lab1-announcement](https://github.com/leoson-wu/DM2025-Lab1-Announcement/blob/main/README.md). Make sure to commit and save your changes to your repository __BEFORE the deadline (September 28th 11:59 pm, Sunday)__. "
   ]
  },
  {
   "cell_type": "markdown",
   "metadata": {},
   "source": [
    "### Second Phase Submission "
   ]
  },
  {
   "cell_type": "markdown",
   "metadata": {},
   "source": [
    "**You can keep the answer for phase 1 for easier running and update the phase 2 on the same page.**\n",
    "\n",
    "1. First: Continue doing the **take home** exercises in the [DM2025-Lab1-Master](https://github.com/leoson-wu/DM2025-Lab1-Exercise/blob/main/DM2025-Lab1-Master.ipynb) for **phase 2, starting from Finding frequent patterns**. Use the same master(.ipynb) file. Answer from phase 1 will not be considered at this stage. You can answer in the master file. __This part is worth 10% of your grade.__\n",
    "\n",
    "\n",
    "2. Second: Continue from first phase and do the same process from the [DM2025-Lab1-Master](https://github.com/leoson-wu/DM2025-Lab1-Exercise/blob/main/DM2025-Lab1-Master.ipynb) on **the new dataset** for phase 2, starting from Finding frequent pattern. You can skip some exercises if you think some steps are not necessary. However main exercises should be completed. You don't need to explain all details as we did (some **minimal comments** explaining your code are useful though).  __This part is worth 15% of your grade.__\n",
    "    - Continue using this file to complete the homework from the second part. Make sure the code can be run from the beginning till the end and has all the needed output. Use the same new dataset as in phase 1.\n",
    "    \n",
    "    - You are allowed to use and modify the `helper` functions in the folder of the first lab session (notice they may need modification) or create your own.\n",
    "\n",
    "3. Third: please attempt the following tasks on **the new dataset**. __This part is worth 20% of your grade.__\n",
    "    - Use this file to answer.\n",
    "    - Generate **TF-IDF features** from the tokens of each text. This will generating a document matrix, however, the weights will be computed differently (using the TF-IDF value of each word per document as opposed to the word frequency).  Refer to this Scikit-learn [guide](http://scikit-learn.org/stable/modules/generated/sklearn.feature_extraction.text.TfidfVectorizer.html) .\n",
    "    - Implement a simple **Naive Bayes classifier** that automatically classifies the records into their categories. Use both the TF-IDF features and word frequency features to build two seperate classifiers. Note that for the TF-IDF features you might need to use other type of NB classifier different than the one in the Master Notebook. Comment on the differences and when using augmentation with feature pattern.  Refer to this [article](https://hub.packtpub.com/implementing-3-naive-bayes-classifiers-in-scikit-learn/).\n",
    "\n",
    "\n",
    "4. Fourth: In the lab, we applied each step really quickly just to illustrate how to work with your dataset. There are somethings that are not ideal or the most efficient/meaningful. Each dataset can be handled differently as well. What are those inefficent parts you noticed? How can you improve the Data preprocessing for these specific datasets? __This part is worth 10% of your grade.__\n",
    "\n",
    "\n",
    "5. Fifth: It's hard for us to follow if your code is messy, so please **tidy up your notebook** and **add minimal comments where needed**. __This part is worth 5% of your grade.__\n",
    "\n",
    "\n",
    "You can submit your homework following these guidelines: [DM2025-Lab1-announcement](https://github.com/leoson-wu/DM2025-Lab1-Announcement/blob/main/README.md). Make sure to commit and save your changes to your repository __BEFORE the deadline (October 19th 11:59 pm, Sunday)__. "
   ]
  },
  {
   "cell_type": "markdown",
   "metadata": {},
   "source": [
    "# Phase 1"
   ]
  },
  {
   "cell_type": "code",
   "execution_count": 1,
   "metadata": {},
   "outputs": [
    {
     "name": "stderr",
     "output_type": "stream",
     "text": [
      "[nltk_data] Downloading package punkt to C:\\Users\\Patrick\n",
      "[nltk_data]     Thelysander\\AppData\\Roaming\\nltk_data...\n",
      "[nltk_data]   Package punkt is already up-to-date!\n"
     ]
    }
   ],
   "source": [
    "### Begin Assignment Here\n",
    "\n",
    "# import needed libraries\n",
    "import pandas as pd\n",
    "import numpy as np\n",
    "import nltk\n",
    "nltk.download('punkt') # download the NLTK datasets\n",
    "# from sklearn.datasets import fetch_20newsgroups\n",
    "from sklearn.feature_extraction.text import CountVectorizer\n",
    "import plotly as py\n",
    "import math\n",
    "# If you get \"ModuleNotFoundError: No module named 'PAMI'\"\n",
    "# run the following in a new Jupyter cell:\n",
    "# !pip3 install PAMI\n",
    "import PAMI\n",
    "import umap\n",
    "import plotly.express as px\n",
    "import matplotlib.pyplot as plt"
   ]
  },
  {
   "cell_type": "markdown",
   "metadata": {},
   "source": [
    "**Re-Doing Phase 1**\n",
    "1. Data Source\n",
    "2. Data Preparation\n",
    "3. Data Transformation\n",
    " - 3.1 Converting Dictionary into Pandas dataframe\n",
    " - 3.2 Familiarizing yourself with the Data\n",
    "4. Data Mining using Pandas\n",
    " - 4.1 Dealing with Missing Values\n",
    " - 4.2 Dealing with Duplicate Data\n",
    "5. Data Preprocessing\n",
    " - 5.1 Sampling\n",
    " - 5.2 Feature Creation\n",
    " - 5.3 Feature Subset Selection\n",
    " - 5.4 Atrribute Transformation / Aggregation\n",
    "   - 5.4.1 Transform Text Data"
   ]
  },
  {
   "cell_type": "markdown",
   "metadata": {},
   "source": [
    "## 1. Data Source"
   ]
  },
  {
   "cell_type": "code",
   "execution_count": 2,
   "metadata": {},
   "outputs": [
    {
     "data": {
      "text/html": [
       "<div>\n",
       "<style scoped>\n",
       "    .dataframe tbody tr th:only-of-type {\n",
       "        vertical-align: middle;\n",
       "    }\n",
       "\n",
       "    .dataframe tbody tr th {\n",
       "        vertical-align: top;\n",
       "    }\n",
       "\n",
       "    .dataframe thead th {\n",
       "        text-align: right;\n",
       "    }\n",
       "</style>\n",
       "<table border=\"1\" class=\"dataframe\">\n",
       "  <thead>\n",
       "    <tr style=\"text-align: right;\">\n",
       "      <th></th>\n",
       "      <th>type</th>\n",
       "      <th>datetime</th>\n",
       "      <th>post_id</th>\n",
       "      <th>subreddit</th>\n",
       "      <th>title</th>\n",
       "      <th>author</th>\n",
       "      <th>url</th>\n",
       "      <th>upvotes</th>\n",
       "      <th>downvotes</th>\n",
       "      <th>upvote_ratio</th>\n",
       "      <th>text</th>\n",
       "      <th>subjectivity</th>\n",
       "      <th>polarity</th>\n",
       "      <th>sentiment</th>\n",
       "      <th>entities</th>\n",
       "      <th>label</th>\n",
       "    </tr>\n",
       "  </thead>\n",
       "  <tbody>\n",
       "    <tr>\n",
       "      <th>0</th>\n",
       "      <td>comment</td>\n",
       "      <td>2025-04-11 17:29:56</td>\n",
       "      <td>mmli62w</td>\n",
       "      <td>wallstreetbets</td>\n",
       "      <td>Retardation is on the menu boys! WSB is so back</td>\n",
       "      <td>StickyTip420</td>\n",
       "      <td>https://i.redd.it/0yq2ftren8ue1.jpeg</td>\n",
       "      <td>0</td>\n",
       "      <td>NaN</td>\n",
       "      <td>NaN</td>\n",
       "      <td>Calls on retards</td>\n",
       "      <td>1.000000</td>\n",
       "      <td>-0.900000</td>\n",
       "      <td>-1.0</td>\n",
       "      <td>[]</td>\n",
       "      <td>-1.0</td>\n",
       "    </tr>\n",
       "    <tr>\n",
       "      <th>1</th>\n",
       "      <td>comment</td>\n",
       "      <td>2025-04-12 1:12:19</td>\n",
       "      <td>mmnu7v9</td>\n",
       "      <td>wallstreetbets</td>\n",
       "      <td>Retail giant TARGET has now declined for 10 co...</td>\n",
       "      <td>Comfortable-Dog-8437</td>\n",
       "      <td>https://i.redd.it/7tl6puv9waue1.jpeg</td>\n",
       "      <td>-15</td>\n",
       "      <td>NaN</td>\n",
       "      <td>NaN</td>\n",
       "      <td>Stunt as in like why did they even make a big ...</td>\n",
       "      <td>0.177778</td>\n",
       "      <td>0.083333</td>\n",
       "      <td>1.0</td>\n",
       "      <td>['Stunt', 'company', 'deal', 'place']</td>\n",
       "      <td>0.0</td>\n",
       "    </tr>\n",
       "    <tr>\n",
       "      <th>2</th>\n",
       "      <td>comment</td>\n",
       "      <td>2025-04-10 15:09:41</td>\n",
       "      <td>mmeevio</td>\n",
       "      <td>StockMarket</td>\n",
       "      <td>How do you feel about a sitting president maki...</td>\n",
       "      <td>Btankersly66</td>\n",
       "      <td>https://apnews.com/article/trump-truth-social-...</td>\n",
       "      <td>1</td>\n",
       "      <td>NaN</td>\n",
       "      <td>NaN</td>\n",
       "      <td>Seeing lots of red in the ticker.</td>\n",
       "      <td>0.000000</td>\n",
       "      <td>0.000000</td>\n",
       "      <td>0.0</td>\n",
       "      <td>['ticker']</td>\n",
       "      <td>0.0</td>\n",
       "    </tr>\n",
       "  </tbody>\n",
       "</table>\n",
       "</div>"
      ],
      "text/plain": [
       "      type             datetime  post_id       subreddit  \\\n",
       "0  comment  2025-04-11 17:29:56  mmli62w  wallstreetbets   \n",
       "1  comment   2025-04-12 1:12:19  mmnu7v9  wallstreetbets   \n",
       "2  comment  2025-04-10 15:09:41  mmeevio     StockMarket   \n",
       "\n",
       "                                               title                author  \\\n",
       "0    Retardation is on the menu boys! WSB is so back          StickyTip420   \n",
       "1  Retail giant TARGET has now declined for 10 co...  Comfortable-Dog-8437   \n",
       "2  How do you feel about a sitting president maki...          Btankersly66   \n",
       "\n",
       "                                                 url  upvotes  downvotes  \\\n",
       "0               https://i.redd.it/0yq2ftren8ue1.jpeg        0        NaN   \n",
       "1               https://i.redd.it/7tl6puv9waue1.jpeg      -15        NaN   \n",
       "2  https://apnews.com/article/trump-truth-social-...        1        NaN   \n",
       "\n",
       "   upvote_ratio                                               text  \\\n",
       "0           NaN                                   Calls on retards   \n",
       "1           NaN  Stunt as in like why did they even make a big ...   \n",
       "2           NaN                  Seeing lots of red in the ticker.   \n",
       "\n",
       "   subjectivity  polarity  sentiment                               entities  \\\n",
       "0      1.000000 -0.900000       -1.0                                     []   \n",
       "1      0.177778  0.083333        1.0  ['Stunt', 'company', 'deal', 'place']   \n",
       "2      0.000000  0.000000        0.0                             ['ticker']   \n",
       "\n",
       "   label  \n",
       "0   -1.0  \n",
       "1    0.0  \n",
       "2    0.0  "
      ]
     },
     "execution_count": 2,
     "metadata": {},
     "output_type": "execute_result"
    }
   ],
   "source": [
    "#Read data from CSV file and display the first 3 rows as a testing\n",
    "data = pd.read_csv('./newdataset/Reddit-stock-sentiment.csv')\n",
    "data.head(3)\n",
    "\n",
    "# print(len(data))"
   ]
  },
  {
   "cell_type": "markdown",
   "metadata": {},
   "source": [
    "## 2. Data Preparation"
   ]
  },
  {
   "cell_type": "markdown",
   "metadata": {},
   "source": [
    "### Exercise 1\n",
    "Since Exercise 1 requires me to print the first 3 text data of the samples, I chose the title as the columns that I want to print"
   ]
  },
  {
   "cell_type": "code",
   "execution_count": 3,
   "metadata": {},
   "outputs": [
    {
     "name": "stdout",
     "output_type": "stream",
     "text": [
      "Sample Title 1:\n",
      "Retardation is on the menu boys! WSB is so back \n",
      "\n",
      "Sample Title 2:\n",
      "Retail giant TARGET has now declined for 10 consecutive weeks, its longest losing streak in history \n",
      "\n",
      "Sample Title 3:\n",
      "How do you feel about a sitting president making $415M in one day after pumping his own stock with social media and a policy decision? \n",
      "\n"
     ]
    }
   ],
   "source": [
    "for x in range(3):\n",
    "    print(f\"Sample Title {x+1}:\")\n",
    "    print(data.title[x], \"\\n\")"
   ]
  },
  {
   "cell_type": "markdown",
   "metadata": {},
   "source": [
    "## 3. Data Transformation"
   ]
  },
  {
   "cell_type": "code",
   "execution_count": 4,
   "metadata": {},
   "outputs": [
    {
     "data": {
      "text/plain": [
       "847"
      ]
     },
     "execution_count": 4,
     "metadata": {},
     "output_type": "execute_result"
    }
   ],
   "source": [
    "#check the number of samples from the datasets\n",
    "len(data)"
   ]
  },
  {
   "cell_type": "markdown",
   "metadata": {},
   "source": [
    "### Exercise 2\n",
    "Experiment with other queries method to acquire the data"
   ]
  },
  {
   "cell_type": "code",
   "execution_count": 5,
   "metadata": {},
   "outputs": [
    {
     "data": {
      "text/html": [
       "<div>\n",
       "<style scoped>\n",
       "    .dataframe tbody tr th:only-of-type {\n",
       "        vertical-align: middle;\n",
       "    }\n",
       "\n",
       "    .dataframe tbody tr th {\n",
       "        vertical-align: top;\n",
       "    }\n",
       "\n",
       "    .dataframe thead th {\n",
       "        text-align: right;\n",
       "    }\n",
       "</style>\n",
       "<table border=\"1\" class=\"dataframe\">\n",
       "  <thead>\n",
       "    <tr style=\"text-align: right;\">\n",
       "      <th></th>\n",
       "      <th>type</th>\n",
       "      <th>datetime</th>\n",
       "      <th>post_id</th>\n",
       "      <th>subreddit</th>\n",
       "      <th>title</th>\n",
       "      <th>author</th>\n",
       "      <th>url</th>\n",
       "      <th>upvotes</th>\n",
       "      <th>downvotes</th>\n",
       "      <th>upvote_ratio</th>\n",
       "      <th>text</th>\n",
       "      <th>subjectivity</th>\n",
       "      <th>polarity</th>\n",
       "      <th>sentiment</th>\n",
       "      <th>entities</th>\n",
       "      <th>label</th>\n",
       "    </tr>\n",
       "  </thead>\n",
       "  <tbody>\n",
       "    <tr>\n",
       "      <th>1</th>\n",
       "      <td>comment</td>\n",
       "      <td>2025-04-12 1:12:19</td>\n",
       "      <td>mmnu7v9</td>\n",
       "      <td>wallstreetbets</td>\n",
       "      <td>Retail giant TARGET has now declined for 10 co...</td>\n",
       "      <td>Comfortable-Dog-8437</td>\n",
       "      <td>https://i.redd.it/7tl6puv9waue1.jpeg</td>\n",
       "      <td>-15</td>\n",
       "      <td>NaN</td>\n",
       "      <td>NaN</td>\n",
       "      <td>Stunt as in like why did they even make a big ...</td>\n",
       "      <td>0.177778</td>\n",
       "      <td>0.083333</td>\n",
       "      <td>1.0</td>\n",
       "      <td>['Stunt', 'company', 'deal', 'place']</td>\n",
       "      <td>0.0</td>\n",
       "    </tr>\n",
       "    <tr>\n",
       "      <th>2</th>\n",
       "      <td>comment</td>\n",
       "      <td>2025-04-10 15:09:41</td>\n",
       "      <td>mmeevio</td>\n",
       "      <td>StockMarket</td>\n",
       "      <td>How do you feel about a sitting president maki...</td>\n",
       "      <td>Btankersly66</td>\n",
       "      <td>https://apnews.com/article/trump-truth-social-...</td>\n",
       "      <td>1</td>\n",
       "      <td>NaN</td>\n",
       "      <td>NaN</td>\n",
       "      <td>Seeing lots of red in the ticker.</td>\n",
       "      <td>0.000000</td>\n",
       "      <td>0.000000</td>\n",
       "      <td>0.0</td>\n",
       "      <td>['ticker']</td>\n",
       "      <td>0.0</td>\n",
       "    </tr>\n",
       "    <tr>\n",
       "      <th>3</th>\n",
       "      <td>post</td>\n",
       "      <td>2023-08-30 17:12:55</td>\n",
       "      <td>165kllm</td>\n",
       "      <td>stockstobuytoday</td>\n",
       "      <td>Who knows more? $VMAR</td>\n",
       "      <td>emiljenfn</td>\n",
       "      <td>https://www.reddit.com/r/stockstobuytoday/comm...</td>\n",
       "      <td>30</td>\n",
       "      <td>0.0</td>\n",
       "      <td>0.98</td>\n",
       "      <td>Vision Marine Technologies Inc. is rewriting t...</td>\n",
       "      <td>0.646970</td>\n",
       "      <td>0.216383</td>\n",
       "      <td>1.0</td>\n",
       "      <td>['watercraft', 'skill', 'power', ']', 'feat', ...</td>\n",
       "      <td>1.0</td>\n",
       "    </tr>\n",
       "    <tr>\n",
       "      <th>4</th>\n",
       "      <td>comment</td>\n",
       "      <td>2025-04-11 14:48:05</td>\n",
       "      <td>mmkl6bw</td>\n",
       "      <td>StockMarket</td>\n",
       "      <td>The Trump administration is begging Xi Jinping...</td>\n",
       "      <td>Just-Big6411</td>\n",
       "      <td>https://edition.cnn.com/2025/04/10/politics/tr...</td>\n",
       "      <td>1</td>\n",
       "      <td>NaN</td>\n",
       "      <td>NaN</td>\n",
       "      <td>He didn’t say thank you.</td>\n",
       "      <td>0.000000</td>\n",
       "      <td>0.000000</td>\n",
       "      <td>0.0</td>\n",
       "      <td>[]</td>\n",
       "      <td>-1.0</td>\n",
       "    </tr>\n",
       "    <tr>\n",
       "      <th>5</th>\n",
       "      <td>comment</td>\n",
       "      <td>2025-04-12 2:19:03</td>\n",
       "      <td>mmo4k9g</td>\n",
       "      <td>wallstreetbets</td>\n",
       "      <td>Weekend Discussion Thread for the Weekend of A...</td>\n",
       "      <td>PolarNimbus</td>\n",
       "      <td>https://www.reddit.com/r/wallstreetbets/commen...</td>\n",
       "      <td>16</td>\n",
       "      <td>NaN</td>\n",
       "      <td>NaN</td>\n",
       "      <td>Hoping to ejaculate in wet warm puss tonight, ...</td>\n",
       "      <td>0.500000</td>\n",
       "      <td>0.250000</td>\n",
       "      <td>1.0</td>\n",
       "      <td>['tonight', 'puss']</td>\n",
       "      <td>0.0</td>\n",
       "    </tr>\n",
       "    <tr>\n",
       "      <th>...</th>\n",
       "      <td>...</td>\n",
       "      <td>...</td>\n",
       "      <td>...</td>\n",
       "      <td>...</td>\n",
       "      <td>...</td>\n",
       "      <td>...</td>\n",
       "      <td>...</td>\n",
       "      <td>...</td>\n",
       "      <td>...</td>\n",
       "      <td>...</td>\n",
       "      <td>...</td>\n",
       "      <td>...</td>\n",
       "      <td>...</td>\n",
       "      <td>...</td>\n",
       "      <td>...</td>\n",
       "      <td>...</td>\n",
       "    </tr>\n",
       "    <tr>\n",
       "      <th>842</th>\n",
       "      <td>comment</td>\n",
       "      <td>2021-06-30 4:06:06</td>\n",
       "      <td>h3iv6pq</td>\n",
       "      <td>stockstobuytoday</td>\n",
       "      <td>$MRIN Marin Software killed it today. Hope som...</td>\n",
       "      <td>Ordinary-Office9180</td>\n",
       "      <td>https://www.reddit.com/r/stockstobuytoday/comm...</td>\n",
       "      <td>1</td>\n",
       "      <td>NaN</td>\n",
       "      <td>NaN</td>\n",
       "      <td>Invest now it is going to shoot up tomorrow</td>\n",
       "      <td>0.000000</td>\n",
       "      <td>0.000000</td>\n",
       "      <td>0.0</td>\n",
       "      <td>['tomorrow']</td>\n",
       "      <td>1.0</td>\n",
       "    </tr>\n",
       "    <tr>\n",
       "      <th>843</th>\n",
       "      <td>comment</td>\n",
       "      <td>2025-04-11 5:01:24</td>\n",
       "      <td>mmijiuz</td>\n",
       "      <td>StockMarket</td>\n",
       "      <td>$ U.S. dollar value (crashing)</td>\n",
       "      <td>lulububudu</td>\n",
       "      <td>https://i.redd.it/atvlo83gk4ue1.jpeg</td>\n",
       "      <td>2</td>\n",
       "      <td>NaN</td>\n",
       "      <td>NaN</td>\n",
       "      <td>Where can I read this?</td>\n",
       "      <td>0.000000</td>\n",
       "      <td>0.000000</td>\n",
       "      <td>0.0</td>\n",
       "      <td>[]</td>\n",
       "      <td>0.0</td>\n",
       "    </tr>\n",
       "    <tr>\n",
       "      <th>844</th>\n",
       "      <td>post</td>\n",
       "      <td>2025-03-24 12:30:39</td>\n",
       "      <td>1jipi4v</td>\n",
       "      <td>stockstobuytoday</td>\n",
       "      <td>Analyst Recommendations</td>\n",
       "      <td>saasfin</td>\n",
       "      <td>https://www.reddit.com/r/stockstobuytoday/comm...</td>\n",
       "      <td>1</td>\n",
       "      <td>0.0</td>\n",
       "      <td>1.00</td>\n",
       "      <td>Upgrades, Downgrades\\r\\n\\r\\n [Stock Analyst Re...</td>\n",
       "      <td>0.000000</td>\n",
       "      <td>0.000000</td>\n",
       "      <td>0.0</td>\n",
       "      <td>['Analyst', 'Nasdaq', 'Stock', 'Upgrades', 'Do...</td>\n",
       "      <td>0.0</td>\n",
       "    </tr>\n",
       "    <tr>\n",
       "      <th>845</th>\n",
       "      <td>comment</td>\n",
       "      <td>2025-04-11 20:13:26</td>\n",
       "      <td>mmmely7</td>\n",
       "      <td>wallstreetbets</td>\n",
       "      <td>Weekend Discussion Thread for the Weekend of A...</td>\n",
       "      <td>yes_ur_wrong</td>\n",
       "      <td>https://www.reddit.com/r/wallstreetbets/commen...</td>\n",
       "      <td>10</td>\n",
       "      <td>NaN</td>\n",
       "      <td>NaN</td>\n",
       "      <td>i sold my puts so i expect cheeto to declare w...</td>\n",
       "      <td>0.000000</td>\n",
       "      <td>0.000000</td>\n",
       "      <td>0.0</td>\n",
       "      <td>['war', 'denmark', 'cheeto', 'i']</td>\n",
       "      <td>-1.0</td>\n",
       "    </tr>\n",
       "    <tr>\n",
       "      <th>846</th>\n",
       "      <td>comment</td>\n",
       "      <td>2025-04-12 3:09:06</td>\n",
       "      <td>mmobyz1</td>\n",
       "      <td>wallstreetbets</td>\n",
       "      <td>Someone post the hotline please.</td>\n",
       "      <td>I_am_Nerman</td>\n",
       "      <td>https://i.redd.it/tcfuu97p7bue1.jpeg</td>\n",
       "      <td>1</td>\n",
       "      <td>NaN</td>\n",
       "      <td>NaN</td>\n",
       "      <td>![img](emote|t5_2th52|31224)</td>\n",
       "      <td>0.000000</td>\n",
       "      <td>0.000000</td>\n",
       "      <td>0.0</td>\n",
       "      <td>['img', ']', '[', 'emote|t5_2th52|31224']</td>\n",
       "      <td>0.0</td>\n",
       "    </tr>\n",
       "  </tbody>\n",
       "</table>\n",
       "<p>824 rows × 16 columns</p>\n",
       "</div>"
      ],
      "text/plain": [
       "        type             datetime  post_id         subreddit  \\\n",
       "1    comment   2025-04-12 1:12:19  mmnu7v9    wallstreetbets   \n",
       "2    comment  2025-04-10 15:09:41  mmeevio       StockMarket   \n",
       "3       post  2023-08-30 17:12:55  165kllm  stockstobuytoday   \n",
       "4    comment  2025-04-11 14:48:05  mmkl6bw       StockMarket   \n",
       "5    comment   2025-04-12 2:19:03  mmo4k9g    wallstreetbets   \n",
       "..       ...                  ...      ...               ...   \n",
       "842  comment   2021-06-30 4:06:06  h3iv6pq  stockstobuytoday   \n",
       "843  comment   2025-04-11 5:01:24  mmijiuz       StockMarket   \n",
       "844     post  2025-03-24 12:30:39  1jipi4v  stockstobuytoday   \n",
       "845  comment  2025-04-11 20:13:26  mmmely7    wallstreetbets   \n",
       "846  comment   2025-04-12 3:09:06  mmobyz1    wallstreetbets   \n",
       "\n",
       "                                                 title                author  \\\n",
       "1    Retail giant TARGET has now declined for 10 co...  Comfortable-Dog-8437   \n",
       "2    How do you feel about a sitting president maki...          Btankersly66   \n",
       "3                                Who knows more? $VMAR             emiljenfn   \n",
       "4    The Trump administration is begging Xi Jinping...          Just-Big6411   \n",
       "5    Weekend Discussion Thread for the Weekend of A...           PolarNimbus   \n",
       "..                                                 ...                   ...   \n",
       "842  $MRIN Marin Software killed it today. Hope som...   Ordinary-Office9180   \n",
       "843                     $ U.S. dollar value (crashing)            lulububudu   \n",
       "844                            Analyst Recommendations               saasfin   \n",
       "845  Weekend Discussion Thread for the Weekend of A...          yes_ur_wrong   \n",
       "846                   Someone post the hotline please.           I_am_Nerman   \n",
       "\n",
       "                                                   url  upvotes  downvotes  \\\n",
       "1                 https://i.redd.it/7tl6puv9waue1.jpeg      -15        NaN   \n",
       "2    https://apnews.com/article/trump-truth-social-...        1        NaN   \n",
       "3    https://www.reddit.com/r/stockstobuytoday/comm...       30        0.0   \n",
       "4    https://edition.cnn.com/2025/04/10/politics/tr...        1        NaN   \n",
       "5    https://www.reddit.com/r/wallstreetbets/commen...       16        NaN   \n",
       "..                                                 ...      ...        ...   \n",
       "842  https://www.reddit.com/r/stockstobuytoday/comm...        1        NaN   \n",
       "843               https://i.redd.it/atvlo83gk4ue1.jpeg        2        NaN   \n",
       "844  https://www.reddit.com/r/stockstobuytoday/comm...        1        0.0   \n",
       "845  https://www.reddit.com/r/wallstreetbets/commen...       10        NaN   \n",
       "846               https://i.redd.it/tcfuu97p7bue1.jpeg        1        NaN   \n",
       "\n",
       "     upvote_ratio                                               text  \\\n",
       "1             NaN  Stunt as in like why did they even make a big ...   \n",
       "2             NaN                  Seeing lots of red in the ticker.   \n",
       "3            0.98  Vision Marine Technologies Inc. is rewriting t...   \n",
       "4             NaN                           He didn’t say thank you.   \n",
       "5             NaN  Hoping to ejaculate in wet warm puss tonight, ...   \n",
       "..            ...                                                ...   \n",
       "842           NaN        Invest now it is going to shoot up tomorrow   \n",
       "843           NaN                             Where can I read this?   \n",
       "844          1.00  Upgrades, Downgrades\\r\\n\\r\\n [Stock Analyst Re...   \n",
       "845           NaN  i sold my puts so i expect cheeto to declare w...   \n",
       "846           NaN                       ![img](emote|t5_2th52|31224)   \n",
       "\n",
       "     subjectivity  polarity  sentiment  \\\n",
       "1        0.177778  0.083333        1.0   \n",
       "2        0.000000  0.000000        0.0   \n",
       "3        0.646970  0.216383        1.0   \n",
       "4        0.000000  0.000000        0.0   \n",
       "5        0.500000  0.250000        1.0   \n",
       "..            ...       ...        ...   \n",
       "842      0.000000  0.000000        0.0   \n",
       "843      0.000000  0.000000        0.0   \n",
       "844      0.000000  0.000000        0.0   \n",
       "845      0.000000  0.000000        0.0   \n",
       "846      0.000000  0.000000        0.0   \n",
       "\n",
       "                                              entities  label  \n",
       "1                ['Stunt', 'company', 'deal', 'place']    0.0  \n",
       "2                                           ['ticker']    0.0  \n",
       "3    ['watercraft', 'skill', 'power', ']', 'feat', ...    1.0  \n",
       "4                                                   []   -1.0  \n",
       "5                                  ['tonight', 'puss']    0.0  \n",
       "..                                                 ...    ...  \n",
       "842                                       ['tomorrow']    1.0  \n",
       "843                                                 []    0.0  \n",
       "844  ['Analyst', 'Nasdaq', 'Stock', 'Upgrades', 'Do...    0.0  \n",
       "845                  ['war', 'denmark', 'cheeto', 'i']   -1.0  \n",
       "846          ['img', ']', '[', 'emote|t5_2th52|31224']    0.0  \n",
       "\n",
       "[824 rows x 16 columns]"
      ]
     },
     "execution_count": 5,
     "metadata": {},
     "output_type": "execute_result"
    }
   ],
   "source": [
    "from pandasql import sqldf\n",
    "\n",
    "#using query\n",
    "# query = \"SELECT * FROM data WHERE type = 'post'\"\n",
    "# acquired = sqldf(query)\n",
    "# print(acquired.head(5))\n",
    "\n",
    "#using loc\n",
    "# data.loc[data['entities'] == '[]']\n",
    "# data.loc[:3]\n",
    "\n",
    "#using iloc\n",
    "# data.iloc[:3, 2:]\n",
    "\n",
    "upvotes_notzero = data.upvotes != 0\n",
    "data[upvotes_notzero]"
   ]
  },
  {
   "cell_type": "code",
   "execution_count": 6,
   "metadata": {},
   "outputs": [
    {
     "data": {
      "text/plain": [
       "0      2025-04-11 17:29:56\n",
       "1       2025-04-12 1:12:19\n",
       "2      2025-04-10 15:09:41\n",
       "3      2023-08-30 17:12:55\n",
       "4      2025-04-11 14:48:05\n",
       "              ...         \n",
       "842     2021-06-30 4:06:06\n",
       "843     2025-04-11 5:01:24\n",
       "844    2025-03-24 12:30:39\n",
       "845    2025-04-11 20:13:26\n",
       "846     2025-04-12 3:09:06\n",
       "Name: datetime, Length: 847, dtype: object"
      ]
     },
     "execution_count": 6,
     "metadata": {},
     "output_type": "execute_result"
    }
   ],
   "source": [
    "#Trying more queries\n",
    "# bool_name = data['post_id'] == 'mmijiuz'\n",
    "# data[bool_name]\n",
    "\n",
    "# query = \"SELECT * FROM data WHERE subreddit == 'wallstreetbets' LIMIT 20\"\n",
    "# result = sqldf(query)\n",
    "# print(result)\n",
    "\n",
    "data.loc[0:, 'datetime'] #specify the column name\n",
    "data.iloc[0:, 1] #search using the column index"
   ]
  },
  {
   "cell_type": "markdown",
   "metadata": {},
   "source": [
    "### Exercise 3\n",
    "For this exercise, I decide to fetch the records belonging to the ```comment``` type, and then query the data for every 10 records. I'll show 30 records for this exercise"
   ]
  },
  {
   "cell_type": "code",
   "execution_count": 7,
   "metadata": {},
   "outputs": [
    {
     "data": {
      "text/html": [
       "<div>\n",
       "<style scoped>\n",
       "    .dataframe tbody tr th:only-of-type {\n",
       "        vertical-align: middle;\n",
       "    }\n",
       "\n",
       "    .dataframe tbody tr th {\n",
       "        vertical-align: top;\n",
       "    }\n",
       "\n",
       "    .dataframe thead th {\n",
       "        text-align: right;\n",
       "    }\n",
       "</style>\n",
       "<table border=\"1\" class=\"dataframe\">\n",
       "  <thead>\n",
       "    <tr style=\"text-align: right;\">\n",
       "      <th></th>\n",
       "      <th>type</th>\n",
       "      <th>datetime</th>\n",
       "      <th>post_id</th>\n",
       "      <th>subreddit</th>\n",
       "      <th>title</th>\n",
       "      <th>author</th>\n",
       "      <th>url</th>\n",
       "      <th>upvotes</th>\n",
       "      <th>downvotes</th>\n",
       "      <th>upvote_ratio</th>\n",
       "      <th>text</th>\n",
       "      <th>subjectivity</th>\n",
       "      <th>polarity</th>\n",
       "      <th>sentiment</th>\n",
       "      <th>entities</th>\n",
       "      <th>label</th>\n",
       "    </tr>\n",
       "  </thead>\n",
       "  <tbody>\n",
       "    <tr>\n",
       "      <th>0</th>\n",
       "      <td>comment</td>\n",
       "      <td>2025-04-11 17:29:56</td>\n",
       "      <td>mmli62w</td>\n",
       "      <td>wallstreetbets</td>\n",
       "      <td>Retardation is on the menu boys! WSB is so back</td>\n",
       "      <td>StickyTip420</td>\n",
       "      <td>https://i.redd.it/0yq2ftren8ue1.jpeg</td>\n",
       "      <td>0</td>\n",
       "      <td>NaN</td>\n",
       "      <td>NaN</td>\n",
       "      <td>Calls on retards</td>\n",
       "      <td>1.000000</td>\n",
       "      <td>-0.900000</td>\n",
       "      <td>-1.0</td>\n",
       "      <td>[]</td>\n",
       "      <td>-1.0</td>\n",
       "    </tr>\n",
       "    <tr>\n",
       "      <th>11</th>\n",
       "      <td>comment</td>\n",
       "      <td>2025-04-12 2:51:20</td>\n",
       "      <td>mmo9e6r</td>\n",
       "      <td>wallstreetbets</td>\n",
       "      <td>Weekend Discussion Thread for the Weekend of A...</td>\n",
       "      <td>RememberTooSmile</td>\n",
       "      <td>https://www.reddit.com/r/wallstreetbets/commen...</td>\n",
       "      <td>9</td>\n",
       "      <td>NaN</td>\n",
       "      <td>NaN</td>\n",
       "      <td>this sub has ruined emails for me, whenever I ...</td>\n",
       "      <td>0.300000</td>\n",
       "      <td>1.000000</td>\n",
       "      <td>1.0</td>\n",
       "      <td>['sub', 'WSB', 'Best']</td>\n",
       "      <td>0.0</td>\n",
       "    </tr>\n",
       "    <tr>\n",
       "      <th>21</th>\n",
       "      <td>comment</td>\n",
       "      <td>2025-04-06 23:31:33</td>\n",
       "      <td>mls3ha1</td>\n",
       "      <td>stockstobuytoday</td>\n",
       "      <td>If you had $10k in cash…</td>\n",
       "      <td>Either_Breadfruit_90</td>\n",
       "      <td>https://www.reddit.com/r/stockstobuytoday/comm...</td>\n",
       "      <td>1</td>\n",
       "      <td>NaN</td>\n",
       "      <td>NaN</td>\n",
       "      <td>GEO WM</td>\n",
       "      <td>0.000000</td>\n",
       "      <td>0.000000</td>\n",
       "      <td>0.0</td>\n",
       "      <td>['GEO', 'WM']</td>\n",
       "      <td>0.0</td>\n",
       "    </tr>\n",
       "    <tr>\n",
       "      <th>31</th>\n",
       "      <td>comment</td>\n",
       "      <td>2024-08-17 5:32:56</td>\n",
       "      <td>liiwbkk</td>\n",
       "      <td>stockstobuytoday</td>\n",
       "      <td>Best EV / green mining stocks?</td>\n",
       "      <td>[deleted]</td>\n",
       "      <td>https://www.reddit.com/r/stockstobuytoday/comm...</td>\n",
       "      <td>1</td>\n",
       "      <td>NaN</td>\n",
       "      <td>NaN</td>\n",
       "      <td>$EVGO \\r\\n\\r\\n*Record Revenue increasing 5 str...</td>\n",
       "      <td>0.422268</td>\n",
       "      <td>0.107880</td>\n",
       "      <td>1.0</td>\n",
       "      <td>['Jeep', 'program', 'spike', '+', 'Honda', 'Eq...</td>\n",
       "      <td>0.0</td>\n",
       "    </tr>\n",
       "    <tr>\n",
       "      <th>41</th>\n",
       "      <td>comment</td>\n",
       "      <td>2021-05-03 22:17:48</td>\n",
       "      <td>gwu560b</td>\n",
       "      <td>stockstobuytoday</td>\n",
       "      <td>Shorted Stocks - Hedges crushing NAKD, FAMI, S...</td>\n",
       "      <td>Limp-Project5733</td>\n",
       "      <td>https://www.reddit.com/r/stockstobuytoday/comm...</td>\n",
       "      <td>1</td>\n",
       "      <td>NaN</td>\n",
       "      <td>NaN</td>\n",
       "      <td>And plug</td>\n",
       "      <td>0.000000</td>\n",
       "      <td>0.000000</td>\n",
       "      <td>0.0</td>\n",
       "      <td>['plug']</td>\n",
       "      <td>0.0</td>\n",
       "    </tr>\n",
       "    <tr>\n",
       "      <th>52</th>\n",
       "      <td>comment</td>\n",
       "      <td>2025-04-11 15:12:13</td>\n",
       "      <td>mmkq2am</td>\n",
       "      <td>wallstreetbets</td>\n",
       "      <td>[IPO] AIRO IPO: Aerospace &amp; Defense Play at $1...</td>\n",
       "      <td>likeitis121</td>\n",
       "      <td>https://i.redd.it/n22xlqjix7ue1.jpeg</td>\n",
       "      <td>2</td>\n",
       "      <td>NaN</td>\n",
       "      <td>NaN</td>\n",
       "      <td>&gt;I did some digging and found they had a gover...</td>\n",
       "      <td>0.000000</td>\n",
       "      <td>0.000000</td>\n",
       "      <td>0.0</td>\n",
       "      <td>[']', 'contract', 'Lockheed', 'Defense', 'gove...</td>\n",
       "      <td>-1.0</td>\n",
       "    </tr>\n",
       "    <tr>\n",
       "      <th>62</th>\n",
       "      <td>comment</td>\n",
       "      <td>2025-04-11 16:11:48</td>\n",
       "      <td>mml28yw</td>\n",
       "      <td>StockMarket</td>\n",
       "      <td>The Trump administration is begging Xi Jinping...</td>\n",
       "      <td>FumblersUnited</td>\n",
       "      <td>https://edition.cnn.com/2025/04/10/politics/tr...</td>\n",
       "      <td>1</td>\n",
       "      <td>NaN</td>\n",
       "      <td>NaN</td>\n",
       "      <td>Comedy gold :))</td>\n",
       "      <td>1.000000</td>\n",
       "      <td>0.500000</td>\n",
       "      <td>1.0</td>\n",
       "      <td>['Comedy', 'gold']</td>\n",
       "      <td>-1.0</td>\n",
       "    </tr>\n",
       "    <tr>\n",
       "      <th>75</th>\n",
       "      <td>comment</td>\n",
       "      <td>2025-03-27 21:15:26</td>\n",
       "      <td>mk2ot48</td>\n",
       "      <td>stocks</td>\n",
       "      <td>Rate My Portfolio - r/Stocks Quarterly Thread ...</td>\n",
       "      <td>BugDisastrous5135</td>\n",
       "      <td>https://www.reddit.com/r/stocks/comments/1j0w7...</td>\n",
       "      <td>1</td>\n",
       "      <td>NaN</td>\n",
       "      <td>NaN</td>\n",
       "      <td>\"New to investing\" but almost $50k port. Ok th...</td>\n",
       "      <td>0.477273</td>\n",
       "      <td>0.318182</td>\n",
       "      <td>1.0</td>\n",
       "      <td>['New', 'port']</td>\n",
       "      <td>0.0</td>\n",
       "    </tr>\n",
       "    <tr>\n",
       "      <th>85</th>\n",
       "      <td>comment</td>\n",
       "      <td>2024-01-30 17:26:49</td>\n",
       "      <td>kka99fk</td>\n",
       "      <td>stockstobuytoday</td>\n",
       "      <td>Whats up with Alternus Clean Energy?</td>\n",
       "      <td>bottomline77</td>\n",
       "      <td>https://www.reddit.com/r/stockstobuytoday/comm...</td>\n",
       "      <td>1</td>\n",
       "      <td>NaN</td>\n",
       "      <td>NaN</td>\n",
       "      <td>Note that clean energy is a promising sector f...</td>\n",
       "      <td>0.580000</td>\n",
       "      <td>0.253333</td>\n",
       "      <td>1.0</td>\n",
       "      <td>['Trump', 'energy', 'Too', 'Note', 'time', 'pr...</td>\n",
       "      <td>0.0</td>\n",
       "    </tr>\n",
       "    <tr>\n",
       "      <th>95</th>\n",
       "      <td>comment</td>\n",
       "      <td>2025-04-11 7:35:26</td>\n",
       "      <td>mmizh0f</td>\n",
       "      <td>StockMarket</td>\n",
       "      <td>Data Shows US Allies—Not China—Dumping Treasuries</td>\n",
       "      <td>macrolidesrule</td>\n",
       "      <td>https://i.redd.it/31r650bss4ue1.jpeg</td>\n",
       "      <td>1</td>\n",
       "      <td>NaN</td>\n",
       "      <td>NaN</td>\n",
       "      <td>Japan and the UK are the two largest holders o...</td>\n",
       "      <td>0.000000</td>\n",
       "      <td>0.000000</td>\n",
       "      <td>0.0</td>\n",
       "      <td>['UK', 'Japan', 'IIRC', 'T-Bills']</td>\n",
       "      <td>-1.0</td>\n",
       "    </tr>\n",
       "    <tr>\n",
       "      <th>106</th>\n",
       "      <td>comment</td>\n",
       "      <td>2025-04-11 15:07:23</td>\n",
       "      <td>mmkp2zk</td>\n",
       "      <td>StockMarket</td>\n",
       "      <td>The Trump administration is begging Xi Jinping...</td>\n",
       "      <td>Bartallica</td>\n",
       "      <td>https://edition.cnn.com/2025/04/10/politics/tr...</td>\n",
       "      <td>1</td>\n",
       "      <td>NaN</td>\n",
       "      <td>NaN</td>\n",
       "      <td>Over 9000%!</td>\n",
       "      <td>0.000000</td>\n",
       "      <td>0.000000</td>\n",
       "      <td>0.0</td>\n",
       "      <td>['%']</td>\n",
       "      <td>0.0</td>\n",
       "    </tr>\n",
       "    <tr>\n",
       "      <th>116</th>\n",
       "      <td>comment</td>\n",
       "      <td>2025-04-11 14:13:24</td>\n",
       "      <td>mmke8ye</td>\n",
       "      <td>stocks</td>\n",
       "      <td>r/Stocks Daily Discussion &amp; Fundamentals Frida...</td>\n",
       "      <td>badasimo</td>\n",
       "      <td>https://www.reddit.com/r/stocks/comments/1jwlr...</td>\n",
       "      <td>4</td>\n",
       "      <td>NaN</td>\n",
       "      <td>NaN</td>\n",
       "      <td>RKT is a crazy stock in general. Every dividen...</td>\n",
       "      <td>0.443750</td>\n",
       "      <td>-0.200000</td>\n",
       "      <td>-1.0</td>\n",
       "      <td>['call', 'surprise', 'RKT', 'dividend', 'stock']</td>\n",
       "      <td>1.0</td>\n",
       "    </tr>\n",
       "    <tr>\n",
       "      <th>126</th>\n",
       "      <td>comment</td>\n",
       "      <td>2024-08-22 21:01:51</td>\n",
       "      <td>ljfx7xl</td>\n",
       "      <td>stockstobuytoday</td>\n",
       "      <td>BUY $HOLO RIGHT NOW DONT MISS IT!!!!</td>\n",
       "      <td>ultrauranium</td>\n",
       "      <td>https://i.redd.it/zf0gwnkxf2kd1.jpeg</td>\n",
       "      <td>1</td>\n",
       "      <td>NaN</td>\n",
       "      <td>NaN</td>\n",
       "      <td>Thank you. Should we hold??</td>\n",
       "      <td>0.000000</td>\n",
       "      <td>0.000000</td>\n",
       "      <td>0.0</td>\n",
       "      <td>['Thank']</td>\n",
       "      <td>0.0</td>\n",
       "    </tr>\n",
       "    <tr>\n",
       "      <th>137</th>\n",
       "      <td>comment</td>\n",
       "      <td>2025-04-11 15:32:22</td>\n",
       "      <td>mmku73c</td>\n",
       "      <td>StockMarket</td>\n",
       "      <td>Trump: We Are Doing Really Well On Our Tariff ...</td>\n",
       "      <td>cimulate</td>\n",
       "      <td>https://i.redd.it/uajqu4kxl7ue1.png</td>\n",
       "      <td>1</td>\n",
       "      <td>NaN</td>\n",
       "      <td>NaN</td>\n",
       "      <td>Why is he signing his tweets like he's quoting...</td>\n",
       "      <td>1.000000</td>\n",
       "      <td>0.600000</td>\n",
       "      <td>1.0</td>\n",
       "      <td>['lmao']</td>\n",
       "      <td>-1.0</td>\n",
       "    </tr>\n",
       "    <tr>\n",
       "      <th>147</th>\n",
       "      <td>comment</td>\n",
       "      <td>2025-04-11 15:55:01</td>\n",
       "      <td>mmkyvpx</td>\n",
       "      <td>stocks</td>\n",
       "      <td>r/Stocks Daily Discussion &amp; Fundamentals Frida...</td>\n",
       "      <td>gamjatang111</td>\n",
       "      <td>https://www.reddit.com/r/stocks/comments/1jwlr...</td>\n",
       "      <td>1</td>\n",
       "      <td>NaN</td>\n",
       "      <td>NaN</td>\n",
       "      <td>Isnt that economics? What trump says have mass...</td>\n",
       "      <td>1.000000</td>\n",
       "      <td>0.000000</td>\n",
       "      <td>0.0</td>\n",
       "      <td>['impact', 'economy', 'trump', 'market', 'stoc...</td>\n",
       "      <td>-1.0</td>\n",
       "    </tr>\n",
       "    <tr>\n",
       "      <th>157</th>\n",
       "      <td>comment</td>\n",
       "      <td>2025-04-11 12:39:55</td>\n",
       "      <td>mmjxm0w</td>\n",
       "      <td>stocks</td>\n",
       "      <td>Is the market in complete denial right now?</td>\n",
       "      <td>Idontlikeredditorss</td>\n",
       "      <td>https://www.reddit.com/r/stocks/comments/1jwo1...</td>\n",
       "      <td>3</td>\n",
       "      <td>NaN</td>\n",
       "      <td>NaN</td>\n",
       "      <td>China raised tariffs even MORE a few hours ago...</td>\n",
       "      <td>0.525000</td>\n",
       "      <td>-0.350000</td>\n",
       "      <td>-1.0</td>\n",
       "      <td>['yo', 'Bing', 'life', 'Fuck', 'bong', 'market...</td>\n",
       "      <td>-1.0</td>\n",
       "    </tr>\n",
       "    <tr>\n",
       "      <th>173</th>\n",
       "      <td>comment</td>\n",
       "      <td>2021-03-03 15:53:23</td>\n",
       "      <td>gpjmlow</td>\n",
       "      <td>stockstobuytoday</td>\n",
       "      <td>RKT, GME, SENS, FUBO, SRNE, TXMD, INO, TXMD, I...</td>\n",
       "      <td>saasfin</td>\n",
       "      <td>https://www.reddit.com/r/stockstobuytoday/comm...</td>\n",
       "      <td>1</td>\n",
       "      <td>NaN</td>\n",
       "      <td>NaN</td>\n",
       "      <td>Add MIK</td>\n",
       "      <td>0.000000</td>\n",
       "      <td>0.000000</td>\n",
       "      <td>0.0</td>\n",
       "      <td>['Add', 'MIK']</td>\n",
       "      <td>0.0</td>\n",
       "    </tr>\n",
       "    <tr>\n",
       "      <th>184</th>\n",
       "      <td>comment</td>\n",
       "      <td>2025-04-11 13:30:21</td>\n",
       "      <td>mmk62hh</td>\n",
       "      <td>stocks</td>\n",
       "      <td>r/Stocks Daily Discussion &amp; Fundamentals Frida...</td>\n",
       "      <td>Left_Boat_3632</td>\n",
       "      <td>https://www.reddit.com/r/stocks/comments/1jwlr...</td>\n",
       "      <td>1</td>\n",
       "      <td>NaN</td>\n",
       "      <td>NaN</td>\n",
       "      <td>It’ll be interesting to see how companies amas...</td>\n",
       "      <td>0.314286</td>\n",
       "      <td>0.028571</td>\n",
       "      <td>1.0</td>\n",
       "      <td>['inventory', 'JIT', 'ability', 'shipping']</td>\n",
       "      <td>0.0</td>\n",
       "    </tr>\n",
       "    <tr>\n",
       "      <th>195</th>\n",
       "      <td>comment</td>\n",
       "      <td>2025-04-11 15:38:10</td>\n",
       "      <td>mmkvdoj</td>\n",
       "      <td>stocks</td>\n",
       "      <td>U.S. 10-year Treasury yields rise as Trump tar...</td>\n",
       "      <td>Material-Gift6823</td>\n",
       "      <td>https://www.reddit.com/r/stocks/comments/1jwfy...</td>\n",
       "      <td>1</td>\n",
       "      <td>NaN</td>\n",
       "      <td>NaN</td>\n",
       "      <td>So wait on tax day or after your expecting thi...</td>\n",
       "      <td>0.000000</td>\n",
       "      <td>0.000000</td>\n",
       "      <td>0.0</td>\n",
       "      <td>['tax', 'day']</td>\n",
       "      <td>0.0</td>\n",
       "    </tr>\n",
       "    <tr>\n",
       "      <th>205</th>\n",
       "      <td>comment</td>\n",
       "      <td>2025-04-12 3:07:26</td>\n",
       "      <td>mmobqf0</td>\n",
       "      <td>wallstreetbets</td>\n",
       "      <td>Someone post the hotline please.</td>\n",
       "      <td>stockmarkettrader</td>\n",
       "      <td>https://i.redd.it/tcfuu97p7bue1.jpeg</td>\n",
       "      <td>1</td>\n",
       "      <td>NaN</td>\n",
       "      <td>NaN</td>\n",
       "      <td>Nicely done</td>\n",
       "      <td>1.000000</td>\n",
       "      <td>0.600000</td>\n",
       "      <td>1.0</td>\n",
       "      <td>[]</td>\n",
       "      <td>1.0</td>\n",
       "    </tr>\n",
       "    <tr>\n",
       "      <th>215</th>\n",
       "      <td>comment</td>\n",
       "      <td>2024-04-10 12:59:19</td>\n",
       "      <td>kywypcj</td>\n",
       "      <td>stockstobuytoday</td>\n",
       "      <td>Anyone seen the latest $PSQH news?</td>\n",
       "      <td>adetailgeek</td>\n",
       "      <td>https://www.reddit.com/r/stockstobuytoday/comm...</td>\n",
       "      <td>2</td>\n",
       "      <td>NaN</td>\n",
       "      <td>NaN</td>\n",
       "      <td>Now this is some wholesome stuff more companie...</td>\n",
       "      <td>0.000000</td>\n",
       "      <td>0.000000</td>\n",
       "      <td>0.0</td>\n",
       "      <td>['stuff']</td>\n",
       "      <td>1.0</td>\n",
       "    </tr>\n",
       "    <tr>\n",
       "      <th>225</th>\n",
       "      <td>comment</td>\n",
       "      <td>2025-04-11 20:50:53</td>\n",
       "      <td>mmmly0v</td>\n",
       "      <td>wallstreetbets</td>\n",
       "      <td>Weekend Discussion Thread for the Weekend of A...</td>\n",
       "      <td>abbeynottooshabby</td>\n",
       "      <td>https://www.reddit.com/r/wallstreetbets/commen...</td>\n",
       "      <td>9</td>\n",
       "      <td>NaN</td>\n",
       "      <td>NaN</td>\n",
       "      <td>Looks like gyina is ready to let the \"phone ri...</td>\n",
       "      <td>0.500000</td>\n",
       "      <td>0.200000</td>\n",
       "      <td>1.0</td>\n",
       "      <td>['gyina', 'phone', 'ring', '/', 'hook']</td>\n",
       "      <td>0.0</td>\n",
       "    </tr>\n",
       "    <tr>\n",
       "      <th>235</th>\n",
       "      <td>comment</td>\n",
       "      <td>2025-04-11 10:59:08</td>\n",
       "      <td>mmjjkgs</td>\n",
       "      <td>StockMarket</td>\n",
       "      <td>🚨China responds to Trump’s 145% tariff with an...</td>\n",
       "      <td>eagermoron</td>\n",
       "      <td>https://i.redd.it/2f7y4h6226ue1.jpeg</td>\n",
       "      <td>12</td>\n",
       "      <td>NaN</td>\n",
       "      <td>NaN</td>\n",
       "      <td>6969% tariffs or riot.</td>\n",
       "      <td>0.000000</td>\n",
       "      <td>0.000000</td>\n",
       "      <td>0.0</td>\n",
       "      <td>['%', 'riot']</td>\n",
       "      <td>0.0</td>\n",
       "    </tr>\n",
       "    <tr>\n",
       "      <th>245</th>\n",
       "      <td>comment</td>\n",
       "      <td>2025-04-10 15:00:03</td>\n",
       "      <td>mmecxow</td>\n",
       "      <td>StockMarket</td>\n",
       "      <td>How do you feel about a sitting president maki...</td>\n",
       "      <td>Kpachecodark</td>\n",
       "      <td>https://apnews.com/article/trump-truth-social-...</td>\n",
       "      <td>1</td>\n",
       "      <td>NaN</td>\n",
       "      <td>NaN</td>\n",
       "      <td>Let him take it all and much more. I want his ...</td>\n",
       "      <td>0.500000</td>\n",
       "      <td>-0.400000</td>\n",
       "      <td>-1.0</td>\n",
       "      <td>['grift', 'president', 'end', 'time', 'cluster...</td>\n",
       "      <td>-1.0</td>\n",
       "    </tr>\n",
       "    <tr>\n",
       "      <th>256</th>\n",
       "      <td>comment</td>\n",
       "      <td>2025-04-11 9:47:20</td>\n",
       "      <td>mmjbt5e</td>\n",
       "      <td>StockMarket</td>\n",
       "      <td>🚨China responds to Trump’s 145% tariff with an...</td>\n",
       "      <td>ScalpelLin</td>\n",
       "      <td>https://i.redd.it/2f7y4h6226ue1.jpeg</td>\n",
       "      <td>2</td>\n",
       "      <td>NaN</td>\n",
       "      <td>NaN</td>\n",
       "      <td>Who created those refugees in the first place ...</td>\n",
       "      <td>0.333333</td>\n",
       "      <td>0.250000</td>\n",
       "      <td>1.0</td>\n",
       "      <td>['place']</td>\n",
       "      <td>0.0</td>\n",
       "    </tr>\n",
       "    <tr>\n",
       "      <th>266</th>\n",
       "      <td>comment</td>\n",
       "      <td>2025-04-11 21:22:20</td>\n",
       "      <td>mmmrtzq</td>\n",
       "      <td>wallstreetbets</td>\n",
       "      <td>Weekend Discussion Thread for the Weekend of A...</td>\n",
       "      <td>OPINION_IS_REGARDED</td>\n",
       "      <td>https://www.reddit.com/r/wallstreetbets/commen...</td>\n",
       "      <td>22</td>\n",
       "      <td>NaN</td>\n",
       "      <td>NaN</td>\n",
       "      <td>I am so addicted to this market I can't wait f...</td>\n",
       "      <td>0.600000</td>\n",
       "      <td>-0.400000</td>\n",
       "      <td>-1.0</td>\n",
       "      <td>['Monday', 'market']</td>\n",
       "      <td>1.0</td>\n",
       "    </tr>\n",
       "    <tr>\n",
       "      <th>276</th>\n",
       "      <td>comment</td>\n",
       "      <td>2025-04-11 16:23:03</td>\n",
       "      <td>mml4ik2</td>\n",
       "      <td>StockMarket</td>\n",
       "      <td>Trump: We Are Doing Really Well On Our Tariff ...</td>\n",
       "      <td>DVoteMe</td>\n",
       "      <td>https://i.redd.it/uajqu4kxl7ue1.png</td>\n",
       "      <td>1</td>\n",
       "      <td>NaN</td>\n",
       "      <td>NaN</td>\n",
       "      <td>His sneakers, guitars, and cyrpto (i am not na...</td>\n",
       "      <td>0.000000</td>\n",
       "      <td>0.000000</td>\n",
       "      <td>0.0</td>\n",
       "      <td>['everything', 'cyrpto']</td>\n",
       "      <td>0.0</td>\n",
       "    </tr>\n",
       "    <tr>\n",
       "      <th>287</th>\n",
       "      <td>comment</td>\n",
       "      <td>2025-04-11 20:17:15</td>\n",
       "      <td>mmmfd3n</td>\n",
       "      <td>wallstreetbets</td>\n",
       "      <td>Weekend Discussion Thread for the Weekend of A...</td>\n",
       "      <td>RoninKnight17</td>\n",
       "      <td>https://www.reddit.com/r/wallstreetbets/commen...</td>\n",
       "      <td>11</td>\n",
       "      <td>NaN</td>\n",
       "      <td>NaN</td>\n",
       "      <td>I did puts over the weekend, am I cooked ![img...</td>\n",
       "      <td>0.000000</td>\n",
       "      <td>0.000000</td>\n",
       "      <td>0.0</td>\n",
       "      <td>['emote|t5_2th52|4260', ']', 'emote|t5_2th52|3...</td>\n",
       "      <td>0.0</td>\n",
       "    </tr>\n",
       "    <tr>\n",
       "      <th>297</th>\n",
       "      <td>comment</td>\n",
       "      <td>2025-04-11 15:34:25</td>\n",
       "      <td>mmkum3j</td>\n",
       "      <td>stocks</td>\n",
       "      <td>BREAKING: China raises tariffs on U.S. goods t...</td>\n",
       "      <td>sarhoshamiral</td>\n",
       "      <td>https://www.reddit.com/r/stocks/comments/1jwku...</td>\n",
       "      <td>1</td>\n",
       "      <td>NaN</td>\n",
       "      <td>NaN</td>\n",
       "      <td>When you realize it is happening, it will be t...</td>\n",
       "      <td>0.646372</td>\n",
       "      <td>0.069388</td>\n",
       "      <td>1.0</td>\n",
       "      <td>['edge', 'US', 'something', 'Trump', 'part', '...</td>\n",
       "      <td>-1.0</td>\n",
       "    </tr>\n",
       "    <tr>\n",
       "      <th>307</th>\n",
       "      <td>comment</td>\n",
       "      <td>2025-03-11 16:35:20</td>\n",
       "      <td>mh882ra</td>\n",
       "      <td>stocks</td>\n",
       "      <td>Rate My Portfolio - r/Stocks Quarterly Thread ...</td>\n",
       "      <td>Jimlad73</td>\n",
       "      <td>https://www.reddit.com/r/stocks/comments/1j0w7...</td>\n",
       "      <td>1</td>\n",
       "      <td>NaN</td>\n",
       "      <td>NaN</td>\n",
       "      <td>Since I posted that comment I’m another 4% dow...</td>\n",
       "      <td>0.000000</td>\n",
       "      <td>0.000000</td>\n",
       "      <td>0.0</td>\n",
       "      <td>['comment', '%']</td>\n",
       "      <td>-1.0</td>\n",
       "    </tr>\n",
       "  </tbody>\n",
       "</table>\n",
       "</div>"
      ],
      "text/plain": [
       "        type             datetime  post_id         subreddit  \\\n",
       "0    comment  2025-04-11 17:29:56  mmli62w    wallstreetbets   \n",
       "11   comment   2025-04-12 2:51:20  mmo9e6r    wallstreetbets   \n",
       "21   comment  2025-04-06 23:31:33  mls3ha1  stockstobuytoday   \n",
       "31   comment   2024-08-17 5:32:56  liiwbkk  stockstobuytoday   \n",
       "41   comment  2021-05-03 22:17:48  gwu560b  stockstobuytoday   \n",
       "52   comment  2025-04-11 15:12:13  mmkq2am    wallstreetbets   \n",
       "62   comment  2025-04-11 16:11:48  mml28yw       StockMarket   \n",
       "75   comment  2025-03-27 21:15:26  mk2ot48            stocks   \n",
       "85   comment  2024-01-30 17:26:49  kka99fk  stockstobuytoday   \n",
       "95   comment   2025-04-11 7:35:26  mmizh0f       StockMarket   \n",
       "106  comment  2025-04-11 15:07:23  mmkp2zk       StockMarket   \n",
       "116  comment  2025-04-11 14:13:24  mmke8ye            stocks   \n",
       "126  comment  2024-08-22 21:01:51  ljfx7xl  stockstobuytoday   \n",
       "137  comment  2025-04-11 15:32:22  mmku73c       StockMarket   \n",
       "147  comment  2025-04-11 15:55:01  mmkyvpx            stocks   \n",
       "157  comment  2025-04-11 12:39:55  mmjxm0w            stocks   \n",
       "173  comment  2021-03-03 15:53:23  gpjmlow  stockstobuytoday   \n",
       "184  comment  2025-04-11 13:30:21  mmk62hh            stocks   \n",
       "195  comment  2025-04-11 15:38:10  mmkvdoj            stocks   \n",
       "205  comment   2025-04-12 3:07:26  mmobqf0    wallstreetbets   \n",
       "215  comment  2024-04-10 12:59:19  kywypcj  stockstobuytoday   \n",
       "225  comment  2025-04-11 20:50:53  mmmly0v    wallstreetbets   \n",
       "235  comment  2025-04-11 10:59:08  mmjjkgs       StockMarket   \n",
       "245  comment  2025-04-10 15:00:03  mmecxow       StockMarket   \n",
       "256  comment   2025-04-11 9:47:20  mmjbt5e       StockMarket   \n",
       "266  comment  2025-04-11 21:22:20  mmmrtzq    wallstreetbets   \n",
       "276  comment  2025-04-11 16:23:03  mml4ik2       StockMarket   \n",
       "287  comment  2025-04-11 20:17:15  mmmfd3n    wallstreetbets   \n",
       "297  comment  2025-04-11 15:34:25  mmkum3j            stocks   \n",
       "307  comment  2025-03-11 16:35:20  mh882ra            stocks   \n",
       "\n",
       "                                                 title                author  \\\n",
       "0      Retardation is on the menu boys! WSB is so back          StickyTip420   \n",
       "11   Weekend Discussion Thread for the Weekend of A...      RememberTooSmile   \n",
       "21                            If you had $10k in cash…  Either_Breadfruit_90   \n",
       "31                      Best EV / green mining stocks?             [deleted]   \n",
       "41   Shorted Stocks - Hedges crushing NAKD, FAMI, S...      Limp-Project5733   \n",
       "52   [IPO] AIRO IPO: Aerospace & Defense Play at $1...           likeitis121   \n",
       "62   The Trump administration is begging Xi Jinping...        FumblersUnited   \n",
       "75   Rate My Portfolio - r/Stocks Quarterly Thread ...     BugDisastrous5135   \n",
       "85                Whats up with Alternus Clean Energy?          bottomline77   \n",
       "95   Data Shows US Allies—Not China—Dumping Treasuries        macrolidesrule   \n",
       "106  The Trump administration is begging Xi Jinping...            Bartallica   \n",
       "116  r/Stocks Daily Discussion & Fundamentals Frida...              badasimo   \n",
       "126               BUY $HOLO RIGHT NOW DONT MISS IT!!!!          ultrauranium   \n",
       "137  Trump: We Are Doing Really Well On Our Tariff ...              cimulate   \n",
       "147  r/Stocks Daily Discussion & Fundamentals Frida...          gamjatang111   \n",
       "157        Is the market in complete denial right now?   Idontlikeredditorss   \n",
       "173  RKT, GME, SENS, FUBO, SRNE, TXMD, INO, TXMD, I...               saasfin   \n",
       "184  r/Stocks Daily Discussion & Fundamentals Frida...        Left_Boat_3632   \n",
       "195  U.S. 10-year Treasury yields rise as Trump tar...     Material-Gift6823   \n",
       "205                   Someone post the hotline please.     stockmarkettrader   \n",
       "215                 Anyone seen the latest $PSQH news?           adetailgeek   \n",
       "225  Weekend Discussion Thread for the Weekend of A...     abbeynottooshabby   \n",
       "235  🚨China responds to Trump’s 145% tariff with an...            eagermoron   \n",
       "245  How do you feel about a sitting president maki...          Kpachecodark   \n",
       "256  🚨China responds to Trump’s 145% tariff with an...            ScalpelLin   \n",
       "266  Weekend Discussion Thread for the Weekend of A...   OPINION_IS_REGARDED   \n",
       "276  Trump: We Are Doing Really Well On Our Tariff ...               DVoteMe   \n",
       "287  Weekend Discussion Thread for the Weekend of A...         RoninKnight17   \n",
       "297  BREAKING: China raises tariffs on U.S. goods t...         sarhoshamiral   \n",
       "307  Rate My Portfolio - r/Stocks Quarterly Thread ...              Jimlad73   \n",
       "\n",
       "                                                   url  upvotes  downvotes  \\\n",
       "0                 https://i.redd.it/0yq2ftren8ue1.jpeg        0        NaN   \n",
       "11   https://www.reddit.com/r/wallstreetbets/commen...        9        NaN   \n",
       "21   https://www.reddit.com/r/stockstobuytoday/comm...        1        NaN   \n",
       "31   https://www.reddit.com/r/stockstobuytoday/comm...        1        NaN   \n",
       "41   https://www.reddit.com/r/stockstobuytoday/comm...        1        NaN   \n",
       "52                https://i.redd.it/n22xlqjix7ue1.jpeg        2        NaN   \n",
       "62   https://edition.cnn.com/2025/04/10/politics/tr...        1        NaN   \n",
       "75   https://www.reddit.com/r/stocks/comments/1j0w7...        1        NaN   \n",
       "85   https://www.reddit.com/r/stockstobuytoday/comm...        1        NaN   \n",
       "95                https://i.redd.it/31r650bss4ue1.jpeg        1        NaN   \n",
       "106  https://edition.cnn.com/2025/04/10/politics/tr...        1        NaN   \n",
       "116  https://www.reddit.com/r/stocks/comments/1jwlr...        4        NaN   \n",
       "126               https://i.redd.it/zf0gwnkxf2kd1.jpeg        1        NaN   \n",
       "137                https://i.redd.it/uajqu4kxl7ue1.png        1        NaN   \n",
       "147  https://www.reddit.com/r/stocks/comments/1jwlr...        1        NaN   \n",
       "157  https://www.reddit.com/r/stocks/comments/1jwo1...        3        NaN   \n",
       "173  https://www.reddit.com/r/stockstobuytoday/comm...        1        NaN   \n",
       "184  https://www.reddit.com/r/stocks/comments/1jwlr...        1        NaN   \n",
       "195  https://www.reddit.com/r/stocks/comments/1jwfy...        1        NaN   \n",
       "205               https://i.redd.it/tcfuu97p7bue1.jpeg        1        NaN   \n",
       "215  https://www.reddit.com/r/stockstobuytoday/comm...        2        NaN   \n",
       "225  https://www.reddit.com/r/wallstreetbets/commen...        9        NaN   \n",
       "235               https://i.redd.it/2f7y4h6226ue1.jpeg       12        NaN   \n",
       "245  https://apnews.com/article/trump-truth-social-...        1        NaN   \n",
       "256               https://i.redd.it/2f7y4h6226ue1.jpeg        2        NaN   \n",
       "266  https://www.reddit.com/r/wallstreetbets/commen...       22        NaN   \n",
       "276                https://i.redd.it/uajqu4kxl7ue1.png        1        NaN   \n",
       "287  https://www.reddit.com/r/wallstreetbets/commen...       11        NaN   \n",
       "297  https://www.reddit.com/r/stocks/comments/1jwku...        1        NaN   \n",
       "307  https://www.reddit.com/r/stocks/comments/1j0w7...        1        NaN   \n",
       "\n",
       "     upvote_ratio                                               text  \\\n",
       "0             NaN                                   Calls on retards   \n",
       "11            NaN  this sub has ruined emails for me, whenever I ...   \n",
       "21            NaN                                             GEO WM   \n",
       "31            NaN  $EVGO \\r\\n\\r\\n*Record Revenue increasing 5 str...   \n",
       "41            NaN                                           And plug   \n",
       "52            NaN  >I did some digging and found they had a gover...   \n",
       "62            NaN                                    Comedy gold :))   \n",
       "75            NaN  \"New to investing\" but almost $50k port. Ok th...   \n",
       "85            NaN  Note that clean energy is a promising sector f...   \n",
       "95            NaN  Japan and the UK are the two largest holders o...   \n",
       "106           NaN                                        Over 9000%!   \n",
       "116           NaN  RKT is a crazy stock in general. Every dividen...   \n",
       "126           NaN                        Thank you. Should we hold??   \n",
       "137           NaN  Why is he signing his tweets like he's quoting...   \n",
       "147           NaN  Isnt that economics? What trump says have mass...   \n",
       "157           NaN  China raised tariffs even MORE a few hours ago...   \n",
       "173           NaN                                            Add MIK   \n",
       "184           NaN  It’ll be interesting to see how companies amas...   \n",
       "195           NaN  So wait on tax day or after your expecting thi...   \n",
       "205           NaN                                        Nicely done   \n",
       "215           NaN  Now this is some wholesome stuff more companie...   \n",
       "225           NaN  Looks like gyina is ready to let the \"phone ri...   \n",
       "235           NaN                             6969% tariffs or riot.   \n",
       "245           NaN  Let him take it all and much more. I want his ...   \n",
       "256           NaN  Who created those refugees in the first place ...   \n",
       "266           NaN  I am so addicted to this market I can't wait f...   \n",
       "276           NaN  His sneakers, guitars, and cyrpto (i am not na...   \n",
       "287           NaN  I did puts over the weekend, am I cooked ![img...   \n",
       "297           NaN  When you realize it is happening, it will be t...   \n",
       "307           NaN  Since I posted that comment I’m another 4% dow...   \n",
       "\n",
       "     subjectivity  polarity  sentiment  \\\n",
       "0        1.000000 -0.900000       -1.0   \n",
       "11       0.300000  1.000000        1.0   \n",
       "21       0.000000  0.000000        0.0   \n",
       "31       0.422268  0.107880        1.0   \n",
       "41       0.000000  0.000000        0.0   \n",
       "52       0.000000  0.000000        0.0   \n",
       "62       1.000000  0.500000        1.0   \n",
       "75       0.477273  0.318182        1.0   \n",
       "85       0.580000  0.253333        1.0   \n",
       "95       0.000000  0.000000        0.0   \n",
       "106      0.000000  0.000000        0.0   \n",
       "116      0.443750 -0.200000       -1.0   \n",
       "126      0.000000  0.000000        0.0   \n",
       "137      1.000000  0.600000        1.0   \n",
       "147      1.000000  0.000000        0.0   \n",
       "157      0.525000 -0.350000       -1.0   \n",
       "173      0.000000  0.000000        0.0   \n",
       "184      0.314286  0.028571        1.0   \n",
       "195      0.000000  0.000000        0.0   \n",
       "205      1.000000  0.600000        1.0   \n",
       "215      0.000000  0.000000        0.0   \n",
       "225      0.500000  0.200000        1.0   \n",
       "235      0.000000  0.000000        0.0   \n",
       "245      0.500000 -0.400000       -1.0   \n",
       "256      0.333333  0.250000        1.0   \n",
       "266      0.600000 -0.400000       -1.0   \n",
       "276      0.000000  0.000000        0.0   \n",
       "287      0.000000  0.000000        0.0   \n",
       "297      0.646372  0.069388        1.0   \n",
       "307      0.000000  0.000000        0.0   \n",
       "\n",
       "                                              entities  label  \n",
       "0                                                   []   -1.0  \n",
       "11                              ['sub', 'WSB', 'Best']    0.0  \n",
       "21                                       ['GEO', 'WM']    0.0  \n",
       "31   ['Jeep', 'program', 'spike', '+', 'Honda', 'Eq...    0.0  \n",
       "41                                            ['plug']    0.0  \n",
       "52   [']', 'contract', 'Lockheed', 'Defense', 'gove...   -1.0  \n",
       "62                                  ['Comedy', 'gold']   -1.0  \n",
       "75                                     ['New', 'port']    0.0  \n",
       "85   ['Trump', 'energy', 'Too', 'Note', 'time', 'pr...    0.0  \n",
       "95                  ['UK', 'Japan', 'IIRC', 'T-Bills']   -1.0  \n",
       "106                                              ['%']    0.0  \n",
       "116   ['call', 'surprise', 'RKT', 'dividend', 'stock']    1.0  \n",
       "126                                          ['Thank']    0.0  \n",
       "137                                           ['lmao']   -1.0  \n",
       "147  ['impact', 'economy', 'trump', 'market', 'stoc...   -1.0  \n",
       "157  ['yo', 'Bing', 'life', 'Fuck', 'bong', 'market...   -1.0  \n",
       "173                                     ['Add', 'MIK']    0.0  \n",
       "184        ['inventory', 'JIT', 'ability', 'shipping']    0.0  \n",
       "195                                     ['tax', 'day']    0.0  \n",
       "205                                                 []    1.0  \n",
       "215                                          ['stuff']    1.0  \n",
       "225            ['gyina', 'phone', 'ring', '/', 'hook']    0.0  \n",
       "235                                      ['%', 'riot']    0.0  \n",
       "245  ['grift', 'president', 'end', 'time', 'cluster...   -1.0  \n",
       "256                                          ['place']    0.0  \n",
       "266                               ['Monday', 'market']    1.0  \n",
       "276                           ['everything', 'cyrpto']    0.0  \n",
       "287  ['emote|t5_2th52|4260', ']', 'emote|t5_2th52|3...    0.0  \n",
       "297  ['edge', 'US', 'something', 'Trump', 'part', '...   -1.0  \n",
       "307                                   ['comment', '%']   -1.0  "
      ]
     },
     "execution_count": 7,
     "metadata": {},
     "output_type": "execute_result"
    }
   ],
   "source": [
    "temp_data = data.loc[data['type'] == 'comment']\n",
    "\n",
    "# print(temp_data)\n",
    "temp_data.iloc[::10].head(30)"
   ]
  },
  {
   "cell_type": "markdown",
   "metadata": {},
   "source": [
    "## 4. Data Mining Using Pandas"
   ]
  },
  {
   "cell_type": "markdown",
   "metadata": {},
   "source": [
    "### 4.1 Missing Values"
   ]
  },
  {
   "cell_type": "code",
   "execution_count": 8,
   "metadata": {},
   "outputs": [
    {
     "data": {
      "text/html": [
       "<div>\n",
       "<style scoped>\n",
       "    .dataframe tbody tr th:only-of-type {\n",
       "        vertical-align: middle;\n",
       "    }\n",
       "\n",
       "    .dataframe tbody tr th {\n",
       "        vertical-align: top;\n",
       "    }\n",
       "\n",
       "    .dataframe thead th {\n",
       "        text-align: right;\n",
       "    }\n",
       "</style>\n",
       "<table border=\"1\" class=\"dataframe\">\n",
       "  <thead>\n",
       "    <tr style=\"text-align: right;\">\n",
       "      <th></th>\n",
       "      <th>type</th>\n",
       "      <th>datetime</th>\n",
       "      <th>post_id</th>\n",
       "      <th>subreddit</th>\n",
       "      <th>title</th>\n",
       "      <th>author</th>\n",
       "      <th>url</th>\n",
       "      <th>upvotes</th>\n",
       "      <th>downvotes</th>\n",
       "      <th>upvote_ratio</th>\n",
       "      <th>text</th>\n",
       "      <th>subjectivity</th>\n",
       "      <th>polarity</th>\n",
       "      <th>sentiment</th>\n",
       "      <th>entities</th>\n",
       "      <th>label</th>\n",
       "    </tr>\n",
       "  </thead>\n",
       "  <tbody>\n",
       "    <tr>\n",
       "      <th>0</th>\n",
       "      <td>The amount of missing records is:</td>\n",
       "      <td>The amount of missing records is:</td>\n",
       "      <td>The amount of missing records is:</td>\n",
       "      <td>The amount of missing records is:</td>\n",
       "      <td>The amount of missing records is:</td>\n",
       "      <td>The amount of missing records is:</td>\n",
       "      <td>The amount of missing records is:</td>\n",
       "      <td>The amount of missing records is:</td>\n",
       "      <td>The amount of missing records is:</td>\n",
       "      <td>The amount of missing records is:</td>\n",
       "      <td>The amount of missing records is:</td>\n",
       "      <td>The amount of missing records is:</td>\n",
       "      <td>The amount of missing records is:</td>\n",
       "      <td>The amount of missing records is:</td>\n",
       "      <td>The amount of missing records is:</td>\n",
       "      <td>The amount of missing records is:</td>\n",
       "    </tr>\n",
       "    <tr>\n",
       "      <th>1</th>\n",
       "      <td>0</td>\n",
       "      <td>0</td>\n",
       "      <td>0</td>\n",
       "      <td>0</td>\n",
       "      <td>0</td>\n",
       "      <td>0</td>\n",
       "      <td>0</td>\n",
       "      <td>0</td>\n",
       "      <td>783</td>\n",
       "      <td>783</td>\n",
       "      <td>0</td>\n",
       "      <td>0</td>\n",
       "      <td>0</td>\n",
       "      <td>0</td>\n",
       "      <td>0</td>\n",
       "      <td>0</td>\n",
       "    </tr>\n",
       "  </tbody>\n",
       "</table>\n",
       "</div>"
      ],
      "text/plain": [
       "                                 type                            datetime  \\\n",
       "0  The amount of missing records is:   The amount of missing records is:    \n",
       "1                                   0                                   0   \n",
       "\n",
       "                              post_id                           subreddit  \\\n",
       "0  The amount of missing records is:   The amount of missing records is:    \n",
       "1                                   0                                   0   \n",
       "\n",
       "                                title                              author  \\\n",
       "0  The amount of missing records is:   The amount of missing records is:    \n",
       "1                                   0                                   0   \n",
       "\n",
       "                                  url                             upvotes  \\\n",
       "0  The amount of missing records is:   The amount of missing records is:    \n",
       "1                                   0                                   0   \n",
       "\n",
       "                            downvotes                        upvote_ratio  \\\n",
       "0  The amount of missing records is:   The amount of missing records is:    \n",
       "1                                 783                                 783   \n",
       "\n",
       "                                 text                        subjectivity  \\\n",
       "0  The amount of missing records is:   The amount of missing records is:    \n",
       "1                                   0                                   0   \n",
       "\n",
       "                             polarity                           sentiment  \\\n",
       "0  The amount of missing records is:   The amount of missing records is:    \n",
       "1                                   0                                   0   \n",
       "\n",
       "                             entities                               label  \n",
       "0  The amount of missing records is:   The amount of missing records is:   \n",
       "1                                   0                                   0  "
      ]
     },
     "execution_count": 8,
     "metadata": {},
     "output_type": "execute_result"
    }
   ],
   "source": [
    "#checking missing values\n",
    "import helpers.data_mining_helpers as dmh\n",
    "data.isnull().apply(lambda x: dmh.check_missing_values(x))"
   ]
  },
  {
   "cell_type": "markdown",
   "metadata": {},
   "source": [
    "### Exercise 4\n",
    "Checking the missing values from the row instead of column"
   ]
  },
  {
   "cell_type": "code",
   "execution_count": 9,
   "metadata": {},
   "outputs": [
    {
     "data": {
      "text/plain": [
       "0      (The amount of missing records is: , 2)\n",
       "1      (The amount of missing records is: , 2)\n",
       "2      (The amount of missing records is: , 2)\n",
       "3      (The amount of missing records is: , 0)\n",
       "4      (The amount of missing records is: , 2)\n",
       "                        ...                   \n",
       "842    (The amount of missing records is: , 2)\n",
       "843    (The amount of missing records is: , 2)\n",
       "844    (The amount of missing records is: , 0)\n",
       "845    (The amount of missing records is: , 2)\n",
       "846    (The amount of missing records is: , 2)\n",
       "Length: 847, dtype: object"
      ]
     },
     "execution_count": 9,
     "metadata": {},
     "output_type": "execute_result"
    }
   ],
   "source": [
    "# data\n",
    "\n",
    "data.isnull().apply(lambda x : dmh.check_missing_values(x), axis=1)"
   ]
  },
  {
   "cell_type": "code",
   "execution_count": null,
   "metadata": {},
   "outputs": [],
   "source": [
    "# missing_downvotes = data.downvotes.isnull() == True\n",
    "\n",
    "# print(missing_downvotes)\n",
    "# data[missing_downvotes]\n",
    "# data[missing_downvotes] = 0"
   ]
  },
  {
   "cell_type": "markdown",
   "metadata": {},
   "source": [
    "### Exercise 5\n",
    "Ensuring all the data that I checked is really empty:"
   ]
  },
  {
   "cell_type": "code",
   "execution_count": 10,
   "metadata": {},
   "outputs": [
    {
     "name": "stdout",
     "output_type": "stream",
     "text": [
      "0      True\n",
      "1      True\n",
      "2      True\n",
      "4      True\n",
      "5      True\n",
      "       ... \n",
      "841    True\n",
      "842    True\n",
      "843    True\n",
      "845    True\n",
      "846    True\n",
      "Name: downvotes, Length: 783, dtype: bool\n"
     ]
    }
   ],
   "source": [
    "empty_data = data['downvotes'].apply(lambda x : str(x).lower())\n",
    "empty_data = empty_data.apply(lambda x : True if x in ('nan', 'none', '') else False)\n",
    "\n",
    "# empty_data.head(3)\n",
    "print(empty_data.loc[empty_data[0:] == True]) #length = 783, so the data are all really empty instead of a text of nan or none\n",
    "# empty_data.isnull()"
   ]
  },
  {
   "cell_type": "markdown",
   "metadata": {},
   "source": [
    "Since an empty data is not good for the dataset and there are 783 records from 847 records in this dataset, it is not a good idea to leave the data be. At first I thought filling the values of 0 to the missing datas would be a good idea, but after researching about handling the missing datas, it turns out if I just insert 0 to the data, my dataset would be biased because of many insertions of 0 therefore making the database becomes bias. Then I also found out that median would be a good idea to use since it is robust to the outliers and suitable for skewed data.\n",
    "\n",
    "so for balanced data, we can use mode to fill in the data, then for skewed data, median is more preferable, in other hand mode is used for categorical data.\n",
    "\n",
    "in this case, I would say that it is safe to ignore the missing data, because there are too much missing records of ```upvotes``` and ```downvotes```, which means if I do something to them, it will make the data sooo much biased. Another way to fill in the data would be using a simple machine learning algorithm such as linear regression to learn from the patterns and fill in the data. But again, the sample complete data are too little. So, I'm afraid after I fill in the data, the data would be much skewed than now. But, I'll let it be for the next part and decide whether downvotes and upvotes are actually useful or not. If it's not useful, then I'll just drop the columns."
   ]
  },
  {
   "cell_type": "markdown",
   "metadata": {},
   "source": [
    "## 4.2 Duplicate Data\n",
    "Dealing with duplicate data of this dataset"
   ]
  },
  {
   "cell_type": "code",
   "execution_count": 11,
   "metadata": {},
   "outputs": [
    {
     "data": {
      "text/plain": [
       "0"
      ]
     },
     "execution_count": 11,
     "metadata": {},
     "output_type": "execute_result"
    }
   ],
   "source": [
    "#checking the dataset whether it has duplicate data or not\n",
    "\n",
    "len(data.loc[data.duplicated() == True])\n",
    "\n",
    "#or the numbers of duplicate can also be acquired by using sum because it will sum all the True values which has a value of 1\n",
    "#false values is equal to 0\n",
    "sum(data.duplicated())"
   ]
  },
  {
   "cell_type": "markdown",
   "metadata": {},
   "source": [
    "Since there is no duplicate data, we don't need to drop anything, but if there are some duplicates we can do:"
   ]
  },
  {
   "cell_type": "code",
   "execution_count": 12,
   "metadata": {},
   "outputs": [],
   "source": [
    "data.drop_duplicates(keep=False, inplace=True) \n",
    "#keep is to tell the function whether to keep the first occurence, last, or none (False)\n",
    "#inplace is used to save the changes directly to the dataframe"
   ]
  },
  {
   "cell_type": "markdown",
   "metadata": {},
   "source": [
    "## 5. Data Preprocessing"
   ]
  },
  {
   "cell_type": "markdown",
   "metadata": {},
   "source": [
    "### 5.1 Sampling\n",
    "Since I only have 847 records, I'd try to get half of the records as a sample for this dataset, and print first 20 records so that it will not take too much space to print"
   ]
  },
  {
   "cell_type": "code",
   "execution_count": 13,
   "metadata": {},
   "outputs": [
    {
     "data": {
      "text/html": [
       "<div>\n",
       "<style scoped>\n",
       "    .dataframe tbody tr th:only-of-type {\n",
       "        vertical-align: middle;\n",
       "    }\n",
       "\n",
       "    .dataframe tbody tr th {\n",
       "        vertical-align: top;\n",
       "    }\n",
       "\n",
       "    .dataframe thead th {\n",
       "        text-align: right;\n",
       "    }\n",
       "</style>\n",
       "<table border=\"1\" class=\"dataframe\">\n",
       "  <thead>\n",
       "    <tr style=\"text-align: right;\">\n",
       "      <th></th>\n",
       "      <th>type</th>\n",
       "      <th>datetime</th>\n",
       "      <th>post_id</th>\n",
       "      <th>subreddit</th>\n",
       "      <th>title</th>\n",
       "      <th>author</th>\n",
       "      <th>url</th>\n",
       "      <th>upvotes</th>\n",
       "      <th>downvotes</th>\n",
       "      <th>upvote_ratio</th>\n",
       "      <th>text</th>\n",
       "      <th>subjectivity</th>\n",
       "      <th>polarity</th>\n",
       "      <th>sentiment</th>\n",
       "      <th>entities</th>\n",
       "      <th>label</th>\n",
       "    </tr>\n",
       "  </thead>\n",
       "  <tbody>\n",
       "    <tr>\n",
       "      <th>655</th>\n",
       "      <td>comment</td>\n",
       "      <td>2025-04-11 15:05:09</td>\n",
       "      <td>mmkomnw</td>\n",
       "      <td>stocks</td>\n",
       "      <td>US consumer sentiment plummets to second-lowes...</td>\n",
       "      <td>yeltneb77</td>\n",
       "      <td>https://www.reddit.com/r/stocks/comments/1jwr3...</td>\n",
       "      <td>5</td>\n",
       "      <td>NaN</td>\n",
       "      <td>NaN</td>\n",
       "      <td>That’s an 11% drop, even with the delusional s...</td>\n",
       "      <td>0.000000</td>\n",
       "      <td>0.000000e+00</td>\n",
       "      <td>0.0</td>\n",
       "      <td>['delusional', '%', '’', 'drop', 'genius']</td>\n",
       "      <td>-1.0</td>\n",
       "    </tr>\n",
       "    <tr>\n",
       "      <th>342</th>\n",
       "      <td>comment</td>\n",
       "      <td>2025-04-12 3:04:05</td>\n",
       "      <td>mmob98a</td>\n",
       "      <td>wallstreetbets</td>\n",
       "      <td>Retail giant TARGET has now declined for 10 co...</td>\n",
       "      <td>iPlayedHockeInHS</td>\n",
       "      <td>https://i.redd.it/7tl6puv9waue1.jpeg</td>\n",
       "      <td>1</td>\n",
       "      <td>NaN</td>\n",
       "      <td>NaN</td>\n",
       "      <td>Chicken jockey</td>\n",
       "      <td>0.950000</td>\n",
       "      <td>-6.000000e-01</td>\n",
       "      <td>-1.0</td>\n",
       "      <td>['jockey', 'Chicken']</td>\n",
       "      <td>0.0</td>\n",
       "    </tr>\n",
       "    <tr>\n",
       "      <th>286</th>\n",
       "      <td>comment</td>\n",
       "      <td>2025-04-11 15:01:49</td>\n",
       "      <td>mmknyjc</td>\n",
       "      <td>stocks</td>\n",
       "      <td>r/Stocks Daily Discussion &amp; Fundamentals Frida...</td>\n",
       "      <td>FarrisAT</td>\n",
       "      <td>https://www.reddit.com/r/stocks/comments/1jwlr...</td>\n",
       "      <td>3</td>\n",
       "      <td>NaN</td>\n",
       "      <td>NaN</td>\n",
       "      <td>All of Xi’s cadres have worked for decades in ...</td>\n",
       "      <td>0.000000</td>\n",
       "      <td>0.000000e+00</td>\n",
       "      <td>0.0</td>\n",
       "      <td>['cabinet', 'wilderness', 'factory', 'Xi', 'Tr...</td>\n",
       "      <td>-1.0</td>\n",
       "    </tr>\n",
       "    <tr>\n",
       "      <th>119</th>\n",
       "      <td>comment</td>\n",
       "      <td>2025-04-11 14:44:24</td>\n",
       "      <td>mmkkfcy</td>\n",
       "      <td>StockMarket</td>\n",
       "      <td>The Trump administration is begging Xi Jinping...</td>\n",
       "      <td>Interesting-Ease8882</td>\n",
       "      <td>https://edition.cnn.com/2025/04/10/politics/tr...</td>\n",
       "      <td>1</td>\n",
       "      <td>NaN</td>\n",
       "      <td>NaN</td>\n",
       "      <td>China to the fucking moon. \\r\\n\\r\\nFuck that c...</td>\n",
       "      <td>0.700000</td>\n",
       "      <td>-5.000000e-01</td>\n",
       "      <td>-1.0</td>\n",
       "      <td>['moon', 'Fuck', 'fucking', 'clown', 'China']</td>\n",
       "      <td>-1.0</td>\n",
       "    </tr>\n",
       "    <tr>\n",
       "      <th>434</th>\n",
       "      <td>comment</td>\n",
       "      <td>2025-04-10 16:31:40</td>\n",
       "      <td>mmevh45</td>\n",
       "      <td>StockMarket</td>\n",
       "      <td>How do you feel about a sitting president maki...</td>\n",
       "      <td>GreenAldiers</td>\n",
       "      <td>https://apnews.com/article/trump-truth-social-...</td>\n",
       "      <td>2</td>\n",
       "      <td>NaN</td>\n",
       "      <td>NaN</td>\n",
       "      <td>Nancy Pelosi insider trading bad.... Donald Tr...</td>\n",
       "      <td>0.633333</td>\n",
       "      <td>5.551115e-17</td>\n",
       "      <td>1.0</td>\n",
       "      <td>['trading', '..', 'Trump', 'Pelosi', 'Nancy', ...</td>\n",
       "      <td>-1.0</td>\n",
       "    </tr>\n",
       "    <tr>\n",
       "      <th>463</th>\n",
       "      <td>comment</td>\n",
       "      <td>2025-04-11 15:08:52</td>\n",
       "      <td>mmkpdvd</td>\n",
       "      <td>stocks</td>\n",
       "      <td>r/Stocks Daily Discussion &amp; Fundamentals Frida...</td>\n",
       "      <td>FarrisAT</td>\n",
       "      <td>https://www.reddit.com/r/stocks/comments/1jwlr...</td>\n",
       "      <td>3</td>\n",
       "      <td>NaN</td>\n",
       "      <td>NaN</td>\n",
       "      <td>Art of the Deal</td>\n",
       "      <td>0.000000</td>\n",
       "      <td>0.000000e+00</td>\n",
       "      <td>0.0</td>\n",
       "      <td>['Deal', 'Art']</td>\n",
       "      <td>0.0</td>\n",
       "    </tr>\n",
       "    <tr>\n",
       "      <th>288</th>\n",
       "      <td>comment</td>\n",
       "      <td>2021-10-27 18:21:08</td>\n",
       "      <td>hia0dqr</td>\n",
       "      <td>stockstobuytoday</td>\n",
       "      <td>$FCEL, $PLUG $LCID daily tickets</td>\n",
       "      <td>saasfin</td>\n",
       "      <td>https://www.reddit.com/r/stockstobuytoday/comm...</td>\n",
       "      <td>1</td>\n",
       "      <td>NaN</td>\n",
       "      <td>NaN</td>\n",
       "      <td>$UAA</td>\n",
       "      <td>0.000000</td>\n",
       "      <td>0.000000e+00</td>\n",
       "      <td>0.0</td>\n",
       "      <td>['UAA']</td>\n",
       "      <td>0.0</td>\n",
       "    </tr>\n",
       "    <tr>\n",
       "      <th>613</th>\n",
       "      <td>comment</td>\n",
       "      <td>2025-04-11 14:16:14</td>\n",
       "      <td>mmket19</td>\n",
       "      <td>StockMarket</td>\n",
       "      <td>Trump: We Are Doing Really Well On Our Tariff ...</td>\n",
       "      <td>Blattgeist</td>\n",
       "      <td>https://i.redd.it/uajqu4kxl7ue1.png</td>\n",
       "      <td>1</td>\n",
       "      <td>NaN</td>\n",
       "      <td>NaN</td>\n",
       "      <td>404 Brain not found. Hm... I get the feeling t...</td>\n",
       "      <td>0.500000</td>\n",
       "      <td>-5.000000e-01</td>\n",
       "      <td>-1.0</td>\n",
       "      <td>['Matrix', 'Hm', 'feeling', 'Brain', 'nonsense...</td>\n",
       "      <td>0.0</td>\n",
       "    </tr>\n",
       "    <tr>\n",
       "      <th>65</th>\n",
       "      <td>comment</td>\n",
       "      <td>2021-02-01 15:39:03</td>\n",
       "      <td>gllyxg4</td>\n",
       "      <td>stocks</td>\n",
       "      <td>It's fucking awful seeing the \"Silver\" misinfo...</td>\n",
       "      <td>OmegaKitty1</td>\n",
       "      <td>https://www.reddit.com/r/stocks/comments/la34b...</td>\n",
       "      <td>1</td>\n",
       "      <td>NaN</td>\n",
       "      <td>NaN</td>\n",
       "      <td>I bought into silver companies and made a nice...</td>\n",
       "      <td>1.000000</td>\n",
       "      <td>6.000000e-01</td>\n",
       "      <td>1.0</td>\n",
       "      <td>['silver', 'amount', 'morning']</td>\n",
       "      <td>1.0</td>\n",
       "    </tr>\n",
       "    <tr>\n",
       "      <th>47</th>\n",
       "      <td>comment</td>\n",
       "      <td>2025-04-12 2:03:43</td>\n",
       "      <td>mmo27cl</td>\n",
       "      <td>wallstreetbets</td>\n",
       "      <td>Weekend Discussion Thread for the Weekend of A...</td>\n",
       "      <td>Elegant-Berry5192</td>\n",
       "      <td>https://www.reddit.com/r/wallstreetbets/commen...</td>\n",
       "      <td>11</td>\n",
       "      <td>NaN</td>\n",
       "      <td>NaN</td>\n",
       "      <td>Weekend thread is where the real ones at ![img...</td>\n",
       "      <td>0.300000</td>\n",
       "      <td>2.500000e-01</td>\n",
       "      <td>1.0</td>\n",
       "      <td>['thread', 'emote|t5_2th52|8883', 'img', ']', ...</td>\n",
       "      <td>0.0</td>\n",
       "    </tr>\n",
       "    <tr>\n",
       "      <th>827</th>\n",
       "      <td>comment</td>\n",
       "      <td>2025-04-11 14:42:51</td>\n",
       "      <td>mmkk45p</td>\n",
       "      <td>StockMarket</td>\n",
       "      <td>Trump: We Are Doing Really Well On Our Tariff ...</td>\n",
       "      <td>jacobatz</td>\n",
       "      <td>https://i.redd.it/uajqu4kxl7ue1.png</td>\n",
       "      <td>1</td>\n",
       "      <td>NaN</td>\n",
       "      <td>NaN</td>\n",
       "      <td>Exciting, I guess that’s one way to characteri...</td>\n",
       "      <td>0.800000</td>\n",
       "      <td>3.000000e-01</td>\n",
       "      <td>1.0</td>\n",
       "      <td>['Exciting', '’', 'way']</td>\n",
       "      <td>1.0</td>\n",
       "    </tr>\n",
       "    <tr>\n",
       "      <th>32</th>\n",
       "      <td>comment</td>\n",
       "      <td>2025-04-11 13:22:49</td>\n",
       "      <td>mmk4qd8</td>\n",
       "      <td>StockMarket</td>\n",
       "      <td>Data Shows US Allies—Not China—Dumping Treasuries</td>\n",
       "      <td>Kaffe-Mumriken</td>\n",
       "      <td>https://i.redd.it/31r650bss4ue1.jpeg</td>\n",
       "      <td>1</td>\n",
       "      <td>NaN</td>\n",
       "      <td>NaN</td>\n",
       "      <td>Sorry; I’m dumb but is this not just a USD to ...</td>\n",
       "      <td>0.750000</td>\n",
       "      <td>-4.375000e-01</td>\n",
       "      <td>-1.0</td>\n",
       "      <td>['chart', 'Sorry', 'USD', 'conversion', 'dumb']</td>\n",
       "      <td>0.0</td>\n",
       "    </tr>\n",
       "    <tr>\n",
       "      <th>8</th>\n",
       "      <td>comment</td>\n",
       "      <td>2021-02-01 15:36:32</td>\n",
       "      <td>gllyi5z</td>\n",
       "      <td>stocks</td>\n",
       "      <td>It's fucking awful seeing the \"Silver\" misinfo...</td>\n",
       "      <td>Blondbox</td>\n",
       "      <td>https://www.reddit.com/r/stocks/comments/la34b...</td>\n",
       "      <td>1</td>\n",
       "      <td>NaN</td>\n",
       "      <td>NaN</td>\n",
       "      <td>Am I the only one seeing the cup &amp; handle brea...</td>\n",
       "      <td>0.491818</td>\n",
       "      <td>5.704545e-02</td>\n",
       "      <td>1.0</td>\n",
       "      <td>['cup', 'Day', 'handle', 'pivot', 'Green', 'tr...</td>\n",
       "      <td>1.0</td>\n",
       "    </tr>\n",
       "    <tr>\n",
       "      <th>829</th>\n",
       "      <td>comment</td>\n",
       "      <td>2021-12-29 3:04:59</td>\n",
       "      <td>hqd35f9</td>\n",
       "      <td>stockstobuytoday</td>\n",
       "      <td>Any cheap stocks under $10?</td>\n",
       "      <td>Present_Wave3364</td>\n",
       "      <td>https://www.reddit.com/r/stockstobuytoday/comm...</td>\n",
       "      <td>3</td>\n",
       "      <td>NaN</td>\n",
       "      <td>NaN</td>\n",
       "      <td>Aurcana Silver. \\r\\n\\r\\nNevada Copper\\r\\n\\r\\nT...</td>\n",
       "      <td>0.000000</td>\n",
       "      <td>0.000000e+00</td>\n",
       "      <td>0.0</td>\n",
       "      <td>['Trillion', 'Nevada', 'Silver', 'Copper', 'En...</td>\n",
       "      <td>0.0</td>\n",
       "    </tr>\n",
       "    <tr>\n",
       "      <th>188</th>\n",
       "      <td>comment</td>\n",
       "      <td>2025-04-10 15:29:41</td>\n",
       "      <td>mmeivn1</td>\n",
       "      <td>StockMarket</td>\n",
       "      <td>How do you feel about a sitting president maki...</td>\n",
       "      <td>ma3918</td>\n",
       "      <td>https://apnews.com/article/trump-truth-social-...</td>\n",
       "      <td>1</td>\n",
       "      <td>NaN</td>\n",
       "      <td>NaN</td>\n",
       "      <td>How much did he lose the day, week, month  bef...</td>\n",
       "      <td>0.200000</td>\n",
       "      <td>2.000000e-01</td>\n",
       "      <td>1.0</td>\n",
       "      <td>['month', 'day', 'week', 'paper']</td>\n",
       "      <td>0.0</td>\n",
       "    </tr>\n",
       "    <tr>\n",
       "      <th>705</th>\n",
       "      <td>comment</td>\n",
       "      <td>2022-01-13 22:42:29</td>\n",
       "      <td>hsjt4uw</td>\n",
       "      <td>stockstobuytoday</td>\n",
       "      <td>$BBIG trending up last two days</td>\n",
       "      <td>7hurricanes</td>\n",
       "      <td>https://www.reddit.com/r/stockstobuytoday/comm...</td>\n",
       "      <td>3</td>\n",
       "      <td>NaN</td>\n",
       "      <td>NaN</td>\n",
       "      <td>Expecting the PR to be dropped any day on the ...</td>\n",
       "      <td>0.000000</td>\n",
       "      <td>0.000000e+00</td>\n",
       "      <td>0.0</td>\n",
       "      <td>['TYDE', 'day', 'PR', 'date', 'dividend', 'rec...</td>\n",
       "      <td>1.0</td>\n",
       "    </tr>\n",
       "    <tr>\n",
       "      <th>24</th>\n",
       "      <td>comment</td>\n",
       "      <td>2025-04-11 11:37:41</td>\n",
       "      <td>mmjohl7</td>\n",
       "      <td>stocks</td>\n",
       "      <td>BREAKING: China raises tariffs on U.S. goods t...</td>\n",
       "      <td>applecokecake</td>\n",
       "      <td>https://www.reddit.com/r/stocks/comments/1jwku...</td>\n",
       "      <td>1</td>\n",
       "      <td>NaN</td>\n",
       "      <td>NaN</td>\n",
       "      <td>Shop like a billionaire.</td>\n",
       "      <td>0.000000</td>\n",
       "      <td>0.000000e+00</td>\n",
       "      <td>0.0</td>\n",
       "      <td>['billionaire', 'Shop']</td>\n",
       "      <td>0.0</td>\n",
       "    </tr>\n",
       "    <tr>\n",
       "      <th>630</th>\n",
       "      <td>comment</td>\n",
       "      <td>2021-02-01 15:42:03</td>\n",
       "      <td>gllzfjr</td>\n",
       "      <td>stocks</td>\n",
       "      <td>It's fucking awful seeing the \"Silver\" misinfo...</td>\n",
       "      <td>twittidoo</td>\n",
       "      <td>https://www.reddit.com/r/stocks/comments/la34b...</td>\n",
       "      <td>1</td>\n",
       "      <td>NaN</td>\n",
       "      <td>NaN</td>\n",
       "      <td>Yes it's true. I bought myself silver earings</td>\n",
       "      <td>0.650000</td>\n",
       "      <td>3.500000e-01</td>\n",
       "      <td>1.0</td>\n",
       "      <td>['silver']</td>\n",
       "      <td>0.0</td>\n",
       "    </tr>\n",
       "    <tr>\n",
       "      <th>236</th>\n",
       "      <td>comment</td>\n",
       "      <td>2025-04-12 1:49:44</td>\n",
       "      <td>mmo01an</td>\n",
       "      <td>wallstreetbets</td>\n",
       "      <td>Retail giant TARGET has now declined for 10 co...</td>\n",
       "      <td>Hot-Ticket9440</td>\n",
       "      <td>https://i.redd.it/7tl6puv9waue1.jpeg</td>\n",
       "      <td>8</td>\n",
       "      <td>NaN</td>\n",
       "      <td>NaN</td>\n",
       "      <td>Or deal with the broken carts at Walmart. Targ...</td>\n",
       "      <td>0.450000</td>\n",
       "      <td>0.000000e+00</td>\n",
       "      <td>0.0</td>\n",
       "      <td>['Walmart', 'Target']</td>\n",
       "      <td>0.0</td>\n",
       "    </tr>\n",
       "    <tr>\n",
       "      <th>737</th>\n",
       "      <td>comment</td>\n",
       "      <td>2025-04-11 16:02:44</td>\n",
       "      <td>mml0g57</td>\n",
       "      <td>stocks</td>\n",
       "      <td>r/Stocks Daily Discussion &amp; Fundamentals Frida...</td>\n",
       "      <td>MutaliskGluon</td>\n",
       "      <td>https://www.reddit.com/r/stocks/comments/1jwlr...</td>\n",
       "      <td>1</td>\n",
       "      <td>NaN</td>\n",
       "      <td>NaN</td>\n",
       "      <td>Vix 7% up even with SPY up\\r\\n\\r\\nA storms a b...</td>\n",
       "      <td>0.000000</td>\n",
       "      <td>0.000000e+00</td>\n",
       "      <td>0.0</td>\n",
       "      <td>['SPY', 'brewing', '%', 'A']</td>\n",
       "      <td>1.0</td>\n",
       "    </tr>\n",
       "  </tbody>\n",
       "</table>\n",
       "</div>"
      ],
      "text/plain": [
       "        type             datetime  post_id         subreddit  \\\n",
       "655  comment  2025-04-11 15:05:09  mmkomnw            stocks   \n",
       "342  comment   2025-04-12 3:04:05  mmob98a    wallstreetbets   \n",
       "286  comment  2025-04-11 15:01:49  mmknyjc            stocks   \n",
       "119  comment  2025-04-11 14:44:24  mmkkfcy       StockMarket   \n",
       "434  comment  2025-04-10 16:31:40  mmevh45       StockMarket   \n",
       "463  comment  2025-04-11 15:08:52  mmkpdvd            stocks   \n",
       "288  comment  2021-10-27 18:21:08  hia0dqr  stockstobuytoday   \n",
       "613  comment  2025-04-11 14:16:14  mmket19       StockMarket   \n",
       "65   comment  2021-02-01 15:39:03  gllyxg4            stocks   \n",
       "47   comment   2025-04-12 2:03:43  mmo27cl    wallstreetbets   \n",
       "827  comment  2025-04-11 14:42:51  mmkk45p       StockMarket   \n",
       "32   comment  2025-04-11 13:22:49  mmk4qd8       StockMarket   \n",
       "8    comment  2021-02-01 15:36:32  gllyi5z            stocks   \n",
       "829  comment   2021-12-29 3:04:59  hqd35f9  stockstobuytoday   \n",
       "188  comment  2025-04-10 15:29:41  mmeivn1       StockMarket   \n",
       "705  comment  2022-01-13 22:42:29  hsjt4uw  stockstobuytoday   \n",
       "24   comment  2025-04-11 11:37:41  mmjohl7            stocks   \n",
       "630  comment  2021-02-01 15:42:03  gllzfjr            stocks   \n",
       "236  comment   2025-04-12 1:49:44  mmo01an    wallstreetbets   \n",
       "737  comment  2025-04-11 16:02:44  mml0g57            stocks   \n",
       "\n",
       "                                                 title                author  \\\n",
       "655  US consumer sentiment plummets to second-lowes...             yeltneb77   \n",
       "342  Retail giant TARGET has now declined for 10 co...      iPlayedHockeInHS   \n",
       "286  r/Stocks Daily Discussion & Fundamentals Frida...              FarrisAT   \n",
       "119  The Trump administration is begging Xi Jinping...  Interesting-Ease8882   \n",
       "434  How do you feel about a sitting president maki...          GreenAldiers   \n",
       "463  r/Stocks Daily Discussion & Fundamentals Frida...              FarrisAT   \n",
       "288                   $FCEL, $PLUG $LCID daily tickets               saasfin   \n",
       "613  Trump: We Are Doing Really Well On Our Tariff ...            Blattgeist   \n",
       "65   It's fucking awful seeing the \"Silver\" misinfo...           OmegaKitty1   \n",
       "47   Weekend Discussion Thread for the Weekend of A...     Elegant-Berry5192   \n",
       "827  Trump: We Are Doing Really Well On Our Tariff ...              jacobatz   \n",
       "32   Data Shows US Allies—Not China—Dumping Treasuries        Kaffe-Mumriken   \n",
       "8    It's fucking awful seeing the \"Silver\" misinfo...              Blondbox   \n",
       "829                        Any cheap stocks under $10?      Present_Wave3364   \n",
       "188  How do you feel about a sitting president maki...                ma3918   \n",
       "705                    $BBIG trending up last two days           7hurricanes   \n",
       "24   BREAKING: China raises tariffs on U.S. goods t...         applecokecake   \n",
       "630  It's fucking awful seeing the \"Silver\" misinfo...             twittidoo   \n",
       "236  Retail giant TARGET has now declined for 10 co...        Hot-Ticket9440   \n",
       "737  r/Stocks Daily Discussion & Fundamentals Frida...         MutaliskGluon   \n",
       "\n",
       "                                                   url  upvotes  downvotes  \\\n",
       "655  https://www.reddit.com/r/stocks/comments/1jwr3...        5        NaN   \n",
       "342               https://i.redd.it/7tl6puv9waue1.jpeg        1        NaN   \n",
       "286  https://www.reddit.com/r/stocks/comments/1jwlr...        3        NaN   \n",
       "119  https://edition.cnn.com/2025/04/10/politics/tr...        1        NaN   \n",
       "434  https://apnews.com/article/trump-truth-social-...        2        NaN   \n",
       "463  https://www.reddit.com/r/stocks/comments/1jwlr...        3        NaN   \n",
       "288  https://www.reddit.com/r/stockstobuytoday/comm...        1        NaN   \n",
       "613                https://i.redd.it/uajqu4kxl7ue1.png        1        NaN   \n",
       "65   https://www.reddit.com/r/stocks/comments/la34b...        1        NaN   \n",
       "47   https://www.reddit.com/r/wallstreetbets/commen...       11        NaN   \n",
       "827                https://i.redd.it/uajqu4kxl7ue1.png        1        NaN   \n",
       "32                https://i.redd.it/31r650bss4ue1.jpeg        1        NaN   \n",
       "8    https://www.reddit.com/r/stocks/comments/la34b...        1        NaN   \n",
       "829  https://www.reddit.com/r/stockstobuytoday/comm...        3        NaN   \n",
       "188  https://apnews.com/article/trump-truth-social-...        1        NaN   \n",
       "705  https://www.reddit.com/r/stockstobuytoday/comm...        3        NaN   \n",
       "24   https://www.reddit.com/r/stocks/comments/1jwku...        1        NaN   \n",
       "630  https://www.reddit.com/r/stocks/comments/la34b...        1        NaN   \n",
       "236               https://i.redd.it/7tl6puv9waue1.jpeg        8        NaN   \n",
       "737  https://www.reddit.com/r/stocks/comments/1jwlr...        1        NaN   \n",
       "\n",
       "     upvote_ratio                                               text  \\\n",
       "655           NaN  That’s an 11% drop, even with the delusional s...   \n",
       "342           NaN                                     Chicken jockey   \n",
       "286           NaN  All of Xi’s cadres have worked for decades in ...   \n",
       "119           NaN  China to the fucking moon. \\r\\n\\r\\nFuck that c...   \n",
       "434           NaN  Nancy Pelosi insider trading bad.... Donald Tr...   \n",
       "463           NaN                                    Art of the Deal   \n",
       "288           NaN                                               $UAA   \n",
       "613           NaN  404 Brain not found. Hm... I get the feeling t...   \n",
       "65            NaN  I bought into silver companies and made a nice...   \n",
       "47            NaN  Weekend thread is where the real ones at ![img...   \n",
       "827           NaN  Exciting, I guess that’s one way to characteri...   \n",
       "32            NaN  Sorry; I’m dumb but is this not just a USD to ...   \n",
       "8             NaN  Am I the only one seeing the cup & handle brea...   \n",
       "829           NaN  Aurcana Silver. \\r\\n\\r\\nNevada Copper\\r\\n\\r\\nT...   \n",
       "188           NaN  How much did he lose the day, week, month  bef...   \n",
       "705           NaN  Expecting the PR to be dropped any day on the ...   \n",
       "24            NaN                           Shop like a billionaire.   \n",
       "630           NaN      Yes it's true. I bought myself silver earings   \n",
       "236           NaN  Or deal with the broken carts at Walmart. Targ...   \n",
       "737           NaN  Vix 7% up even with SPY up\\r\\n\\r\\nA storms a b...   \n",
       "\n",
       "     subjectivity      polarity  sentiment  \\\n",
       "655      0.000000  0.000000e+00        0.0   \n",
       "342      0.950000 -6.000000e-01       -1.0   \n",
       "286      0.000000  0.000000e+00        0.0   \n",
       "119      0.700000 -5.000000e-01       -1.0   \n",
       "434      0.633333  5.551115e-17        1.0   \n",
       "463      0.000000  0.000000e+00        0.0   \n",
       "288      0.000000  0.000000e+00        0.0   \n",
       "613      0.500000 -5.000000e-01       -1.0   \n",
       "65       1.000000  6.000000e-01        1.0   \n",
       "47       0.300000  2.500000e-01        1.0   \n",
       "827      0.800000  3.000000e-01        1.0   \n",
       "32       0.750000 -4.375000e-01       -1.0   \n",
       "8        0.491818  5.704545e-02        1.0   \n",
       "829      0.000000  0.000000e+00        0.0   \n",
       "188      0.200000  2.000000e-01        1.0   \n",
       "705      0.000000  0.000000e+00        0.0   \n",
       "24       0.000000  0.000000e+00        0.0   \n",
       "630      0.650000  3.500000e-01        1.0   \n",
       "236      0.450000  0.000000e+00        0.0   \n",
       "737      0.000000  0.000000e+00        0.0   \n",
       "\n",
       "                                              entities  label  \n",
       "655         ['delusional', '%', '’', 'drop', 'genius']   -1.0  \n",
       "342                              ['jockey', 'Chicken']    0.0  \n",
       "286  ['cabinet', 'wilderness', 'factory', 'Xi', 'Tr...   -1.0  \n",
       "119      ['moon', 'Fuck', 'fucking', 'clown', 'China']   -1.0  \n",
       "434  ['trading', '..', 'Trump', 'Pelosi', 'Nancy', ...   -1.0  \n",
       "463                                    ['Deal', 'Art']    0.0  \n",
       "288                                            ['UAA']    0.0  \n",
       "613  ['Matrix', 'Hm', 'feeling', 'Brain', 'nonsense...    0.0  \n",
       "65                     ['silver', 'amount', 'morning']    1.0  \n",
       "47   ['thread', 'emote|t5_2th52|8883', 'img', ']', ...    0.0  \n",
       "827                           ['Exciting', '’', 'way']    1.0  \n",
       "32     ['chart', 'Sorry', 'USD', 'conversion', 'dumb']    0.0  \n",
       "8    ['cup', 'Day', 'handle', 'pivot', 'Green', 'tr...    1.0  \n",
       "829  ['Trillion', 'Nevada', 'Silver', 'Copper', 'En...    0.0  \n",
       "188                  ['month', 'day', 'week', 'paper']    0.0  \n",
       "705  ['TYDE', 'day', 'PR', 'date', 'dividend', 'rec...    1.0  \n",
       "24                             ['billionaire', 'Shop']    0.0  \n",
       "630                                         ['silver']    0.0  \n",
       "236                              ['Walmart', 'Target']    0.0  \n",
       "737                       ['SPY', 'brewing', '%', 'A']    1.0  "
      ]
     },
     "execution_count": 13,
     "metadata": {},
     "output_type": "execute_result"
    }
   ],
   "source": [
    "sample_data = data.sample(423)\n",
    "sample_data.head(20)"
   ]
  },
  {
   "cell_type": "markdown",
   "metadata": {},
   "source": [
    "### Exercise 6\n",
    "Comparing the original dataframe and the sampled dataframe"
   ]
  },
  {
   "cell_type": "code",
   "execution_count": null,
   "metadata": {},
   "outputs": [
    {
     "name": "stdout",
     "output_type": "stream",
     "text": [
      "       type             datetime  post_id         subreddit  \\\n",
      "0   comment  2025-04-11 17:29:56  mmli62w    wallstreetbets   \n",
      "1   comment   2025-04-12 1:12:19  mmnu7v9    wallstreetbets   \n",
      "2   comment  2025-04-10 15:09:41  mmeevio       StockMarket   \n",
      "3      post  2023-08-30 17:12:55  165kllm  stockstobuytoday   \n",
      "4   comment  2025-04-11 14:48:05  mmkl6bw       StockMarket   \n",
      "5   comment   2025-04-12 2:19:03  mmo4k9g    wallstreetbets   \n",
      "6   comment  2025-04-11 12:37:23  mmjx7vz            stocks   \n",
      "7   comment  2025-04-11 17:28:50  mmlhxwc    wallstreetbets   \n",
      "8   comment  2021-02-01 15:36:32  gllyi5z            stocks   \n",
      "9   comment  2021-12-31 16:29:49  hqp3kt4  stockstobuytoday   \n",
      "10  comment  2025-04-11 15:19:19  mmkri9d            stocks   \n",
      "11  comment   2025-04-12 2:51:20  mmo9e6r    wallstreetbets   \n",
      "12  comment   2025-04-11 5:55:28  mmipka9            stocks   \n",
      "13  comment  2025-03-04 23:49:37  mg20s26            stocks   \n",
      "14  comment  2025-04-11 13:46:40  mmk9151            stocks   \n",
      "15  comment  2021-02-01 18:30:18  glmpqsr            stocks   \n",
      "16  comment  2025-04-10 16:34:19  mmew0jm            stocks   \n",
      "17  comment  2025-04-11 16:03:04  mml0ijz            stocks   \n",
      "18  comment  2025-04-11 14:03:38  mmkcc4d       StockMarket   \n",
      "19  comment   2025-04-11 4:32:16  mmig2h2            stocks   \n",
      "\n",
      "                                                title                author  \\\n",
      "0     Retardation is on the menu boys! WSB is so back          StickyTip420   \n",
      "1   Retail giant TARGET has now declined for 10 co...  Comfortable-Dog-8437   \n",
      "2   How do you feel about a sitting president maki...          Btankersly66   \n",
      "3                               Who knows more? $VMAR             emiljenfn   \n",
      "4   The Trump administration is begging Xi Jinping...          Just-Big6411   \n",
      "5   Weekend Discussion Thread for the Weekend of A...           PolarNimbus   \n",
      "6         Is the market in complete denial right now?             stoniey84   \n",
      "7     Retardation is on the menu boys! WSB is so back             OSRSkarma   \n",
      "8   It's fucking awful seeing the \"Silver\" misinfo...              Blondbox   \n",
      "9                         Any cheap stocks under $10?                Zumuru   \n",
      "10  r/Stocks Daily Discussion & Fundamentals Frida...            MitchCurry   \n",
      "11  Weekend Discussion Thread for the Weekend of A...      RememberTooSmile   \n",
      "12  U.S. 10-year Treasury yields rise as Trump tar...            JBallMan23   \n",
      "13  Rate My Portfolio - r/Stocks Quarterly Thread ...       Miramarmechanic   \n",
      "14  r/Stocks Daily Discussion & Fundamentals Frida...   Odd-Temperature-791   \n",
      "15  It's fucking awful seeing the \"Silver\" misinfo...          nerokaeclone   \n",
      "16  PRESIDENT TRUMP JUST ASKED THE SUPREME COURT F...       hotgarbagevideo   \n",
      "17  The US bond market is continuing to crash. Wil...     BrotherlyShove791   \n",
      "18  Trump: We Are Doing Really Well On Our Tariff ...         freewilly7315   \n",
      "19  U.S. 10-year Treasury yields rise as Trump tar...              Vanman04   \n",
      "\n",
      "                                                  url  upvotes  downvotes  \\\n",
      "0                https://i.redd.it/0yq2ftren8ue1.jpeg        0        NaN   \n",
      "1                https://i.redd.it/7tl6puv9waue1.jpeg      -15        NaN   \n",
      "2   https://apnews.com/article/trump-truth-social-...        1        NaN   \n",
      "3   https://www.reddit.com/r/stockstobuytoday/comm...       30        0.0   \n",
      "4   https://edition.cnn.com/2025/04/10/politics/tr...        1        NaN   \n",
      "5   https://www.reddit.com/r/wallstreetbets/commen...       16        NaN   \n",
      "6   https://www.reddit.com/r/stocks/comments/1jwo1...        5        NaN   \n",
      "7                https://i.redd.it/0yq2ftren8ue1.jpeg       -3        NaN   \n",
      "8   https://www.reddit.com/r/stocks/comments/la34b...        1        NaN   \n",
      "9   https://www.reddit.com/r/stockstobuytoday/comm...        2        NaN   \n",
      "10  https://www.reddit.com/r/stocks/comments/1jwlr...        3        NaN   \n",
      "11  https://www.reddit.com/r/wallstreetbets/commen...        9        NaN   \n",
      "12  https://www.reddit.com/r/stocks/comments/1jwfy...        1        NaN   \n",
      "13  https://www.reddit.com/r/stocks/comments/1j0w7...        2        NaN   \n",
      "14  https://www.reddit.com/r/stocks/comments/1jwlr...        8        NaN   \n",
      "15  https://www.reddit.com/r/stocks/comments/la34b...        1        NaN   \n",
      "16  https://www.reddit.com/r/stocks/comments/1jvzr...        1        NaN   \n",
      "17  https://www.reddit.com/r/stocks/comments/1jwsz...        1        NaN   \n",
      "18                https://i.redd.it/uajqu4kxl7ue1.png        1        NaN   \n",
      "19  https://www.reddit.com/r/stocks/comments/1jwfy...       12        NaN   \n",
      "\n",
      "    upvote_ratio                                               text  \\\n",
      "0            NaN                                   Calls on retards   \n",
      "1            NaN  Stunt as in like why did they even make a big ...   \n",
      "2            NaN                  Seeing lots of red in the ticker.   \n",
      "3           0.98  Vision Marine Technologies Inc. is rewriting t...   \n",
      "4            NaN                           He didn’t say thank you.   \n",
      "5            NaN  Hoping to ejaculate in wet warm puss tonight, ...   \n",
      "6            NaN  Trump will respond to china increasing their t...   \n",
      "7            NaN  Confirmed not a trap. Its been like this for p...   \n",
      "8            NaN  Am I the only one seeing the cup & handle brea...   \n",
      "9            NaN  HLGN is $10. Hurry and catch it now before it ...   \n",
      "10           NaN       It's a copy/paste from a Bloomberg terminal.   \n",
      "11           NaN  this sub has ruined emails for me, whenever I ...   \n",
      "12           NaN  Honestly let the economy burn, maybe people wi...   \n",
      "13           NaN  \\r\\nI’ve been doing pretty good with this, but...   \n",
      "14           NaN                     USA begging China to call them   \n",
      "15           NaN                                 Disgusting tactics   \n",
      "16           NaN                                       Jesus Christ   \n",
      "17           NaN  Exactly this. Trump will blink first because, ...   \n",
      "18           NaN                                     Trump and dump   \n",
      "19           NaN  I think we are past the numbers. Just assume f...   \n",
      "\n",
      "    subjectivity  polarity  sentiment  \\\n",
      "0       1.000000 -0.900000       -1.0   \n",
      "1       0.177778  0.083333        1.0   \n",
      "2       0.000000  0.000000        0.0   \n",
      "3       0.646970  0.216383        1.0   \n",
      "4       0.000000  0.000000        0.0   \n",
      "5       0.500000  0.250000        1.0   \n",
      "6       0.380000 -0.108333       -1.0   \n",
      "7       0.700000  0.050000        1.0   \n",
      "8       0.491818  0.057045        1.0   \n",
      "9       0.000000  0.000000        0.0   \n",
      "10      0.000000  0.000000        0.0   \n",
      "11      0.300000  1.000000        1.0   \n",
      "12      0.900000  0.600000        1.0   \n",
      "13      0.513333  0.116667        1.0   \n",
      "14      0.000000  0.000000        0.0   \n",
      "15      1.000000 -1.000000       -1.0   \n",
      "16      0.000000  0.000000        0.0   \n",
      "17      0.369259  0.084444        1.0   \n",
      "18      0.000000  0.000000        0.0   \n",
      "19      0.451956  0.029337        1.0   \n",
      "\n",
      "                                             entities  label  \n",
      "0                                                  []   -1.0  \n",
      "1               ['Stunt', 'company', 'deal', 'place']    0.0  \n",
      "2                                          ['ticker']    0.0  \n",
      "3   ['watercraft', 'skill', 'power', ']', 'feat', ...    1.0  \n",
      "4                                                  []   -1.0  \n",
      "5                                 ['tonight', 'puss']    0.0  \n",
      "6   ['JPow', 'Jerome', 'i', 'reporting', 'Trump', ...   -1.0  \n",
      "7              ['Confirmed', 'mouth', 'word', 'trap']    0.0  \n",
      "8   ['cup', 'Day', 'handle', 'pivot', 'Green', 'tr...    1.0  \n",
      "9                           ['HLGN', 'Hurry', 'moon']    1.0  \n",
      "10            ['copy/paste', 'terminal', 'Bloomberg']    0.0  \n",
      "11                             ['sub', 'WSB', 'Best']    0.0  \n",
      "12                                ['burn', 'economy']   -1.0  \n",
      "13  ['Tltw', 'Brkb', 'Upro', 'Msci/Nvda', 't', '%'...    0.0  \n",
      "14                                   ['USA', 'China']    0.0  \n",
      "15                                                 []    0.0  \n",
      "16                                ['Jesus', 'Christ']   -1.0  \n",
      "17  ['war', 'removal', 'Tiananmen', 'Square', 'end...   -1.0  \n",
      "18                                          ['Trump']   -1.0  \n",
      "19  ['Hell', 'Far', 'stage', 'US', 'economy', 'par...   -1.0  \n",
      "        type             datetime  post_id         subreddit  \\\n",
      "655  comment  2025-04-11 15:05:09  mmkomnw            stocks   \n",
      "342  comment   2025-04-12 3:04:05  mmob98a    wallstreetbets   \n",
      "286  comment  2025-04-11 15:01:49  mmknyjc            stocks   \n",
      "119  comment  2025-04-11 14:44:24  mmkkfcy       StockMarket   \n",
      "434  comment  2025-04-10 16:31:40  mmevh45       StockMarket   \n",
      "463  comment  2025-04-11 15:08:52  mmkpdvd            stocks   \n",
      "288  comment  2021-10-27 18:21:08  hia0dqr  stockstobuytoday   \n",
      "613  comment  2025-04-11 14:16:14  mmket19       StockMarket   \n",
      "65   comment  2021-02-01 15:39:03  gllyxg4            stocks   \n",
      "47   comment   2025-04-12 2:03:43  mmo27cl    wallstreetbets   \n",
      "827  comment  2025-04-11 14:42:51  mmkk45p       StockMarket   \n",
      "32   comment  2025-04-11 13:22:49  mmk4qd8       StockMarket   \n",
      "8    comment  2021-02-01 15:36:32  gllyi5z            stocks   \n",
      "829  comment   2021-12-29 3:04:59  hqd35f9  stockstobuytoday   \n",
      "188  comment  2025-04-10 15:29:41  mmeivn1       StockMarket   \n",
      "705  comment  2022-01-13 22:42:29  hsjt4uw  stockstobuytoday   \n",
      "24   comment  2025-04-11 11:37:41  mmjohl7            stocks   \n",
      "630  comment  2021-02-01 15:42:03  gllzfjr            stocks   \n",
      "236  comment   2025-04-12 1:49:44  mmo01an    wallstreetbets   \n",
      "737  comment  2025-04-11 16:02:44  mml0g57            stocks   \n",
      "\n",
      "                                                 title                author  \\\n",
      "655  US consumer sentiment plummets to second-lowes...             yeltneb77   \n",
      "342  Retail giant TARGET has now declined for 10 co...      iPlayedHockeInHS   \n",
      "286  r/Stocks Daily Discussion & Fundamentals Frida...              FarrisAT   \n",
      "119  The Trump administration is begging Xi Jinping...  Interesting-Ease8882   \n",
      "434  How do you feel about a sitting president maki...          GreenAldiers   \n",
      "463  r/Stocks Daily Discussion & Fundamentals Frida...              FarrisAT   \n",
      "288                   $FCEL, $PLUG $LCID daily tickets               saasfin   \n",
      "613  Trump: We Are Doing Really Well On Our Tariff ...            Blattgeist   \n",
      "65   It's fucking awful seeing the \"Silver\" misinfo...           OmegaKitty1   \n",
      "47   Weekend Discussion Thread for the Weekend of A...     Elegant-Berry5192   \n",
      "827  Trump: We Are Doing Really Well On Our Tariff ...              jacobatz   \n",
      "32   Data Shows US Allies—Not China—Dumping Treasuries        Kaffe-Mumriken   \n",
      "8    It's fucking awful seeing the \"Silver\" misinfo...              Blondbox   \n",
      "829                        Any cheap stocks under $10?      Present_Wave3364   \n",
      "188  How do you feel about a sitting president maki...                ma3918   \n",
      "705                    $BBIG trending up last two days           7hurricanes   \n",
      "24   BREAKING: China raises tariffs on U.S. goods t...         applecokecake   \n",
      "630  It's fucking awful seeing the \"Silver\" misinfo...             twittidoo   \n",
      "236  Retail giant TARGET has now declined for 10 co...        Hot-Ticket9440   \n",
      "737  r/Stocks Daily Discussion & Fundamentals Frida...         MutaliskGluon   \n",
      "\n",
      "                                                   url  upvotes  downvotes  \\\n",
      "655  https://www.reddit.com/r/stocks/comments/1jwr3...        5        NaN   \n",
      "342               https://i.redd.it/7tl6puv9waue1.jpeg        1        NaN   \n",
      "286  https://www.reddit.com/r/stocks/comments/1jwlr...        3        NaN   \n",
      "119  https://edition.cnn.com/2025/04/10/politics/tr...        1        NaN   \n",
      "434  https://apnews.com/article/trump-truth-social-...        2        NaN   \n",
      "463  https://www.reddit.com/r/stocks/comments/1jwlr...        3        NaN   \n",
      "288  https://www.reddit.com/r/stockstobuytoday/comm...        1        NaN   \n",
      "613                https://i.redd.it/uajqu4kxl7ue1.png        1        NaN   \n",
      "65   https://www.reddit.com/r/stocks/comments/la34b...        1        NaN   \n",
      "47   https://www.reddit.com/r/wallstreetbets/commen...       11        NaN   \n",
      "827                https://i.redd.it/uajqu4kxl7ue1.png        1        NaN   \n",
      "32                https://i.redd.it/31r650bss4ue1.jpeg        1        NaN   \n",
      "8    https://www.reddit.com/r/stocks/comments/la34b...        1        NaN   \n",
      "829  https://www.reddit.com/r/stockstobuytoday/comm...        3        NaN   \n",
      "188  https://apnews.com/article/trump-truth-social-...        1        NaN   \n",
      "705  https://www.reddit.com/r/stockstobuytoday/comm...        3        NaN   \n",
      "24   https://www.reddit.com/r/stocks/comments/1jwku...        1        NaN   \n",
      "630  https://www.reddit.com/r/stocks/comments/la34b...        1        NaN   \n",
      "236               https://i.redd.it/7tl6puv9waue1.jpeg        8        NaN   \n",
      "737  https://www.reddit.com/r/stocks/comments/1jwlr...        1        NaN   \n",
      "\n",
      "     upvote_ratio                                               text  \\\n",
      "655           NaN  That’s an 11% drop, even with the delusional s...   \n",
      "342           NaN                                     Chicken jockey   \n",
      "286           NaN  All of Xi’s cadres have worked for decades in ...   \n",
      "119           NaN  China to the fucking moon. \\r\\n\\r\\nFuck that c...   \n",
      "434           NaN  Nancy Pelosi insider trading bad.... Donald Tr...   \n",
      "463           NaN                                    Art of the Deal   \n",
      "288           NaN                                               $UAA   \n",
      "613           NaN  404 Brain not found. Hm... I get the feeling t...   \n",
      "65            NaN  I bought into silver companies and made a nice...   \n",
      "47            NaN  Weekend thread is where the real ones at ![img...   \n",
      "827           NaN  Exciting, I guess that’s one way to characteri...   \n",
      "32            NaN  Sorry; I’m dumb but is this not just a USD to ...   \n",
      "8             NaN  Am I the only one seeing the cup & handle brea...   \n",
      "829           NaN  Aurcana Silver. \\r\\n\\r\\nNevada Copper\\r\\n\\r\\nT...   \n",
      "188           NaN  How much did he lose the day, week, month  bef...   \n",
      "705           NaN  Expecting the PR to be dropped any day on the ...   \n",
      "24            NaN                           Shop like a billionaire.   \n",
      "630           NaN      Yes it's true. I bought myself silver earings   \n",
      "236           NaN  Or deal with the broken carts at Walmart. Targ...   \n",
      "737           NaN  Vix 7% up even with SPY up\\r\\n\\r\\nA storms a b...   \n",
      "\n",
      "     subjectivity      polarity  sentiment  \\\n",
      "655      0.000000  0.000000e+00        0.0   \n",
      "342      0.950000 -6.000000e-01       -1.0   \n",
      "286      0.000000  0.000000e+00        0.0   \n",
      "119      0.700000 -5.000000e-01       -1.0   \n",
      "434      0.633333  5.551115e-17        1.0   \n",
      "463      0.000000  0.000000e+00        0.0   \n",
      "288      0.000000  0.000000e+00        0.0   \n",
      "613      0.500000 -5.000000e-01       -1.0   \n",
      "65       1.000000  6.000000e-01        1.0   \n",
      "47       0.300000  2.500000e-01        1.0   \n",
      "827      0.800000  3.000000e-01        1.0   \n",
      "32       0.750000 -4.375000e-01       -1.0   \n",
      "8        0.491818  5.704545e-02        1.0   \n",
      "829      0.000000  0.000000e+00        0.0   \n",
      "188      0.200000  2.000000e-01        1.0   \n",
      "705      0.000000  0.000000e+00        0.0   \n",
      "24       0.000000  0.000000e+00        0.0   \n",
      "630      0.650000  3.500000e-01        1.0   \n",
      "236      0.450000  0.000000e+00        0.0   \n",
      "737      0.000000  0.000000e+00        0.0   \n",
      "\n",
      "                                              entities  label  \n",
      "655         ['delusional', '%', '’', 'drop', 'genius']   -1.0  \n",
      "342                              ['jockey', 'Chicken']    0.0  \n",
      "286  ['cabinet', 'wilderness', 'factory', 'Xi', 'Tr...   -1.0  \n",
      "119      ['moon', 'Fuck', 'fucking', 'clown', 'China']   -1.0  \n",
      "434  ['trading', '..', 'Trump', 'Pelosi', 'Nancy', ...   -1.0  \n",
      "463                                    ['Deal', 'Art']    0.0  \n",
      "288                                            ['UAA']    0.0  \n",
      "613  ['Matrix', 'Hm', 'feeling', 'Brain', 'nonsense...    0.0  \n",
      "65                     ['silver', 'amount', 'morning']    1.0  \n",
      "47   ['thread', 'emote|t5_2th52|8883', 'img', ']', ...    0.0  \n",
      "827                           ['Exciting', '’', 'way']    1.0  \n",
      "32     ['chart', 'Sorry', 'USD', 'conversion', 'dumb']    0.0  \n",
      "8    ['cup', 'Day', 'handle', 'pivot', 'Green', 'tr...    1.0  \n",
      "829  ['Trillion', 'Nevada', 'Silver', 'Copper', 'En...    0.0  \n",
      "188                  ['month', 'day', 'week', 'paper']    0.0  \n",
      "705  ['TYDE', 'day', 'PR', 'date', 'dividend', 'rec...    1.0  \n",
      "24                             ['billionaire', 'Shop']    0.0  \n",
      "630                                         ['silver']    0.0  \n",
      "236                              ['Walmart', 'Target']    0.0  \n",
      "737                       ['SPY', 'brewing', '%', 'A']    1.0  \n"
     ]
    }
   ],
   "source": [
    "print(data.head(20))\n",
    "print(sample_data.head(20))\n",
    "\n",
    "#again the difference would be the different index since sampling takes random data from the original dataset and put it inside\n",
    "#so the index would not be ordered ascendingly, rather the data would be randomly taken and put inside"
   ]
  },
  {
   "cell_type": "markdown",
   "metadata": {},
   "source": [
    "Print the Barchart of the type"
   ]
  },
  {
   "cell_type": "code",
   "execution_count": 15,
   "metadata": {},
   "outputs": [
    {
     "data": {
      "text/plain": [
       "<Axes: xlabel='type', ylabel='amount'>"
      ]
     },
     "execution_count": 15,
     "metadata": {},
     "output_type": "execute_result"
    },
    {
     "data": {
      "image/png": "[encoded data removed]",
      "text/plain": [
       "<Figure size 600x800 with 1 Axes>"
      ]
     },
     "metadata": {},
     "output_type": "display_data"
    }
   ],
   "source": [
    "data.type.value_counts().plot(\n",
    "    kind='bar',\n",
    "    figsize=[6,8],\n",
    "    fontsize=11,\n",
    "    rot=0,\n",
    "    ylim=[0, len(data)],\n",
    "    ylabel=('amount')\n",
    ")"
   ]
  },
  {
   "cell_type": "markdown",
   "metadata": {},
   "source": [
    "### Exercise 7\n",
    "I'd consider to use another way to plot the graph and make the y limit based on the maximum value of y"
   ]
  },
  {
   "cell_type": "code",
   "execution_count": 16,
   "metadata": {},
   "outputs": [
    {
     "data": {
      "text/plain": [
       "[Text(0, 2, '783'), Text(0, 2, '64')]"
      ]
     },
     "execution_count": 16,
     "metadata": {},
     "output_type": "execute_result"
    },
    {
     "data": {
      "image/png": "[encoded data removed]",
      "text/plain": [
       "<Figure size 600x800 with 1 Axes>"
      ]
     },
     "metadata": {},
     "output_type": "display_data"
    }
   ],
   "source": [
    "fig, ax = plt.subplots(figsize=(6,8))\n",
    "type_value = data.type.value_counts()\n",
    "bars = ax.bar(type_value.index, type_value.values)\n",
    "ax.set_title(\"Value of each type of reddit stock sentiments datasets\")\n",
    "ax.set_ylim(bottom=0, top=max(type_value)+35)\n",
    "ax.bar_label(bars, padding=2)"
   ]
  },
  {
   "cell_type": "markdown",
   "metadata": {},
   "source": [
    "### Exercise 8\n",
    "plot the bar graph of the sample and original data within the same figure"
   ]
  },
  {
   "cell_type": "code",
   "execution_count": 17,
   "metadata": {},
   "outputs": [
    {
     "name": "stdout",
     "output_type": "stream",
     "text": [
      "[0 1]\n"
     ]
    },
    {
     "data": {
      "image/png": "[encoded data removed]",
      "text/plain": [
       "<Figure size 600x800 with 1 Axes>"
      ]
     },
     "metadata": {},
     "output_type": "display_data"
    }
   ],
   "source": [
    "fig, ax = plt.subplots(figsize=(6,8))\n",
    "fig.suptitle(\"Types of Reddit-Stock Sentiment, original vs sample data\")\n",
    "\n",
    "original_val = data.type.value_counts()\n",
    "sample_val = sample_data.type.value_counts()\n",
    "\n",
    "width= 0.35\n",
    "\n",
    "index = np.arange(len(original_val.index))\n",
    "print(index)\n",
    "\n",
    "original_bar = ax.bar(index - width/2, original_val.values, width=width, label=\"original data\")\n",
    "sample_bar = ax.bar(index + width/2, sample_val.values, width=width, label=\"sample data\")\n",
    "\n",
    "#set the interval of x with the arange of NDArray, set the labels too\n",
    "ax.set_xticks(index)\n",
    "ax.set_xticklabels(original_val.index)\n",
    "ax.set_ylim(0, max(original_val) + 30)\n",
    "ax.legend()\n",
    "\n",
    "plt.tight_layout()\n",
    "plt.show()\n",
    "\n",
    "# sample_val"
   ]
  },
  {
   "cell_type": "markdown",
   "metadata": {},
   "source": [
    "## 5.2 Feature Creation"
   ]
  },
  {
   "cell_type": "code",
   "execution_count": 18,
   "metadata": {},
   "outputs": [
    {
     "name": "stderr",
     "output_type": "stream",
     "text": [
      "[nltk_data] Downloading package punkt to C:\\Users\\Patrick\n",
      "[nltk_data]     Thelysander\\AppData\\Roaming\\nltk_data...\n",
      "[nltk_data]   Package punkt is already up-to-date!\n",
      "[nltk_data] Downloading package punkt_tab to C:\\Users\\Patrick\n",
      "[nltk_data]     Thelysander\\AppData\\Roaming\\nltk_data...\n",
      "[nltk_data]   Package punkt_tab is already up-to-date!\n"
     ]
    },
    {
     "data": {
      "text/plain": [
       "True"
      ]
     },
     "execution_count": 18,
     "metadata": {},
     "output_type": "execute_result"
    }
   ],
   "source": [
    "import nltk\n",
    "nltk.download(\"punkt\")\n",
    "nltk.download(\"punkt_tab\")"
   ]
  },
  {
   "cell_type": "markdown",
   "metadata": {},
   "source": [
    "Using DMH to tokenize the text"
   ]
  },
  {
   "cell_type": "code",
   "execution_count": null,
   "metadata": {},
   "outputs": [],
   "source": [
    "data['unigrams'] = data['text'].apply(lambda x: dmh.tokenize_text(x)) #dmh uses the nltk package"
   ]
  },
  {
   "cell_type": "code",
   "execution_count": 199,
   "metadata": {},
   "outputs": [
    {
     "name": "stdout",
     "output_type": "stream",
     "text": [
      "0                                 [Calls, on, retards]\n",
      "1    [Stunt, as, in, like, why, did, they, even, ma...\n",
      "2          [Seeing, lots, of, red, in, the, ticker, .]\n",
      "3    [Vision, Marine, Technologies, Inc., is, rewri...\n",
      "Name: unigrams, dtype: object \n",
      "\n",
      "[['Calls', 'on', 'retards'], ['Stunt', 'as', 'in', 'like', 'why', 'did', 'they', 'even', 'make', 'a', 'big', 'deal', 'about', 'starting', 'it', 'in', 'the', 'first', 'place', '?', 'No', 'company', 'should', 'ever', 'talk', 'about', 'politics', 'ever', '.'], ['Seeing', 'lots', 'of', 'red', 'in', 'the', 'ticker', '.'], ['Vision', 'Marine', 'Technologies', 'Inc.', 'is', 'rewriting', 'the', 'watercraft', 'rulebook', '.', 'Their', 'collaboration', 'with', 'Shaun', 'Torrente', 'has', 'achieved', 'the', 'unthinkable', '–', 'a', 'blazing', '116', 'mph', 'on', 'water', '!', 'This', 'is', \"n't\", 'just', 'about', 'speed', ';', 'it', \"'s\", 'about', 'propelling', 'electric', 'boating', 'into', 'a', 'new', 'era', '.', 'Their', 'cutting-edge', 'technology', ',', 'combined', 'with', 'Torrente', \"'s\", 'skill', ',', 'is', 'making', 'waves', 'that', \"'ll\", 'ripple', 'for', 'generations', '.', '*', '*', 'Highlight', 'Main', 'Points', '*', '*', '*', 'Vision', 'Marine', 'Technologies', 'Inc.', 'achieves', 'a', 'record-breaking', '116', 'mph', 'speed', 'on', 'water', 'with', 'Shaun', 'Torrente', '.', '*', 'The', 'feat', 'highlights', 'the', 'power', 'of', 'electric', 'boating', 'and', 'pushes', 'the', 'limits', 'of', 'innovation', '.', '*', 'Partners', 'like', 'Octillion', 'Power', 'Systems', 'and', 'Danfoss', 'Editron', 'contribute', 'to', 'this', 'groundbreaking', 'achievement', '.', '*', '*', 'TLDR', '*', '*', 'Hold', 'onto', 'your', 'seats', '–', 'Vision', 'Marine', 'Technologies', 'Inc.', 'and', 'Shaun', 'Torrente', 'have', 'shattered', 'the', 'water-speed', 'record', 'at', 'an', 'astonishing', '116', 'mph', '!', 'This', 'is', \"n't\", 'just', 'about', 'speed', ';', 'it', \"'s\", 'about', 'pioneering', 'electric', 'boating', 'and', 'innovation', '.', 'The', 'collaboration', 'of', 'technology', ',', 'skill', ',', 'and', 'passion', 'is', 'creating', 'ripples', 'that', \"'ll\", 'be', 'felt', 'for', 'years', 'to', 'come', 'in', 'the', 'world', 'of', 'watercraft', '.', '[', ']', '(', ')']]\n"
     ]
    }
   ],
   "source": [
    "print(data[0:4]['unigrams'], '\\n')\n",
    "print(list(data[0:4]['unigrams']))"
   ]
  },
  {
   "cell_type": "markdown",
   "metadata": {},
   "source": [
    "## 5.3 Feature Selection"
   ]
  },
  {
   "cell_type": "markdown",
   "metadata": {},
   "source": [
    "Since the feature extract had been done and we can get the extracted feature straight out from the entities column, we can just straight up use that column instead of using the tokenized text by DMH"
   ]
  },
  {
   "cell_type": "code",
   "execution_count": 22,
   "metadata": {},
   "outputs": [
    {
     "name": "stdout",
     "output_type": "stream",
     "text": [
      "  (np.int32(0), np.int32(1829))\t1\n",
      "  (np.int32(0), np.int32(408))\t1\n",
      "  (np.int32(0), np.int32(514))\t1\n",
      "  (np.int32(0), np.int32(1450))\t1\n"
     ]
    }
   ],
   "source": [
    "from sklearn.feature_extraction.text import CountVectorizer\n",
    "\n",
    "feature_extract = CountVectorizer()\n",
    "data_feature_count = feature_extract.fit_transform(data.entities)\n",
    "print(data_feature_count[1])"
   ]
  },
  {
   "cell_type": "markdown",
   "metadata": {},
   "source": [
    "### Exercise 9\n",
    "use the analyzer to tokenize the text"
   ]
  },
  {
   "cell_type": "code",
   "execution_count": 23,
   "metadata": {},
   "outputs": [
    {
     "data": {
      "text/plain": [
       "['xi',\n",
       " 'is',\n",
       " 'calm',\n",
       " 'and',\n",
       " 'sure',\n",
       " 'footed',\n",
       " 'in',\n",
       " 'his',\n",
       " 'response',\n",
       " 'to',\n",
       " 'trump',\n",
       " 'while',\n",
       " 'trump',\n",
       " 'is',\n",
       " 'irrational',\n",
       " 'and',\n",
       " 'makes',\n",
       " 'quick',\n",
       " 'decisions',\n",
       " 'without',\n",
       " 'considering',\n",
       " 'the',\n",
       " 'consequence',\n",
       " 'also',\n",
       " 'he',\n",
       " 'stupid']"
      ]
     },
     "execution_count": 23,
     "metadata": {},
     "output_type": "execute_result"
    }
   ],
   "source": [
    "analyzer = feature_extract.build_analyzer()\n",
    "analyzer(data.loc[np.random.randint(len(data)), 'text'])"
   ]
  },
  {
   "cell_type": "code",
   "execution_count": 24,
   "metadata": {},
   "outputs": [
    {
     "data": {
      "text/plain": [
       "2148"
      ]
     },
     "execution_count": 24,
     "metadata": {},
     "output_type": "execute_result"
    }
   ],
   "source": [
    "feature_extract.get_feature_names_out()\n",
    "len(feature_extract.get_feature_names_out())"
   ]
  },
  {
   "cell_type": "code",
   "execution_count": 31,
   "metadata": {},
   "outputs": [
    {
     "data": {
      "text/plain": [
       "array([[0, 0, 0, ..., 0, 0, 0],\n",
       "       [0, 0, 0, ..., 0, 0, 0],\n",
       "       [0, 0, 0, ..., 0, 0, 0],\n",
       "       ...,\n",
       "       [0, 0, 0, ..., 0, 0, 0],\n",
       "       [0, 0, 0, ..., 0, 0, 0],\n",
       "       [0, 0, 0, ..., 0, 0, 0]])"
      ]
     },
     "execution_count": 31,
     "metadata": {},
     "output_type": "execute_result"
    }
   ],
   "source": [
    "data_feature_count.get_shape()\n",
    "\n",
    "data_feature_count[0:20, :100].toarray()"
   ]
  },
  {
   "cell_type": "markdown",
   "metadata": {},
   "source": [
    "### Exercise 10"
   ]
  },
  {
   "cell_type": "code",
   "execution_count": 28,
   "metadata": {},
   "outputs": [
    {
     "name": "stdout",
     "output_type": "stream",
     "text": [
      "['12' '31224']\n",
      "['achievement' 'am']\n"
     ]
    }
   ],
   "source": [
    "temp_array = data_feature_count[0:20, :100].toarray()\n",
    "\n",
    "found_words = np.where(temp_array == 1)\n",
    "\n",
    "for x in found_words:\n",
    "    print(feature_extract.get_feature_names_out()[x])\n",
    "# print(temp_array)\n",
    "# print(found_words)"
   ]
  },
  {
   "cell_type": "code",
   "execution_count": 36,
   "metadata": {},
   "outputs": [
    {
     "data": {
      "image/png": "[encoded data removed]",
      "text/plain": [
       "<Figure size 1000x1000 with 2 Axes>"
      ]
     },
     "metadata": {},
     "output_type": "display_data"
    }
   ],
   "source": [
    "import seaborn as sns\n",
    "\n",
    "plot_x = [\"term \" + str(x) for x in feature_extract.get_feature_names_out()[:30]]\n",
    "plot_y = ['doc ' + str(x) for x in list(data.index[0:20])]\n",
    "plot_z = data_feature_count[0:20, 0:30].toarray()\n",
    "\n",
    "plot_z\n",
    "\n",
    "# print(plot_x)\n",
    "# print(plot_y)\n",
    "\n",
    "df = pd.DataFrame(plot_z, columns=plot_x, index=plot_y)\n",
    "plt.subplots(figsize=(10,10))\n",
    "\n",
    "ax=sns.heatmap(\n",
    "    df, cmap=\"PuRd\", vmin=0, vmax=0, annot=True\n",
    ")"
   ]
  },
  {
   "cell_type": "markdown",
   "metadata": {},
   "source": [
    "### Exercise 11"
   ]
  },
  {
   "cell_type": "code",
   "execution_count": null,
   "metadata": {},
   "outputs": [
    {
     "data": {
      "text/plain": [
       "<Axes: >"
      ]
     },
     "execution_count": 37,
     "metadata": {},
     "output_type": "execute_result"
    },
    {
     "data": {
      "image/png": "[encoded data removed]",
      "text/plain": [
       "<Figure size 800x1000 with 2 Axes>"
      ]
     },
     "metadata": {},
     "output_type": "display_data"
    }
   ],
   "source": [
    "plot_valuable = []\n",
    "\n",
    "for index, x in enumerate (data_feature_count[0:, 0:20].toarray()):\n",
    "    for dex, y in enumerate(x):\n",
    "        if y==1:\n",
    "            plot_valuable.append(index)\n",
    "            continue\n",
    "\n",
    "# plot_valuable\n",
    "\n",
    "plot_z = data_feature_count[plot_valuable[0:20],0:20].toarray()\n",
    "plot_y = ['doc' + str(x) for x in data.index[0:20]]\n",
    "plot_x = ['term'+ str(x) for x in feature_extract.get_feature_names_out()[0:20]]\n",
    "\n",
    "df = pd.DataFrame(data=plot_z, columns=plot_x, index=plot_y)\n",
    "plt.subplots(figsize=(8, 10))\n",
    "plt.suptitle(\"Heatmap of reddit-stock-sentiment text\")\n",
    "sns.heatmap(\n",
    "    data=df,\n",
    "    cmap=\"PuRd\",\n",
    "    vmin=0,\n",
    "    vmax=1,\n",
    "    annot=True\n",
    ")"
   ]
  },
  {
   "cell_type": "markdown",
   "metadata": {},
   "source": [
    "## 5.4 Attribute Transformation / Aggregation"
   ]
  },
  {
   "cell_type": "code",
   "execution_count": 38,
   "metadata": {},
   "outputs": [],
   "source": [
    "term_frequencies=[]\n",
    "\n",
    "for x in range(0, data_feature_count.shape[1]):\n",
    "    term_frequencies.append(sum(data_feature_count[:, x].toarray()))"
   ]
  },
  {
   "cell_type": "code",
   "execution_count": 39,
   "metadata": {},
   "outputs": [],
   "source": [
    "term_frequencies = np.asarray(data_feature_count.sum(axis=0))[0]"
   ]
  },
  {
   "cell_type": "code",
   "execution_count": 40,
   "metadata": {},
   "outputs": [
    {
     "data": {
      "text/plain": [
       "np.int64(3)"
      ]
     },
     "execution_count": 40,
     "metadata": {},
     "output_type": "execute_result"
    }
   ],
   "source": [
    "term_frequencies[0]"
   ]
  },
  {
   "cell_type": "code",
   "execution_count": 41,
   "metadata": {},
   "outputs": [
    {
     "name": "stderr",
     "output_type": "stream",
     "text": [
      "C:\\Users\\Patrick Thelysander\\AppData\\Local\\Temp\\ipykernel_11100\\3097626551.py:11: UserWarning: set_ticklabels() should only be used with a fixed number of ticks, i.e. after set_ticks() or using a FixedLocator.\n",
      "  graph.set_xticklabels(feature_extract.get_feature_names_out()[:300], rotation=90);\n"
     ]
    },
    {
     "data": {
      "image/png": "[encoded data removed]",
      "text/plain": [
       "<Figure size 10000x1000 with 1 Axes>"
      ]
     },
     "metadata": {},
     "output_type": "display_data"
    }
   ],
   "source": [
    "# plt.subplots(figsize=(100, 10))\n",
    "# g = sns.barplot(x=feature_extract.get_feature_names_out()[:300], \n",
    "#             y=term_frequencies[:300])\n",
    "# g.set_xticklabels(feature_extract.get_feature_names_out()[:300], rotation = 90);\n",
    "\n",
    "plt.subplots(figsize=(100,10))\n",
    "graph = sns.barplot(\n",
    "    x=feature_extract.get_feature_names_out()[:300],\n",
    "    y=term_frequencies[:300]\n",
    ")\n",
    "graph.set_xticklabels(feature_extract.get_feature_names_out()[:300], rotation=90);"
   ]
  },
  {
   "cell_type": "markdown",
   "metadata": {},
   "source": [
    "### Exercise 12 \n",
    "Using plotly to plot"
   ]
  },
  {
   "cell_type": "code",
   "execution_count": 42,
   "metadata": {},
   "outputs": [
    {
     "data": {
      "application/vnd.plotly.v1+json": {
       "config": {
        "plotlyServerURL": "https://plot.ly"
       },
       "data": [
        {
         "hovertemplate": "x=%{x}<br>y=%{y}<extra></extra>",
         "legendgroup": "",
         "marker": {
          "color": "#636efa",
          "pattern": {
           "shape": ""
          }
         },
         "name": "",
         "orientation": "v",
         "showlegend": false,
         "textposition": "auto",
         "type": "bar",
         "x": [
          "00",
          "10",
          "11",
          "12",
          "18630",
          "23",
          "25",
          "2fapps",
          "31224",
          "31225",
          "3306",
          "3f",
          "3oz8xzgfhartvh99yi",
          "4260",
          "4267",
          "4271",
          "4359",
          "50",
          "75",
          "8882",
          "8883",
          "aapl",
          "ability",
          "abuse",
          "access",
          "account",
          "acct",
          "acgl",
          "achievement",
          "achilles",
          "acn",
          "acquisition",
          "act",
          "action",
          "activity",
          "actual",
          "ad",
          "adausd",
          "add",
          "addition",
          "admin",
          "administration",
          "admit",
          "adobe",
          "adp",
          "adult",
          "advantage",
          "advice",
          "advisor",
          "aerc",
          "aerocontractors",
          "affect",
          "africa",
          "afternoon",
          "agane",
          "age",
          "agenda",
          "agentnlp",
          "agnew",
          "agolf",
          "agreed",
          "agreement",
          "agriculture",
          "ai",
          "aid",
          "aiming",
          "air",
          "aircraft",
          "airline",
          "airlines",
          "airplane",
          "all",
          "allocation",
          "ally",
          "almasria",
          "am",
          "amazon",
          "amc",
          "amd",
          "amendment",
          "america",
          "american",
          "americas",
          "amirite",
          "amount",
          "amzn",
          "anal",
          "analysis",
          "analyst",
          "and",
          "andrew",
          "anduril",
          "anger",
          "animal",
          "anime",
          "any",
          "anyone",
          "anything",
          "anyway",
          "aoc",
          "ape",
          "app",
          "apple",
          "approval",
          "apps",
          "april",
          "aptitude",
          "aquafina",
          "arbitrage",
          "arbitration",
          "arch",
          "ard",
          "are",
          "aren",
          "argument",
          "arhs",
          "arkb",
          "arms",
          "art",
          "article",
          "asap",
          "asia",
          "ask",
          "asml",
          "ass",
          "assumption",
          "asts",
          "at",
          "ath",
          "atlas",
          "atm",
          "ats",
          "attack",
          "attendance",
          "attention",
          "atus",
          "audience",
          "aurcana",
          "australia",
          "authority",
          "auto",
          "autocracy",
          "auusi",
          "auy",
          "avct",
          "average",
          "avgo",
          "aviación",
          "aviation",
          "awesome",
          "b2b",
          "baba",
          "back",
          "bad",
          "badass",
          "bagging",
          "balance",
          "balanced",
          "ball",
          "ban",
          "bang",
          "bank",
          "banzai",
          "barista",
          "barrel",
          "base",
          "basis",
          "basket",
          "bastion",
          "battery",
          "battle",
          "bb",
          "bbq",
          "bby",
          "bc",
          "be",
          "bear",
          "beautiful",
          "beauty",
          "bed",
          "begging",
          "beginner",
          "beginning",
          "behavior",
          "behaviour",
          "belief",
          "believable",
          "bell",
          "bellarus",
          "below",
          "benjamin",
          "bessent",
          "best",
          "bet",
          "beta",
          "better",
          "beyond",
          "bid",
          "biden",
          "big",
          "bigg",
          "biggest",
          "billionaire",
          "bills",
          "bing",
          "bit",
          "bitb",
          "bitcoin",
          "bitf",
          "blackrock",
          "blame",
          "blazer",
          "blend",
          "blgo",
          "blnk",
          "blockchain",
          "bloomberg",
          "bmw",
          "bnzi",
          "board",
          "boating",
          "bob",
          "bois",
          "boliviana",
          "bolton",
          "bomb",
          "bond",
          "bong",
          "bonus",
          "book",
          "boomer",
          "borderline",
          "bored",
          "bot",
          "bottom",
          "bought",
          "bounce",
          "bowl",
          "box",
          "boycott",
          "bp",
          "brain",
          "branch",
          "brand",
          "brasileiro",
          "brazil",
          "breakdown",
          "breakout",
          "breast",
          "brew",
          "brewing",
          "brick",
          "brics",
          "bringing",
          "bristol",
          "brkb",
          "bro",
          "broke",
          "broker",
          "brokerage",
          "bros",
          "brother",
          "brrr",
          "brrrrrr",
          "bs",
          "btbt",
          "btcm",
          "btco",
          "btcq",
          "btcusd",
          "btw",
          "bucko",
          "bud",
          "buddy",
          "buffet",
          "bull",
          "bullshit",
          "bullying",
          "bunch",
          "burn",
          "business",
          "but",
          "button",
          "buy",
          "buying",
          "by",
          "byddy",
          "ca",
          "cabinet",
          "cabling",
          "cage",
          "calculus",
          "california",
          "call",
          "calls",
          "campaign",
          "can",
          "canada",
          "canadianinvestor",
          "cancer"
         ],
         "xaxis": "x",
         "y": {
          "bdata": "AwIBAQIBAwIBAQEBAQIBBQECAgECAwIBAQEBAQEBAQMCAQQBAQEBAgIIAQEBAQEHAQEBAQEBAQEBAQEBAQEBBQEBAgEBAgECAgECAQQFAgEQAgEBAwQBBQMBAQEBAQEBDBEBAQEBBQEBBAEBAQEBAQMBAgEBAgYDAQEDAgcCAQEDAgEIAQEDAQEBAQECAQECAQEBAQEBAQIBAgECAQEBAQEIAgEBBAIBAQMCAQEBAQIDAQEBAQEBAQEBAQEBAQEBAgMBAQEBBAEBAQEBAQMBAgECAQEBAQEBAgEBAQECAQEBAQ4BAQQBAQEBAgEBAQEBAgUCAgECAQECAQEBAQECAQMBAQEBAgEBAgEBAQEGAQEBAQEJBQEDAQcCAQYCAQEBAQEBAQEHAQIBAgEB",
          "dtype": "i1"
         },
         "yaxis": "y"
        }
       ],
       "layout": {
        "barmode": "relative",
        "legend": {
         "tracegroupgap": 0
        },
        "margin": {
         "t": 60
        },
        "template": {
         "data": {
          "bar": [
           {
            "error_x": {
             "color": "#2a3f5f"
            },
            "error_y": {
             "color": "#2a3f5f"
            },
            "marker": {
             "line": {
              "color": "#E5ECF6",
              "width": 0.5
             },
             "pattern": {
              "fillmode": "overlay",
              "size": 10,
              "solidity": 0.2
             }
            },
            "type": "bar"
           }
          ],
          "barpolar": [
           {
            "marker": {
             "line": {
              "color": "#E5ECF6",
              "width": 0.5
             },
             "pattern": {
              "fillmode": "overlay",
              "size": 10,
              "solidity": 0.2
             }
            },
            "type": "barpolar"
           }
          ],
          "carpet": [
           {
            "aaxis": {
             "endlinecolor": "#2a3f5f",
             "gridcolor": "white",
             "linecolor": "white",
             "minorgridcolor": "white",
             "startlinecolor": "#2a3f5f"
            },
            "baxis": {
             "endlinecolor": "#2a3f5f",
             "gridcolor": "white",
             "linecolor": "white",
             "minorgridcolor": "white",
             "startlinecolor": "#2a3f5f"
            },
            "type": "carpet"
           }
          ],
          "choropleth": [
           {
            "colorbar": {
             "outlinewidth": 0,
             "ticks": ""
            },
            "type": "choropleth"
           }
          ],
          "contour": [
           {
            "colorbar": {
             "outlinewidth": 0,
             "ticks": ""
            },
            "colorscale": [
             [
              0,
              "#0d0887"
             ],
             [
              0.1111111111111111,
              "#46039f"
             ],
             [
              0.2222222222222222,
              "#7201a8"
             ],
             [
              0.3333333333333333,
              "#9c179e"
             ],
             [
              0.4444444444444444,
              "#bd3786"
             ],
             [
              0.5555555555555556,
              "#d8576b"
             ],
             [
              0.6666666666666666,
              "#ed7953"
             ],
             [
              0.7777777777777778,
              "#fb9f3a"
             ],
             [
              0.8888888888888888,
              "#fdca26"
             ],
             [
              1,
              "#f0f921"
             ]
            ],
            "type": "contour"
           }
          ],
          "contourcarpet": [
           {
            "colorbar": {
             "outlinewidth": 0,
             "ticks": ""
            },
            "type": "contourcarpet"
           }
          ],
          "heatmap": [
           {
            "colorbar": {
             "outlinewidth": 0,
             "ticks": ""
            },
            "colorscale": [
             [
              0,
              "#0d0887"
             ],
             [
              0.1111111111111111,
              "#46039f"
             ],
             [
              0.2222222222222222,
              "#7201a8"
             ],
             [
              0.3333333333333333,
              "#9c179e"
             ],
             [
              0.4444444444444444,
              "#bd3786"
             ],
             [
              0.5555555555555556,
              "#d8576b"
             ],
             [
              0.6666666666666666,
              "#ed7953"
             ],
             [
              0.7777777777777778,
              "#fb9f3a"
             ],
             [
              0.8888888888888888,
              "#fdca26"
             ],
             [
              1,
              "#f0f921"
             ]
            ],
            "type": "heatmap"
           }
          ],
          "histogram": [
           {
            "marker": {
             "pattern": {
              "fillmode": "overlay",
              "size": 10,
              "solidity": 0.2
             }
            },
            "type": "histogram"
           }
          ],
          "histogram2d": [
           {
            "colorbar": {
             "outlinewidth": 0,
             "ticks": ""
            },
            "colorscale": [
             [
              0,
              "#0d0887"
             ],
             [
              0.1111111111111111,
              "#46039f"
             ],
             [
              0.2222222222222222,
              "#7201a8"
             ],
             [
              0.3333333333333333,
              "#9c179e"
             ],
             [
              0.4444444444444444,
              "#bd3786"
             ],
             [
              0.5555555555555556,
              "#d8576b"
             ],
             [
              0.6666666666666666,
              "#ed7953"
             ],
             [
              0.7777777777777778,
              "#fb9f3a"
             ],
             [
              0.8888888888888888,
              "#fdca26"
             ],
             [
              1,
              "#f0f921"
             ]
            ],
            "type": "histogram2d"
           }
          ],
          "histogram2dcontour": [
           {
            "colorbar": {
             "outlinewidth": 0,
             "ticks": ""
            },
            "colorscale": [
             [
              0,
              "#0d0887"
             ],
             [
              0.1111111111111111,
              "#46039f"
             ],
             [
              0.2222222222222222,
              "#7201a8"
             ],
             [
              0.3333333333333333,
              "#9c179e"
             ],
             [
              0.4444444444444444,
              "#bd3786"
             ],
             [
              0.5555555555555556,
              "#d8576b"
             ],
             [
              0.6666666666666666,
              "#ed7953"
             ],
             [
              0.7777777777777778,
              "#fb9f3a"
             ],
             [
              0.8888888888888888,
              "#fdca26"
             ],
             [
              1,
              "#f0f921"
             ]
            ],
            "type": "histogram2dcontour"
           }
          ],
          "mesh3d": [
           {
            "colorbar": {
             "outlinewidth": 0,
             "ticks": ""
            },
            "type": "mesh3d"
           }
          ],
          "parcoords": [
           {
            "line": {
             "colorbar": {
              "outlinewidth": 0,
              "ticks": ""
             }
            },
            "type": "parcoords"
           }
          ],
          "pie": [
           {
            "automargin": true,
            "type": "pie"
           }
          ],
          "scatter": [
           {
            "fillpattern": {
             "fillmode": "overlay",
             "size": 10,
             "solidity": 0.2
            },
            "type": "scatter"
           }
          ],
          "scatter3d": [
           {
            "line": {
             "colorbar": {
              "outlinewidth": 0,
              "ticks": ""
             }
            },
            "marker": {
             "colorbar": {
              "outlinewidth": 0,
              "ticks": ""
             }
            },
            "type": "scatter3d"
           }
          ],
          "scattercarpet": [
           {
            "marker": {
             "colorbar": {
              "outlinewidth": 0,
              "ticks": ""
             }
            },
            "type": "scattercarpet"
           }
          ],
          "scattergeo": [
           {
            "marker": {
             "colorbar": {
              "outlinewidth": 0,
              "ticks": ""
             }
            },
            "type": "scattergeo"
           }
          ],
          "scattergl": [
           {
            "marker": {
             "colorbar": {
              "outlinewidth": 0,
              "ticks": ""
             }
            },
            "type": "scattergl"
           }
          ],
          "scattermap": [
           {
            "marker": {
             "colorbar": {
              "outlinewidth": 0,
              "ticks": ""
             }
            },
            "type": "scattermap"
           }
          ],
          "scattermapbox": [
           {
            "marker": {
             "colorbar": {
              "outlinewidth": 0,
              "ticks": ""
             }
            },
            "type": "scattermapbox"
           }
          ],
          "scatterpolar": [
           {
            "marker": {
             "colorbar": {
              "outlinewidth": 0,
              "ticks": ""
             }
            },
            "type": "scatterpolar"
           }
          ],
          "scatterpolargl": [
           {
            "marker": {
             "colorbar": {
              "outlinewidth": 0,
              "ticks": ""
             }
            },
            "type": "scatterpolargl"
           }
          ],
          "scatterternary": [
           {
            "marker": {
             "colorbar": {
              "outlinewidth": 0,
              "ticks": ""
             }
            },
            "type": "scatterternary"
           }
          ],
          "surface": [
           {
            "colorbar": {
             "outlinewidth": 0,
             "ticks": ""
            },
            "colorscale": [
             [
              0,
              "#0d0887"
             ],
             [
              0.1111111111111111,
              "#46039f"
             ],
             [
              0.2222222222222222,
              "#7201a8"
             ],
             [
              0.3333333333333333,
              "#9c179e"
             ],
             [
              0.4444444444444444,
              "#bd3786"
             ],
             [
              0.5555555555555556,
              "#d8576b"
             ],
             [
              0.6666666666666666,
              "#ed7953"
             ],
             [
              0.7777777777777778,
              "#fb9f3a"
             ],
             [
              0.8888888888888888,
              "#fdca26"
             ],
             [
              1,
              "#f0f921"
             ]
            ],
            "type": "surface"
           }
          ],
          "table": [
           {
            "cells": {
             "fill": {
              "color": "#EBF0F8"
             },
             "line": {
              "color": "white"
             }
            },
            "header": {
             "fill": {
              "color": "#C8D4E3"
             },
             "line": {
              "color": "white"
             }
            },
            "type": "table"
           }
          ]
         },
         "layout": {
          "annotationdefaults": {
           "arrowcolor": "#2a3f5f",
           "arrowhead": 0,
           "arrowwidth": 1
          },
          "autotypenumbers": "strict",
          "coloraxis": {
           "colorbar": {
            "outlinewidth": 0,
            "ticks": ""
           }
          },
          "colorscale": {
           "diverging": [
            [
             0,
             "#8e0152"
            ],
            [
             0.1,
             "#c51b7d"
            ],
            [
             0.2,
             "#de77ae"
            ],
            [
             0.3,
             "#f1b6da"
            ],
            [
             0.4,
             "#fde0ef"
            ],
            [
             0.5,
             "#f7f7f7"
            ],
            [
             0.6,
             "#e6f5d0"
            ],
            [
             0.7,
             "#b8e186"
            ],
            [
             0.8,
             "#7fbc41"
            ],
            [
             0.9,
             "#4d9221"
            ],
            [
             1,
             "#276419"
            ]
           ],
           "sequential": [
            [
             0,
             "#0d0887"
            ],
            [
             0.1111111111111111,
             "#46039f"
            ],
            [
             0.2222222222222222,
             "#7201a8"
            ],
            [
             0.3333333333333333,
             "#9c179e"
            ],
            [
             0.4444444444444444,
             "#bd3786"
            ],
            [
             0.5555555555555556,
             "#d8576b"
            ],
            [
             0.6666666666666666,
             "#ed7953"
            ],
            [
             0.7777777777777778,
             "#fb9f3a"
            ],
            [
             0.8888888888888888,
             "#fdca26"
            ],
            [
             1,
             "#f0f921"
            ]
           ],
           "sequentialminus": [
            [
             0,
             "#0d0887"
            ],
            [
             0.1111111111111111,
             "#46039f"
            ],
            [
             0.2222222222222222,
             "#7201a8"
            ],
            [
             0.3333333333333333,
             "#9c179e"
            ],
            [
             0.4444444444444444,
             "#bd3786"
            ],
            [
             0.5555555555555556,
             "#d8576b"
            ],
            [
             0.6666666666666666,
             "#ed7953"
            ],
            [
             0.7777777777777778,
             "#fb9f3a"
            ],
            [
             0.8888888888888888,
             "#fdca26"
            ],
            [
             1,
             "#f0f921"
            ]
           ]
          },
          "colorway": [
           "#636efa",
           "#EF553B",
           "#00cc96",
           "#ab63fa",
           "#FFA15A",
           "#19d3f3",
           "#FF6692",
           "#B6E880",
           "#FF97FF",
           "#FECB52"
          ],
          "font": {
           "color": "#2a3f5f"
          },
          "geo": {
           "bgcolor": "white",
           "lakecolor": "white",
           "landcolor": "#E5ECF6",
           "showlakes": true,
           "showland": true,
           "subunitcolor": "white"
          },
          "hoverlabel": {
           "align": "left"
          },
          "hovermode": "closest",
          "mapbox": {
           "style": "light"
          },
          "paper_bgcolor": "white",
          "plot_bgcolor": "#E5ECF6",
          "polar": {
           "angularaxis": {
            "gridcolor": "white",
            "linecolor": "white",
            "ticks": ""
           },
           "bgcolor": "#E5ECF6",
           "radialaxis": {
            "gridcolor": "white",
            "linecolor": "white",
            "ticks": ""
           }
          },
          "scene": {
           "xaxis": {
            "backgroundcolor": "#E5ECF6",
            "gridcolor": "white",
            "gridwidth": 2,
            "linecolor": "white",
            "showbackground": true,
            "ticks": "",
            "zerolinecolor": "white"
           },
           "yaxis": {
            "backgroundcolor": "#E5ECF6",
            "gridcolor": "white",
            "gridwidth": 2,
            "linecolor": "white",
            "showbackground": true,
            "ticks": "",
            "zerolinecolor": "white"
           },
           "zaxis": {
            "backgroundcolor": "#E5ECF6",
            "gridcolor": "white",
            "gridwidth": 2,
            "linecolor": "white",
            "showbackground": true,
            "ticks": "",
            "zerolinecolor": "white"
           }
          },
          "shapedefaults": {
           "line": {
            "color": "#2a3f5f"
           }
          },
          "ternary": {
           "aaxis": {
            "gridcolor": "white",
            "linecolor": "white",
            "ticks": ""
           },
           "baxis": {
            "gridcolor": "white",
            "linecolor": "white",
            "ticks": ""
           },
           "bgcolor": "#E5ECF6",
           "caxis": {
            "gridcolor": "white",
            "linecolor": "white",
            "ticks": ""
           }
          },
          "title": {
           "x": 0.05
          },
          "xaxis": {
           "automargin": true,
           "gridcolor": "white",
           "linecolor": "white",
           "ticks": "",
           "title": {
            "standoff": 15
           },
           "zerolinecolor": "white",
           "zerolinewidth": 2
          },
          "yaxis": {
           "automargin": true,
           "gridcolor": "white",
           "linecolor": "white",
           "ticks": "",
           "title": {
            "standoff": 15
           },
           "zerolinecolor": "white",
           "zerolinewidth": 2
          }
         }
        },
        "title": {
         "text": "Terms and Terms Frequencies chart",
         "x": 0.5,
         "xanchor": "center"
        },
        "xaxis": {
         "anchor": "y",
         "domain": [
          0,
          1
         ],
         "title": {
          "text": "Terms"
         }
        },
        "yaxis": {
         "anchor": "x",
         "domain": [
          0,
          1
         ],
         "title": {
          "text": "Frequencies"
         }
        }
       }
      }
     },
     "metadata": {},
     "output_type": "display_data"
    }
   ],
   "source": [
    "fig = px.bar(x=feature_extract.get_feature_names_out()[:300], y=term_frequencies[:300])\n",
    "fig.update_layout(\n",
    "    xaxis_title='Terms',\n",
    "    yaxis_title='Frequencies',\n",
    "    title={\n",
    "        'text': 'Terms and Terms Frequencies chart',\n",
    "        'x': 0.5,\n",
    "        'xanchor': 'center'\n",
    "    }\n",
    ")\n",
    "fig.show()"
   ]
  },
  {
   "cell_type": "markdown",
   "metadata": {},
   "source": [
    "### Exercise 13"
   ]
  },
  {
   "cell_type": "code",
   "execution_count": 43,
   "metadata": {},
   "outputs": [
    {
     "data": {
      "application/vnd.plotly.v1+json": {
       "config": {
        "plotlyServerURL": "https://plot.ly"
       },
       "data": [
        {
         "hovertemplate": "Feature=%{x}<br>Frequencies=%{y}<extra></extra>",
         "legendgroup": "",
         "marker": {
          "color": "#636efa",
          "pattern": {
           "shape": ""
          }
         },
         "name": "",
         "orientation": "v",
         "showlegend": false,
         "textposition": "auto",
         "type": "bar",
         "x": [
          "trump",
          "market",
          "us",
          "china",
          "money",
          "time",
          "stock",
          "today",
          "day",
          "silver",
          "economy",
          "way",
          "week",
          "everyone",
          "com",
          "stockbuyvest",
          "price",
          "world",
          "dollar",
          "someone",
          "company",
          "gold",
          "trade",
          "x200b",
          "anything",
          "thing",
          "america",
          "term",
          "point",
          "xi"
         ],
         "xaxis": "x",
         "y": {
          "bdata": "SEQ5OSYgHxoZGBgXFRUVFRUVExISEhERERAQEBAP",
          "dtype": "i1"
         },
         "yaxis": "y"
        }
       ],
       "layout": {
        "barmode": "relative",
        "legend": {
         "tracegroupgap": 0
        },
        "margin": {
         "t": 60
        },
        "template": {
         "data": {
          "bar": [
           {
            "error_x": {
             "color": "#2a3f5f"
            },
            "error_y": {
             "color": "#2a3f5f"
            },
            "marker": {
             "line": {
              "color": "#E5ECF6",
              "width": 0.5
             },
             "pattern": {
              "fillmode": "overlay",
              "size": 10,
              "solidity": 0.2
             }
            },
            "type": "bar"
           }
          ],
          "barpolar": [
           {
            "marker": {
             "line": {
              "color": "#E5ECF6",
              "width": 0.5
             },
             "pattern": {
              "fillmode": "overlay",
              "size": 10,
              "solidity": 0.2
             }
            },
            "type": "barpolar"
           }
          ],
          "carpet": [
           {
            "aaxis": {
             "endlinecolor": "#2a3f5f",
             "gridcolor": "white",
             "linecolor": "white",
             "minorgridcolor": "white",
             "startlinecolor": "#2a3f5f"
            },
            "baxis": {
             "endlinecolor": "#2a3f5f",
             "gridcolor": "white",
             "linecolor": "white",
             "minorgridcolor": "white",
             "startlinecolor": "#2a3f5f"
            },
            "type": "carpet"
           }
          ],
          "choropleth": [
           {
            "colorbar": {
             "outlinewidth": 0,
             "ticks": ""
            },
            "type": "choropleth"
           }
          ],
          "contour": [
           {
            "colorbar": {
             "outlinewidth": 0,
             "ticks": ""
            },
            "colorscale": [
             [
              0,
              "#0d0887"
             ],
             [
              0.1111111111111111,
              "#46039f"
             ],
             [
              0.2222222222222222,
              "#7201a8"
             ],
             [
              0.3333333333333333,
              "#9c179e"
             ],
             [
              0.4444444444444444,
              "#bd3786"
             ],
             [
              0.5555555555555556,
              "#d8576b"
             ],
             [
              0.6666666666666666,
              "#ed7953"
             ],
             [
              0.7777777777777778,
              "#fb9f3a"
             ],
             [
              0.8888888888888888,
              "#fdca26"
             ],
             [
              1,
              "#f0f921"
             ]
            ],
            "type": "contour"
           }
          ],
          "contourcarpet": [
           {
            "colorbar": {
             "outlinewidth": 0,
             "ticks": ""
            },
            "type": "contourcarpet"
           }
          ],
          "heatmap": [
           {
            "colorbar": {
             "outlinewidth": 0,
             "ticks": ""
            },
            "colorscale": [
             [
              0,
              "#0d0887"
             ],
             [
              0.1111111111111111,
              "#46039f"
             ],
             [
              0.2222222222222222,
              "#7201a8"
             ],
             [
              0.3333333333333333,
              "#9c179e"
             ],
             [
              0.4444444444444444,
              "#bd3786"
             ],
             [
              0.5555555555555556,
              "#d8576b"
             ],
             [
              0.6666666666666666,
              "#ed7953"
             ],
             [
              0.7777777777777778,
              "#fb9f3a"
             ],
             [
              0.8888888888888888,
              "#fdca26"
             ],
             [
              1,
              "#f0f921"
             ]
            ],
            "type": "heatmap"
           }
          ],
          "histogram": [
           {
            "marker": {
             "pattern": {
              "fillmode": "overlay",
              "size": 10,
              "solidity": 0.2
             }
            },
            "type": "histogram"
           }
          ],
          "histogram2d": [
           {
            "colorbar": {
             "outlinewidth": 0,
             "ticks": ""
            },
            "colorscale": [
             [
              0,
              "#0d0887"
             ],
             [
              0.1111111111111111,
              "#46039f"
             ],
             [
              0.2222222222222222,
              "#7201a8"
             ],
             [
              0.3333333333333333,
              "#9c179e"
             ],
             [
              0.4444444444444444,
              "#bd3786"
             ],
             [
              0.5555555555555556,
              "#d8576b"
             ],
             [
              0.6666666666666666,
              "#ed7953"
             ],
             [
              0.7777777777777778,
              "#fb9f3a"
             ],
             [
              0.8888888888888888,
              "#fdca26"
             ],
             [
              1,
              "#f0f921"
             ]
            ],
            "type": "histogram2d"
           }
          ],
          "histogram2dcontour": [
           {
            "colorbar": {
             "outlinewidth": 0,
             "ticks": ""
            },
            "colorscale": [
             [
              0,
              "#0d0887"
             ],
             [
              0.1111111111111111,
              "#46039f"
             ],
             [
              0.2222222222222222,
              "#7201a8"
             ],
             [
              0.3333333333333333,
              "#9c179e"
             ],
             [
              0.4444444444444444,
              "#bd3786"
             ],
             [
              0.5555555555555556,
              "#d8576b"
             ],
             [
              0.6666666666666666,
              "#ed7953"
             ],
             [
              0.7777777777777778,
              "#fb9f3a"
             ],
             [
              0.8888888888888888,
              "#fdca26"
             ],
             [
              1,
              "#f0f921"
             ]
            ],
            "type": "histogram2dcontour"
           }
          ],
          "mesh3d": [
           {
            "colorbar": {
             "outlinewidth": 0,
             "ticks": ""
            },
            "type": "mesh3d"
           }
          ],
          "parcoords": [
           {
            "line": {
             "colorbar": {
              "outlinewidth": 0,
              "ticks": ""
             }
            },
            "type": "parcoords"
           }
          ],
          "pie": [
           {
            "automargin": true,
            "type": "pie"
           }
          ],
          "scatter": [
           {
            "fillpattern": {
             "fillmode": "overlay",
             "size": 10,
             "solidity": 0.2
            },
            "type": "scatter"
           }
          ],
          "scatter3d": [
           {
            "line": {
             "colorbar": {
              "outlinewidth": 0,
              "ticks": ""
             }
            },
            "marker": {
             "colorbar": {
              "outlinewidth": 0,
              "ticks": ""
             }
            },
            "type": "scatter3d"
           }
          ],
          "scattercarpet": [
           {
            "marker": {
             "colorbar": {
              "outlinewidth": 0,
              "ticks": ""
             }
            },
            "type": "scattercarpet"
           }
          ],
          "scattergeo": [
           {
            "marker": {
             "colorbar": {
              "outlinewidth": 0,
              "ticks": ""
             }
            },
            "type": "scattergeo"
           }
          ],
          "scattergl": [
           {
            "marker": {
             "colorbar": {
              "outlinewidth": 0,
              "ticks": ""
             }
            },
            "type": "scattergl"
           }
          ],
          "scattermap": [
           {
            "marker": {
             "colorbar": {
              "outlinewidth": 0,
              "ticks": ""
             }
            },
            "type": "scattermap"
           }
          ],
          "scattermapbox": [
           {
            "marker": {
             "colorbar": {
              "outlinewidth": 0,
              "ticks": ""
             }
            },
            "type": "scattermapbox"
           }
          ],
          "scatterpolar": [
           {
            "marker": {
             "colorbar": {
              "outlinewidth": 0,
              "ticks": ""
             }
            },
            "type": "scatterpolar"
           }
          ],
          "scatterpolargl": [
           {
            "marker": {
             "colorbar": {
              "outlinewidth": 0,
              "ticks": ""
             }
            },
            "type": "scatterpolargl"
           }
          ],
          "scatterternary": [
           {
            "marker": {
             "colorbar": {
              "outlinewidth": 0,
              "ticks": ""
             }
            },
            "type": "scatterternary"
           }
          ],
          "surface": [
           {
            "colorbar": {
             "outlinewidth": 0,
             "ticks": ""
            },
            "colorscale": [
             [
              0,
              "#0d0887"
             ],
             [
              0.1111111111111111,
              "#46039f"
             ],
             [
              0.2222222222222222,
              "#7201a8"
             ],
             [
              0.3333333333333333,
              "#9c179e"
             ],
             [
              0.4444444444444444,
              "#bd3786"
             ],
             [
              0.5555555555555556,
              "#d8576b"
             ],
             [
              0.6666666666666666,
              "#ed7953"
             ],
             [
              0.7777777777777778,
              "#fb9f3a"
             ],
             [
              0.8888888888888888,
              "#fdca26"
             ],
             [
              1,
              "#f0f921"
             ]
            ],
            "type": "surface"
           }
          ],
          "table": [
           {
            "cells": {
             "fill": {
              "color": "#EBF0F8"
             },
             "line": {
              "color": "white"
             }
            },
            "header": {
             "fill": {
              "color": "#C8D4E3"
             },
             "line": {
              "color": "white"
             }
            },
            "type": "table"
           }
          ]
         },
         "layout": {
          "annotationdefaults": {
           "arrowcolor": "#2a3f5f",
           "arrowhead": 0,
           "arrowwidth": 1
          },
          "autotypenumbers": "strict",
          "coloraxis": {
           "colorbar": {
            "outlinewidth": 0,
            "ticks": ""
           }
          },
          "colorscale": {
           "diverging": [
            [
             0,
             "#8e0152"
            ],
            [
             0.1,
             "#c51b7d"
            ],
            [
             0.2,
             "#de77ae"
            ],
            [
             0.3,
             "#f1b6da"
            ],
            [
             0.4,
             "#fde0ef"
            ],
            [
             0.5,
             "#f7f7f7"
            ],
            [
             0.6,
             "#e6f5d0"
            ],
            [
             0.7,
             "#b8e186"
            ],
            [
             0.8,
             "#7fbc41"
            ],
            [
             0.9,
             "#4d9221"
            ],
            [
             1,
             "#276419"
            ]
           ],
           "sequential": [
            [
             0,
             "#0d0887"
            ],
            [
             0.1111111111111111,
             "#46039f"
            ],
            [
             0.2222222222222222,
             "#7201a8"
            ],
            [
             0.3333333333333333,
             "#9c179e"
            ],
            [
             0.4444444444444444,
             "#bd3786"
            ],
            [
             0.5555555555555556,
             "#d8576b"
            ],
            [
             0.6666666666666666,
             "#ed7953"
            ],
            [
             0.7777777777777778,
             "#fb9f3a"
            ],
            [
             0.8888888888888888,
             "#fdca26"
            ],
            [
             1,
             "#f0f921"
            ]
           ],
           "sequentialminus": [
            [
             0,
             "#0d0887"
            ],
            [
             0.1111111111111111,
             "#46039f"
            ],
            [
             0.2222222222222222,
             "#7201a8"
            ],
            [
             0.3333333333333333,
             "#9c179e"
            ],
            [
             0.4444444444444444,
             "#bd3786"
            ],
            [
             0.5555555555555556,
             "#d8576b"
            ],
            [
             0.6666666666666666,
             "#ed7953"
            ],
            [
             0.7777777777777778,
             "#fb9f3a"
            ],
            [
             0.8888888888888888,
             "#fdca26"
            ],
            [
             1,
             "#f0f921"
            ]
           ]
          },
          "colorway": [
           "#636efa",
           "#EF553B",
           "#00cc96",
           "#ab63fa",
           "#FFA15A",
           "#19d3f3",
           "#FF6692",
           "#B6E880",
           "#FF97FF",
           "#FECB52"
          ],
          "font": {
           "color": "#2a3f5f"
          },
          "geo": {
           "bgcolor": "white",
           "lakecolor": "white",
           "landcolor": "#E5ECF6",
           "showlakes": true,
           "showland": true,
           "subunitcolor": "white"
          },
          "hoverlabel": {
           "align": "left"
          },
          "hovermode": "closest",
          "mapbox": {
           "style": "light"
          },
          "paper_bgcolor": "white",
          "plot_bgcolor": "#E5ECF6",
          "polar": {
           "angularaxis": {
            "gridcolor": "white",
            "linecolor": "white",
            "ticks": ""
           },
           "bgcolor": "#E5ECF6",
           "radialaxis": {
            "gridcolor": "white",
            "linecolor": "white",
            "ticks": ""
           }
          },
          "scene": {
           "xaxis": {
            "backgroundcolor": "#E5ECF6",
            "gridcolor": "white",
            "gridwidth": 2,
            "linecolor": "white",
            "showbackground": true,
            "ticks": "",
            "zerolinecolor": "white"
           },
           "yaxis": {
            "backgroundcolor": "#E5ECF6",
            "gridcolor": "white",
            "gridwidth": 2,
            "linecolor": "white",
            "showbackground": true,
            "ticks": "",
            "zerolinecolor": "white"
           },
           "zaxis": {
            "backgroundcolor": "#E5ECF6",
            "gridcolor": "white",
            "gridwidth": 2,
            "linecolor": "white",
            "showbackground": true,
            "ticks": "",
            "zerolinecolor": "white"
           }
          },
          "shapedefaults": {
           "line": {
            "color": "#2a3f5f"
           }
          },
          "ternary": {
           "aaxis": {
            "gridcolor": "white",
            "linecolor": "white",
            "ticks": ""
           },
           "baxis": {
            "gridcolor": "white",
            "linecolor": "white",
            "ticks": ""
           },
           "bgcolor": "#E5ECF6",
           "caxis": {
            "gridcolor": "white",
            "linecolor": "white",
            "ticks": ""
           }
          },
          "title": {
           "x": 0.05
          },
          "xaxis": {
           "automargin": true,
           "gridcolor": "white",
           "linecolor": "white",
           "ticks": "",
           "title": {
            "standoff": 15
           },
           "zerolinecolor": "white",
           "zerolinewidth": 2
          },
          "yaxis": {
           "automargin": true,
           "gridcolor": "white",
           "linecolor": "white",
           "ticks": "",
           "title": {
            "standoff": 15
           },
           "zerolinecolor": "white",
           "zerolinewidth": 2
          }
         }
        },
        "title": {
         "text": "Terms and Terms Frequencies chart",
         "x": 0.5,
         "xanchor": "center"
        },
        "xaxis": {
         "anchor": "y",
         "domain": [
          0,
          1
         ],
         "title": {
          "text": "Feature"
         }
        },
        "yaxis": {
         "anchor": "x",
         "domain": [
          0,
          1
         ],
         "title": {
          "text": "Frequencies"
         }
        }
       }
      }
     },
     "metadata": {},
     "output_type": "display_data"
    }
   ],
   "source": [
    "feature_name = pd.DataFrame(feature_extract.get_feature_names_out().tolist(), columns=[\"Feature\"])\n",
    "frequency = pd.DataFrame(term_frequencies.tolist(), columns=['Frequencies'])\n",
    "\n",
    "plot_data = pd.concat([feature_name, frequency], axis=1)\n",
    "plot_data = plot_data.sort_values(by='Frequencies', ascending=False)\n",
    "\n",
    "plot_data\n",
    "fig = px.bar(plot_data[:30], plot_data[:30].Feature, plot_data[:30].Frequencies)\n",
    "fig.update_layout(\n",
    "    title={\n",
    "        'text': 'Terms and Terms Frequencies chart',\n",
    "        'x': 0.5,\n",
    "        'xanchor': 'center'\n",
    "    }\n",
    ")\n",
    "fig.show()"
   ]
  },
  {
   "cell_type": "markdown",
   "metadata": {},
   "source": [
    "### Exercise 14\n",
    "The same problem"
   ]
  },
  {
   "cell_type": "code",
   "execution_count": 44,
   "metadata": {},
   "outputs": [
    {
     "data": {
      "application/vnd.plotly.v1+json": {
       "config": {
        "plotlyServerURL": "https://plot.ly"
       },
       "data": [
        {
         "hovertemplate": "Feature=%{x}<br>Frequencies=%{y}<extra></extra>",
         "legendgroup": "",
         "marker": {
          "color": "#636efa",
          "pattern": {
           "shape": ""
          }
         },
         "name": "",
         "orientation": "v",
         "showlegend": false,
         "textposition": "auto",
         "type": "bar",
         "x": [
          "trump",
          "market",
          "us",
          "china",
          "money",
          "time",
          "stock",
          "today",
          "day",
          "silver",
          "economy",
          "way",
          "week",
          "everyone",
          "com",
          "stockbuyvest",
          "price",
          "world",
          "dollar",
          "someone",
          "company",
          "gold",
          "trade",
          "x200b",
          "anything",
          "thing",
          "america",
          "term",
          "point",
          "xi"
         ],
         "xaxis": "x",
         "y": {
          "bdata": "SEQ5OSYgHxoZGBgXFRUVFRUVExISEhERERAQEBAP",
          "dtype": "i1"
         },
         "yaxis": "y"
        }
       ],
       "layout": {
        "barmode": "relative",
        "legend": {
         "tracegroupgap": 0
        },
        "margin": {
         "t": 60
        },
        "template": {
         "data": {
          "bar": [
           {
            "error_x": {
             "color": "#2a3f5f"
            },
            "error_y": {
             "color": "#2a3f5f"
            },
            "marker": {
             "line": {
              "color": "#E5ECF6",
              "width": 0.5
             },
             "pattern": {
              "fillmode": "overlay",
              "size": 10,
              "solidity": 0.2
             }
            },
            "type": "bar"
           }
          ],
          "barpolar": [
           {
            "marker": {
             "line": {
              "color": "#E5ECF6",
              "width": 0.5
             },
             "pattern": {
              "fillmode": "overlay",
              "size": 10,
              "solidity": 0.2
             }
            },
            "type": "barpolar"
           }
          ],
          "carpet": [
           {
            "aaxis": {
             "endlinecolor": "#2a3f5f",
             "gridcolor": "white",
             "linecolor": "white",
             "minorgridcolor": "white",
             "startlinecolor": "#2a3f5f"
            },
            "baxis": {
             "endlinecolor": "#2a3f5f",
             "gridcolor": "white",
             "linecolor": "white",
             "minorgridcolor": "white",
             "startlinecolor": "#2a3f5f"
            },
            "type": "carpet"
           }
          ],
          "choropleth": [
           {
            "colorbar": {
             "outlinewidth": 0,
             "ticks": ""
            },
            "type": "choropleth"
           }
          ],
          "contour": [
           {
            "colorbar": {
             "outlinewidth": 0,
             "ticks": ""
            },
            "colorscale": [
             [
              0,
              "#0d0887"
             ],
             [
              0.1111111111111111,
              "#46039f"
             ],
             [
              0.2222222222222222,
              "#7201a8"
             ],
             [
              0.3333333333333333,
              "#9c179e"
             ],
             [
              0.4444444444444444,
              "#bd3786"
             ],
             [
              0.5555555555555556,
              "#d8576b"
             ],
             [
              0.6666666666666666,
              "#ed7953"
             ],
             [
              0.7777777777777778,
              "#fb9f3a"
             ],
             [
              0.8888888888888888,
              "#fdca26"
             ],
             [
              1,
              "#f0f921"
             ]
            ],
            "type": "contour"
           }
          ],
          "contourcarpet": [
           {
            "colorbar": {
             "outlinewidth": 0,
             "ticks": ""
            },
            "type": "contourcarpet"
           }
          ],
          "heatmap": [
           {
            "colorbar": {
             "outlinewidth": 0,
             "ticks": ""
            },
            "colorscale": [
             [
              0,
              "#0d0887"
             ],
             [
              0.1111111111111111,
              "#46039f"
             ],
             [
              0.2222222222222222,
              "#7201a8"
             ],
             [
              0.3333333333333333,
              "#9c179e"
             ],
             [
              0.4444444444444444,
              "#bd3786"
             ],
             [
              0.5555555555555556,
              "#d8576b"
             ],
             [
              0.6666666666666666,
              "#ed7953"
             ],
             [
              0.7777777777777778,
              "#fb9f3a"
             ],
             [
              0.8888888888888888,
              "#fdca26"
             ],
             [
              1,
              "#f0f921"
             ]
            ],
            "type": "heatmap"
           }
          ],
          "histogram": [
           {
            "marker": {
             "pattern": {
              "fillmode": "overlay",
              "size": 10,
              "solidity": 0.2
             }
            },
            "type": "histogram"
           }
          ],
          "histogram2d": [
           {
            "colorbar": {
             "outlinewidth": 0,
             "ticks": ""
            },
            "colorscale": [
             [
              0,
              "#0d0887"
             ],
             [
              0.1111111111111111,
              "#46039f"
             ],
             [
              0.2222222222222222,
              "#7201a8"
             ],
             [
              0.3333333333333333,
              "#9c179e"
             ],
             [
              0.4444444444444444,
              "#bd3786"
             ],
             [
              0.5555555555555556,
              "#d8576b"
             ],
             [
              0.6666666666666666,
              "#ed7953"
             ],
             [
              0.7777777777777778,
              "#fb9f3a"
             ],
             [
              0.8888888888888888,
              "#fdca26"
             ],
             [
              1,
              "#f0f921"
             ]
            ],
            "type": "histogram2d"
           }
          ],
          "histogram2dcontour": [
           {
            "colorbar": {
             "outlinewidth": 0,
             "ticks": ""
            },
            "colorscale": [
             [
              0,
              "#0d0887"
             ],
             [
              0.1111111111111111,
              "#46039f"
             ],
             [
              0.2222222222222222,
              "#7201a8"
             ],
             [
              0.3333333333333333,
              "#9c179e"
             ],
             [
              0.4444444444444444,
              "#bd3786"
             ],
             [
              0.5555555555555556,
              "#d8576b"
             ],
             [
              0.6666666666666666,
              "#ed7953"
             ],
             [
              0.7777777777777778,
              "#fb9f3a"
             ],
             [
              0.8888888888888888,
              "#fdca26"
             ],
             [
              1,
              "#f0f921"
             ]
            ],
            "type": "histogram2dcontour"
           }
          ],
          "mesh3d": [
           {
            "colorbar": {
             "outlinewidth": 0,
             "ticks": ""
            },
            "type": "mesh3d"
           }
          ],
          "parcoords": [
           {
            "line": {
             "colorbar": {
              "outlinewidth": 0,
              "ticks": ""
             }
            },
            "type": "parcoords"
           }
          ],
          "pie": [
           {
            "automargin": true,
            "type": "pie"
           }
          ],
          "scatter": [
           {
            "fillpattern": {
             "fillmode": "overlay",
             "size": 10,
             "solidity": 0.2
            },
            "type": "scatter"
           }
          ],
          "scatter3d": [
           {
            "line": {
             "colorbar": {
              "outlinewidth": 0,
              "ticks": ""
             }
            },
            "marker": {
             "colorbar": {
              "outlinewidth": 0,
              "ticks": ""
             }
            },
            "type": "scatter3d"
           }
          ],
          "scattercarpet": [
           {
            "marker": {
             "colorbar": {
              "outlinewidth": 0,
              "ticks": ""
             }
            },
            "type": "scattercarpet"
           }
          ],
          "scattergeo": [
           {
            "marker": {
             "colorbar": {
              "outlinewidth": 0,
              "ticks": ""
             }
            },
            "type": "scattergeo"
           }
          ],
          "scattergl": [
           {
            "marker": {
             "colorbar": {
              "outlinewidth": 0,
              "ticks": ""
             }
            },
            "type": "scattergl"
           }
          ],
          "scattermap": [
           {
            "marker": {
             "colorbar": {
              "outlinewidth": 0,
              "ticks": ""
             }
            },
            "type": "scattermap"
           }
          ],
          "scattermapbox": [
           {
            "marker": {
             "colorbar": {
              "outlinewidth": 0,
              "ticks": ""
             }
            },
            "type": "scattermapbox"
           }
          ],
          "scatterpolar": [
           {
            "marker": {
             "colorbar": {
              "outlinewidth": 0,
              "ticks": ""
             }
            },
            "type": "scatterpolar"
           }
          ],
          "scatterpolargl": [
           {
            "marker": {
             "colorbar": {
              "outlinewidth": 0,
              "ticks": ""
             }
            },
            "type": "scatterpolargl"
           }
          ],
          "scatterternary": [
           {
            "marker": {
             "colorbar": {
              "outlinewidth": 0,
              "ticks": ""
             }
            },
            "type": "scatterternary"
           }
          ],
          "surface": [
           {
            "colorbar": {
             "outlinewidth": 0,
             "ticks": ""
            },
            "colorscale": [
             [
              0,
              "#0d0887"
             ],
             [
              0.1111111111111111,
              "#46039f"
             ],
             [
              0.2222222222222222,
              "#7201a8"
             ],
             [
              0.3333333333333333,
              "#9c179e"
             ],
             [
              0.4444444444444444,
              "#bd3786"
             ],
             [
              0.5555555555555556,
              "#d8576b"
             ],
             [
              0.6666666666666666,
              "#ed7953"
             ],
             [
              0.7777777777777778,
              "#fb9f3a"
             ],
             [
              0.8888888888888888,
              "#fdca26"
             ],
             [
              1,
              "#f0f921"
             ]
            ],
            "type": "surface"
           }
          ],
          "table": [
           {
            "cells": {
             "fill": {
              "color": "#EBF0F8"
             },
             "line": {
              "color": "white"
             }
            },
            "header": {
             "fill": {
              "color": "#C8D4E3"
             },
             "line": {
              "color": "white"
             }
            },
            "type": "table"
           }
          ]
         },
         "layout": {
          "annotationdefaults": {
           "arrowcolor": "#2a3f5f",
           "arrowhead": 0,
           "arrowwidth": 1
          },
          "autotypenumbers": "strict",
          "coloraxis": {
           "colorbar": {
            "outlinewidth": 0,
            "ticks": ""
           }
          },
          "colorscale": {
           "diverging": [
            [
             0,
             "#8e0152"
            ],
            [
             0.1,
             "#c51b7d"
            ],
            [
             0.2,
             "#de77ae"
            ],
            [
             0.3,
             "#f1b6da"
            ],
            [
             0.4,
             "#fde0ef"
            ],
            [
             0.5,
             "#f7f7f7"
            ],
            [
             0.6,
             "#e6f5d0"
            ],
            [
             0.7,
             "#b8e186"
            ],
            [
             0.8,
             "#7fbc41"
            ],
            [
             0.9,
             "#4d9221"
            ],
            [
             1,
             "#276419"
            ]
           ],
           "sequential": [
            [
             0,
             "#0d0887"
            ],
            [
             0.1111111111111111,
             "#46039f"
            ],
            [
             0.2222222222222222,
             "#7201a8"
            ],
            [
             0.3333333333333333,
             "#9c179e"
            ],
            [
             0.4444444444444444,
             "#bd3786"
            ],
            [
             0.5555555555555556,
             "#d8576b"
            ],
            [
             0.6666666666666666,
             "#ed7953"
            ],
            [
             0.7777777777777778,
             "#fb9f3a"
            ],
            [
             0.8888888888888888,
             "#fdca26"
            ],
            [
             1,
             "#f0f921"
            ]
           ],
           "sequentialminus": [
            [
             0,
             "#0d0887"
            ],
            [
             0.1111111111111111,
             "#46039f"
            ],
            [
             0.2222222222222222,
             "#7201a8"
            ],
            [
             0.3333333333333333,
             "#9c179e"
            ],
            [
             0.4444444444444444,
             "#bd3786"
            ],
            [
             0.5555555555555556,
             "#d8576b"
            ],
            [
             0.6666666666666666,
             "#ed7953"
            ],
            [
             0.7777777777777778,
             "#fb9f3a"
            ],
            [
             0.8888888888888888,
             "#fdca26"
            ],
            [
             1,
             "#f0f921"
            ]
           ]
          },
          "colorway": [
           "#636efa",
           "#EF553B",
           "#00cc96",
           "#ab63fa",
           "#FFA15A",
           "#19d3f3",
           "#FF6692",
           "#B6E880",
           "#FF97FF",
           "#FECB52"
          ],
          "font": {
           "color": "#2a3f5f"
          },
          "geo": {
           "bgcolor": "white",
           "lakecolor": "white",
           "landcolor": "#E5ECF6",
           "showlakes": true,
           "showland": true,
           "subunitcolor": "white"
          },
          "hoverlabel": {
           "align": "left"
          },
          "hovermode": "closest",
          "mapbox": {
           "style": "light"
          },
          "paper_bgcolor": "white",
          "plot_bgcolor": "#E5ECF6",
          "polar": {
           "angularaxis": {
            "gridcolor": "white",
            "linecolor": "white",
            "ticks": ""
           },
           "bgcolor": "#E5ECF6",
           "radialaxis": {
            "gridcolor": "white",
            "linecolor": "white",
            "ticks": ""
           }
          },
          "scene": {
           "xaxis": {
            "backgroundcolor": "#E5ECF6",
            "gridcolor": "white",
            "gridwidth": 2,
            "linecolor": "white",
            "showbackground": true,
            "ticks": "",
            "zerolinecolor": "white"
           },
           "yaxis": {
            "backgroundcolor": "#E5ECF6",
            "gridcolor": "white",
            "gridwidth": 2,
            "linecolor": "white",
            "showbackground": true,
            "ticks": "",
            "zerolinecolor": "white"
           },
           "zaxis": {
            "backgroundcolor": "#E5ECF6",
            "gridcolor": "white",
            "gridwidth": 2,
            "linecolor": "white",
            "showbackground": true,
            "ticks": "",
            "zerolinecolor": "white"
           }
          },
          "shapedefaults": {
           "line": {
            "color": "#2a3f5f"
           }
          },
          "ternary": {
           "aaxis": {
            "gridcolor": "white",
            "linecolor": "white",
            "ticks": ""
           },
           "baxis": {
            "gridcolor": "white",
            "linecolor": "white",
            "ticks": ""
           },
           "bgcolor": "#E5ECF6",
           "caxis": {
            "gridcolor": "white",
            "linecolor": "white",
            "ticks": ""
           }
          },
          "title": {
           "x": 0.05
          },
          "xaxis": {
           "automargin": true,
           "gridcolor": "white",
           "linecolor": "white",
           "ticks": "",
           "title": {
            "standoff": 15
           },
           "zerolinecolor": "white",
           "zerolinewidth": 2
          },
          "yaxis": {
           "automargin": true,
           "gridcolor": "white",
           "linecolor": "white",
           "ticks": "",
           "title": {
            "standoff": 15
           },
           "zerolinecolor": "white",
           "zerolinewidth": 2
          }
         }
        },
        "title": {
         "text": "Terms and Terms Frequencies chart",
         "x": 0.5,
         "xanchor": "center"
        },
        "xaxis": {
         "anchor": "y",
         "domain": [
          0,
          1
         ],
         "title": {
          "text": "Feature"
         }
        },
        "yaxis": {
         "anchor": "x",
         "domain": [
          0,
          1
         ],
         "title": {
          "text": "Frequencies"
         }
        }
       }
      }
     },
     "metadata": {},
     "output_type": "display_data"
    }
   ],
   "source": [
    "feature_name = pd.DataFrame(feature_extract.get_feature_names_out().tolist(), columns=[\"Feature\"])\n",
    "frequency = pd.DataFrame(term_frequencies.tolist(), columns=['Frequencies'])\n",
    "\n",
    "plot_data = pd.concat([feature_name, frequency], axis=1)\n",
    "plot_data = plot_data.sort_values(by='Frequencies', ascending=False)\n",
    "\n",
    "plot_data\n",
    "fig = px.bar(plot_data[:30], plot_data[:30].Feature, plot_data[:30].Frequencies)\n",
    "fig.update_layout(\n",
    "    title={\n",
    "        'text': 'Terms and Terms Frequencies chart',\n",
    "        'x': 0.5,\n",
    "        'xanchor': 'center'\n",
    "    }\n",
    ")\n",
    "fig.show()"
   ]
  },
  {
   "cell_type": "markdown",
   "metadata": {},
   "source": [
    "### Exercise 15\n",
    "Plot the graph using the log valyes of the term frequencies"
   ]
  },
  {
   "cell_type": "code",
   "execution_count": 45,
   "metadata": {},
   "outputs": [
    {
     "data": {
      "application/vnd.plotly.v1+json": {
       "config": {
        "plotlyServerURL": "https://plot.ly"
       },
       "data": [
        {
         "hovertemplate": "Feature=%{x}<br>Frequencies=%{y}<extra></extra>",
         "legendgroup": "",
         "marker": {
          "color": "#636efa",
          "pattern": {
           "shape": ""
          }
         },
         "name": "",
         "orientation": "v",
         "showlegend": false,
         "textposition": "auto",
         "type": "bar",
         "x": [
          "trump",
          "market",
          "us",
          "china",
          "money",
          "time",
          "stock",
          "today",
          "day",
          "silver",
          "economy",
          "way",
          "week",
          "everyone",
          "com",
          "stockbuyvest",
          "price",
          "world",
          "dollar",
          "someone",
          "company",
          "gold",
          "trade",
          "x200b",
          "anything",
          "thing",
          "america",
          "term",
          "point",
          "xi"
         ],
         "xaxis": "x",
         "y": {
          "bdata": "P1f0XE4bEUA5zrugxuAQQFmaraEVLBBAWZqtoRUsEECoQcPFxhkNQGvIuL7TuQtAWiuRSM54C0DNGvDqlBAKQDON7fdBwAlA+SySfKdsCUD5LJJ8p2wJQPCz0f19FQlAsa5vlC5bCECxrm+ULlsIQLGub5QuWwhAsa5vlC5bCECxrm+ULlsIQLGub5QuWwhALLMEBjaOB0CGkWs6ex8HQIaRazp7HwdAhpFrOnsfB0B6f/rBa6oGQHp/+sFrqgZAen/6wWuqBkDvOfr+Qi4GQO85+v5CLgZA7zn6/kIuBkDvOfr+Qi4GQB9ITTkWqgVA",
          "dtype": "f8"
         },
         "yaxis": "y"
        }
       ],
       "layout": {
        "barmode": "relative",
        "legend": {
         "tracegroupgap": 0
        },
        "margin": {
         "t": 60
        },
        "template": {
         "data": {
          "bar": [
           {
            "error_x": {
             "color": "#2a3f5f"
            },
            "error_y": {
             "color": "#2a3f5f"
            },
            "marker": {
             "line": {
              "color": "#E5ECF6",
              "width": 0.5
             },
             "pattern": {
              "fillmode": "overlay",
              "size": 10,
              "solidity": 0.2
             }
            },
            "type": "bar"
           }
          ],
          "barpolar": [
           {
            "marker": {
             "line": {
              "color": "#E5ECF6",
              "width": 0.5
             },
             "pattern": {
              "fillmode": "overlay",
              "size": 10,
              "solidity": 0.2
             }
            },
            "type": "barpolar"
           }
          ],
          "carpet": [
           {
            "aaxis": {
             "endlinecolor": "#2a3f5f",
             "gridcolor": "white",
             "linecolor": "white",
             "minorgridcolor": "white",
             "startlinecolor": "#2a3f5f"
            },
            "baxis": {
             "endlinecolor": "#2a3f5f",
             "gridcolor": "white",
             "linecolor": "white",
             "minorgridcolor": "white",
             "startlinecolor": "#2a3f5f"
            },
            "type": "carpet"
           }
          ],
          "choropleth": [
           {
            "colorbar": {
             "outlinewidth": 0,
             "ticks": ""
            },
            "type": "choropleth"
           }
          ],
          "contour": [
           {
            "colorbar": {
             "outlinewidth": 0,
             "ticks": ""
            },
            "colorscale": [
             [
              0,
              "#0d0887"
             ],
             [
              0.1111111111111111,
              "#46039f"
             ],
             [
              0.2222222222222222,
              "#7201a8"
             ],
             [
              0.3333333333333333,
              "#9c179e"
             ],
             [
              0.4444444444444444,
              "#bd3786"
             ],
             [
              0.5555555555555556,
              "#d8576b"
             ],
             [
              0.6666666666666666,
              "#ed7953"
             ],
             [
              0.7777777777777778,
              "#fb9f3a"
             ],
             [
              0.8888888888888888,
              "#fdca26"
             ],
             [
              1,
              "#f0f921"
             ]
            ],
            "type": "contour"
           }
          ],
          "contourcarpet": [
           {
            "colorbar": {
             "outlinewidth": 0,
             "ticks": ""
            },
            "type": "contourcarpet"
           }
          ],
          "heatmap": [
           {
            "colorbar": {
             "outlinewidth": 0,
             "ticks": ""
            },
            "colorscale": [
             [
              0,
              "#0d0887"
             ],
             [
              0.1111111111111111,
              "#46039f"
             ],
             [
              0.2222222222222222,
              "#7201a8"
             ],
             [
              0.3333333333333333,
              "#9c179e"
             ],
             [
              0.4444444444444444,
              "#bd3786"
             ],
             [
              0.5555555555555556,
              "#d8576b"
             ],
             [
              0.6666666666666666,
              "#ed7953"
             ],
             [
              0.7777777777777778,
              "#fb9f3a"
             ],
             [
              0.8888888888888888,
              "#fdca26"
             ],
             [
              1,
              "#f0f921"
             ]
            ],
            "type": "heatmap"
           }
          ],
          "histogram": [
           {
            "marker": {
             "pattern": {
              "fillmode": "overlay",
              "size": 10,
              "solidity": 0.2
             }
            },
            "type": "histogram"
           }
          ],
          "histogram2d": [
           {
            "colorbar": {
             "outlinewidth": 0,
             "ticks": ""
            },
            "colorscale": [
             [
              0,
              "#0d0887"
             ],
             [
              0.1111111111111111,
              "#46039f"
             ],
             [
              0.2222222222222222,
              "#7201a8"
             ],
             [
              0.3333333333333333,
              "#9c179e"
             ],
             [
              0.4444444444444444,
              "#bd3786"
             ],
             [
              0.5555555555555556,
              "#d8576b"
             ],
             [
              0.6666666666666666,
              "#ed7953"
             ],
             [
              0.7777777777777778,
              "#fb9f3a"
             ],
             [
              0.8888888888888888,
              "#fdca26"
             ],
             [
              1,
              "#f0f921"
             ]
            ],
            "type": "histogram2d"
           }
          ],
          "histogram2dcontour": [
           {
            "colorbar": {
             "outlinewidth": 0,
             "ticks": ""
            },
            "colorscale": [
             [
              0,
              "#0d0887"
             ],
             [
              0.1111111111111111,
              "#46039f"
             ],
             [
              0.2222222222222222,
              "#7201a8"
             ],
             [
              0.3333333333333333,
              "#9c179e"
             ],
             [
              0.4444444444444444,
              "#bd3786"
             ],
             [
              0.5555555555555556,
              "#d8576b"
             ],
             [
              0.6666666666666666,
              "#ed7953"
             ],
             [
              0.7777777777777778,
              "#fb9f3a"
             ],
             [
              0.8888888888888888,
              "#fdca26"
             ],
             [
              1,
              "#f0f921"
             ]
            ],
            "type": "histogram2dcontour"
           }
          ],
          "mesh3d": [
           {
            "colorbar": {
             "outlinewidth": 0,
             "ticks": ""
            },
            "type": "mesh3d"
           }
          ],
          "parcoords": [
           {
            "line": {
             "colorbar": {
              "outlinewidth": 0,
              "ticks": ""
             }
            },
            "type": "parcoords"
           }
          ],
          "pie": [
           {
            "automargin": true,
            "type": "pie"
           }
          ],
          "scatter": [
           {
            "fillpattern": {
             "fillmode": "overlay",
             "size": 10,
             "solidity": 0.2
            },
            "type": "scatter"
           }
          ],
          "scatter3d": [
           {
            "line": {
             "colorbar": {
              "outlinewidth": 0,
              "ticks": ""
             }
            },
            "marker": {
             "colorbar": {
              "outlinewidth": 0,
              "ticks": ""
             }
            },
            "type": "scatter3d"
           }
          ],
          "scattercarpet": [
           {
            "marker": {
             "colorbar": {
              "outlinewidth": 0,
              "ticks": ""
             }
            },
            "type": "scattercarpet"
           }
          ],
          "scattergeo": [
           {
            "marker": {
             "colorbar": {
              "outlinewidth": 0,
              "ticks": ""
             }
            },
            "type": "scattergeo"
           }
          ],
          "scattergl": [
           {
            "marker": {
             "colorbar": {
              "outlinewidth": 0,
              "ticks": ""
             }
            },
            "type": "scattergl"
           }
          ],
          "scattermap": [
           {
            "marker": {
             "colorbar": {
              "outlinewidth": 0,
              "ticks": ""
             }
            },
            "type": "scattermap"
           }
          ],
          "scattermapbox": [
           {
            "marker": {
             "colorbar": {
              "outlinewidth": 0,
              "ticks": ""
             }
            },
            "type": "scattermapbox"
           }
          ],
          "scatterpolar": [
           {
            "marker": {
             "colorbar": {
              "outlinewidth": 0,
              "ticks": ""
             }
            },
            "type": "scatterpolar"
           }
          ],
          "scatterpolargl": [
           {
            "marker": {
             "colorbar": {
              "outlinewidth": 0,
              "ticks": ""
             }
            },
            "type": "scatterpolargl"
           }
          ],
          "scatterternary": [
           {
            "marker": {
             "colorbar": {
              "outlinewidth": 0,
              "ticks": ""
             }
            },
            "type": "scatterternary"
           }
          ],
          "surface": [
           {
            "colorbar": {
             "outlinewidth": 0,
             "ticks": ""
            },
            "colorscale": [
             [
              0,
              "#0d0887"
             ],
             [
              0.1111111111111111,
              "#46039f"
             ],
             [
              0.2222222222222222,
              "#7201a8"
             ],
             [
              0.3333333333333333,
              "#9c179e"
             ],
             [
              0.4444444444444444,
              "#bd3786"
             ],
             [
              0.5555555555555556,
              "#d8576b"
             ],
             [
              0.6666666666666666,
              "#ed7953"
             ],
             [
              0.7777777777777778,
              "#fb9f3a"
             ],
             [
              0.8888888888888888,
              "#fdca26"
             ],
             [
              1,
              "#f0f921"
             ]
            ],
            "type": "surface"
           }
          ],
          "table": [
           {
            "cells": {
             "fill": {
              "color": "#EBF0F8"
             },
             "line": {
              "color": "white"
             }
            },
            "header": {
             "fill": {
              "color": "#C8D4E3"
             },
             "line": {
              "color": "white"
             }
            },
            "type": "table"
           }
          ]
         },
         "layout": {
          "annotationdefaults": {
           "arrowcolor": "#2a3f5f",
           "arrowhead": 0,
           "arrowwidth": 1
          },
          "autotypenumbers": "strict",
          "coloraxis": {
           "colorbar": {
            "outlinewidth": 0,
            "ticks": ""
           }
          },
          "colorscale": {
           "diverging": [
            [
             0,
             "#8e0152"
            ],
            [
             0.1,
             "#c51b7d"
            ],
            [
             0.2,
             "#de77ae"
            ],
            [
             0.3,
             "#f1b6da"
            ],
            [
             0.4,
             "#fde0ef"
            ],
            [
             0.5,
             "#f7f7f7"
            ],
            [
             0.6,
             "#e6f5d0"
            ],
            [
             0.7,
             "#b8e186"
            ],
            [
             0.8,
             "#7fbc41"
            ],
            [
             0.9,
             "#4d9221"
            ],
            [
             1,
             "#276419"
            ]
           ],
           "sequential": [
            [
             0,
             "#0d0887"
            ],
            [
             0.1111111111111111,
             "#46039f"
            ],
            [
             0.2222222222222222,
             "#7201a8"
            ],
            [
             0.3333333333333333,
             "#9c179e"
            ],
            [
             0.4444444444444444,
             "#bd3786"
            ],
            [
             0.5555555555555556,
             "#d8576b"
            ],
            [
             0.6666666666666666,
             "#ed7953"
            ],
            [
             0.7777777777777778,
             "#fb9f3a"
            ],
            [
             0.8888888888888888,
             "#fdca26"
            ],
            [
             1,
             "#f0f921"
            ]
           ],
           "sequentialminus": [
            [
             0,
             "#0d0887"
            ],
            [
             0.1111111111111111,
             "#46039f"
            ],
            [
             0.2222222222222222,
             "#7201a8"
            ],
            [
             0.3333333333333333,
             "#9c179e"
            ],
            [
             0.4444444444444444,
             "#bd3786"
            ],
            [
             0.5555555555555556,
             "#d8576b"
            ],
            [
             0.6666666666666666,
             "#ed7953"
            ],
            [
             0.7777777777777778,
             "#fb9f3a"
            ],
            [
             0.8888888888888888,
             "#fdca26"
            ],
            [
             1,
             "#f0f921"
            ]
           ]
          },
          "colorway": [
           "#636efa",
           "#EF553B",
           "#00cc96",
           "#ab63fa",
           "#FFA15A",
           "#19d3f3",
           "#FF6692",
           "#B6E880",
           "#FF97FF",
           "#FECB52"
          ],
          "font": {
           "color": "#2a3f5f"
          },
          "geo": {
           "bgcolor": "white",
           "lakecolor": "white",
           "landcolor": "#E5ECF6",
           "showlakes": true,
           "showland": true,
           "subunitcolor": "white"
          },
          "hoverlabel": {
           "align": "left"
          },
          "hovermode": "closest",
          "mapbox": {
           "style": "light"
          },
          "paper_bgcolor": "white",
          "plot_bgcolor": "#E5ECF6",
          "polar": {
           "angularaxis": {
            "gridcolor": "white",
            "linecolor": "white",
            "ticks": ""
           },
           "bgcolor": "#E5ECF6",
           "radialaxis": {
            "gridcolor": "white",
            "linecolor": "white",
            "ticks": ""
           }
          },
          "scene": {
           "xaxis": {
            "backgroundcolor": "#E5ECF6",
            "gridcolor": "white",
            "gridwidth": 2,
            "linecolor": "white",
            "showbackground": true,
            "ticks": "",
            "zerolinecolor": "white"
           },
           "yaxis": {
            "backgroundcolor": "#E5ECF6",
            "gridcolor": "white",
            "gridwidth": 2,
            "linecolor": "white",
            "showbackground": true,
            "ticks": "",
            "zerolinecolor": "white"
           },
           "zaxis": {
            "backgroundcolor": "#E5ECF6",
            "gridcolor": "white",
            "gridwidth": 2,
            "linecolor": "white",
            "showbackground": true,
            "ticks": "",
            "zerolinecolor": "white"
           }
          },
          "shapedefaults": {
           "line": {
            "color": "#2a3f5f"
           }
          },
          "ternary": {
           "aaxis": {
            "gridcolor": "white",
            "linecolor": "white",
            "ticks": ""
           },
           "baxis": {
            "gridcolor": "white",
            "linecolor": "white",
            "ticks": ""
           },
           "bgcolor": "#E5ECF6",
           "caxis": {
            "gridcolor": "white",
            "linecolor": "white",
            "ticks": ""
           }
          },
          "title": {
           "x": 0.05
          },
          "xaxis": {
           "automargin": true,
           "gridcolor": "white",
           "linecolor": "white",
           "ticks": "",
           "title": {
            "standoff": 15
           },
           "zerolinecolor": "white",
           "zerolinewidth": 2
          },
          "yaxis": {
           "automargin": true,
           "gridcolor": "white",
           "linecolor": "white",
           "ticks": "",
           "title": {
            "standoff": 15
           },
           "zerolinecolor": "white",
           "zerolinewidth": 2
          }
         }
        },
        "title": {
         "text": "Terms and Terms Frequencies chart",
         "x": 0.5,
         "xanchor": "center"
        },
        "xaxis": {
         "anchor": "y",
         "domain": [
          0,
          1
         ],
         "title": {
          "text": "Feature"
         }
        },
        "yaxis": {
         "anchor": "x",
         "domain": [
          0,
          1
         ],
         "title": {
          "text": "Frequencies"
         }
        }
       }
      }
     },
     "metadata": {},
     "output_type": "display_data"
    }
   ],
   "source": [
    "import math\n",
    "term_frequencies_log = [math.log(x) for x in term_frequencies]\n",
    "\n",
    "feature_name = pd.DataFrame(feature_extract.get_feature_names_out().tolist(), columns=[\"Feature\"])\n",
    "frequency = pd.DataFrame(term_frequencies_log, columns=['Frequencies'])\n",
    "\n",
    "plot_data = pd.concat([feature_name, frequency], axis=1)\n",
    "plot_data = plot_data.sort_values(by='Frequencies', ascending=False)\n",
    "\n",
    "plot_data\n",
    "fig = px.bar(plot_data[:30], plot_data[:30].Feature, plot_data[:30].Frequencies)\n",
    "fig.update_layout(\n",
    "    title={\n",
    "        'text': 'Terms and Terms Frequencies chart',\n",
    "        'x': 0.5,\n",
    "        'xanchor': 'center'\n",
    "    }\n",
    ")\n",
    "fig.show()"
   ]
  },
  {
   "cell_type": "markdown",
   "metadata": {},
   "source": [
    "Use [the new dataset](https://github.com/leoson-wu/DM2025-Lab1-Exercise/blob/main/newdataset/Reddit-stock-sentiment.csv). The dataset contains a 16 columns including 'text' and 'label', with the sentiment labels being: 1.0 is positive, 0.0 is neutral and -1.0 is negative. You can simplify the dataset and use only the columns that you think are necessary. \n",
    "    \n",
    "    - You are allowed to use and modify the `helper` functions in the folder of the first lab session (notice they may need modification) or create your own.\n",
    "    - Use this file to complete the homework from the second part. Make sure the code can be run from the beginning till the end and has all the needed output.\n",
    "    - Generate meaningful **new data visualizations**. Refer to online resources and the Data Mining textbook for inspiration and ideas. \n"
   ]
  },
  {
   "cell_type": "code",
   "execution_count": 126,
   "metadata": {},
   "outputs": [
    {
     "name": "stdout",
     "output_type": "stream",
     "text": [
      "          subreddit  negativeSentiment\n",
      "0       StockMarket                 72\n",
      "1            stocks                 81\n",
      "2  stockstobuytoday                 14\n",
      "3    wallstreetbets                 30 \n",
      "\n",
      "          subreddit  positiveSentiment\n",
      "0       StockMarket                 96\n",
      "1            stocks                107\n",
      "2  stockstobuytoday                 56\n",
      "3    wallstreetbets                 60 \n",
      "\n",
      "          subreddit  neutralSentiment\n",
      "0       StockMarket                82\n",
      "1            stocks                86\n",
      "2  stockstobuytoday               104\n",
      "3    wallstreetbets                59 \n",
      "\n",
      "          subreddit  neutralSentiment\n",
      "0       StockMarket               250\n",
      "1            stocks               274\n",
      "2  stockstobuytoday               174\n",
      "3    wallstreetbets               149 \n",
      "\n"
     ]
    }
   ],
   "source": [
    "#query and print the data\n",
    "query = \"SELECT subreddit, COUNT(sentiment) as 'negativeSentiment' FROM data WHERE sentiment == -1 GROUP BY subreddit\"\n",
    "sentiment_negative = sqldf(query)\n",
    "query = \"SELECT subreddit, COUNT(sentiment) as 'positiveSentiment' FROM data WHERE sentiment == 1 GROUP BY subreddit\"\n",
    "sentiment_positive = sqldf(query)\n",
    "query = \"SELECT subreddit, COUNT(sentiment) as 'neutralSentiment' FROM data WHERE sentiment == 0 GROUP BY subreddit\"\n",
    "sentiment_neutral = sqldf(query)\n",
    "query = \"SELECT subreddit, COUNT(sentiment) as 'neutralSentiment' FROM data GROUP BY subreddit\"\n",
    "all_sentiment = sqldf(query)\n",
    "\n",
    "print(sentiment_negative, \"\\n\")\n",
    "print(sentiment_positive, \"\\n\")\n",
    "print(sentiment_neutral, \"\\n\")\n",
    "print(all_sentiment, \"\\n\")"
   ]
  },
  {
   "cell_type": "code",
   "execution_count": 128,
   "metadata": {},
   "outputs": [
    {
     "data": {
      "image/png": "[encoded data removed]",
      "text/plain": [
       "<Figure size 1000x800 with 1 Axes>"
      ]
     },
     "metadata": {},
     "output_type": "display_data"
    }
   ],
   "source": [
    "#plotting the graph\n",
    "x_pos = np.arange(len(sentiment_negative.subreddit))\n",
    "width = 0.2\n",
    "bar2_width = [width + x for x in x_pos]\n",
    "bar3_width = [width + x for x in bar2_width]\n",
    "# print(x_pos)\n",
    "\n",
    "#Graph for negative sentiments\n",
    "fig, ax = plt.subplots(figsize=(10, 8))\n",
    "bar_negative = ax.bar(x_pos, sentiment_negative.negativeSentiment, color='#D62728', label=\"Negative Sentiment\", width=width)\n",
    "bar_positive = ax.bar(bar2_width, sentiment_positive.positiveSentiment, color='#26771F', label=\"Positive Sentiment\", width=width)\n",
    "bar_neutral = ax.bar(bar3_width, sentiment_neutral.neutralSentiment, color=\"#e1e1e1\", label=\"Neutral Sentiment\", width=width)\n",
    "ax.set_title(\"Sentiment of Reddit Users Grouped by Subreddit Bar Chart\")\n",
    "ax.set_xticks(bar2_width)\n",
    "ax.set_xticklabels(sentiment_negative.subreddit)\n",
    "ax.bar_label(bar_negative)\n",
    "ax.bar_label(bar_positive)\n",
    "ax.bar_label(bar_neutral)\n",
    "ax.legend()\n",
    "\n",
    "#Graph for negative sentiments\n",
    "# fig, ax = plt.subplots(figsize=(8, 8))\n",
    "# bar = ax.bar(sentiment_negative.subreddit, sentiment_negative.negativeSentiment, color=['#D62728', '#FF7F0E', '#1F77B4', '#7F7F7F'])\n",
    "# ax.bar_label(bar)\n",
    "# ax.set_title(\"Negative Sentiment of Reddit Users Grouped by Subreddit Bar Chart\")\n",
    "\n",
    "#graph for positive sentiments\n",
    "# fig, ax = plt.subplots(figsize=(8, 6))\n",
    "# bar = ax.bar(sentiment_positive.subreddit, sentiment_positive.positiveSentiment, color=['#26771F', '#A1C9F4', '#FFD700', '#A9A9A9'], label=\"Positive Sentiment\")\n",
    "# ax.set_title(\"Positive Sentiment of Reddit Users Grouped by Subreddit Bar Chart\")\n",
    "# ax.bar_label(bar)\n",
    "\n",
    "#graph for neutral sentiments\n",
    "# fig, ax = plt.subplots(figsize=(8, 6))\n",
    "# bar = ax.bar(sentiment_neutral.subreddit, sentiment_neutral.neutralSentiment, label=\"Neutral Sentiment\")\n",
    "# ax.set_title(\"Neutral Sentiment of Reddit Users Grouped by Subreddit Bar Chart\")\n",
    "# ax.bar_label(bar)\n",
    "\n",
    "plt.show()\n",
    "\n",
    "# stock_market = data['subreddit'] == 'StockMarket'\n",
    "# len(data[stock_market])"
   ]
  },
  {
   "cell_type": "markdown",
   "metadata": {},
   "source": [
    "We can see from the barchart that I've plot above, it seems that the subreddit of ``stocks`` has the most negative sentiments and positive sentiments of posts. Then for the neutral sentiments, ``stockstobuytoday`` subreddit has the most numbers. \n",
    "\n",
    "So, from this data, it can be seen that although ``stocks`` subreddit has the most positive sentiments that would be useful for stocks analysis that reflects to a good investor's attitude towards the stock, we can't just decide that ``stocks`` would be the best subreddit and the most reliable source to be used in determining the direction of the market. so, I am going to discuss every subreddits one by one, starting from StockMarket.\n",
    "\n",
    "StockMarket is a subreddit created on July 9, 2008 which has an Objective to provide short and mid term trade ideas, market analysis & commentary for active traders and investors, so it would be one of those 4 subreddit as a credible source to do a sentiment market analysis.\n",
    "\n",
    "For the next one, we have stocks subreddit which was created on Jun 27, 2008 that states it is the most serious place for stock related discussions. It also will provide market news and financial education, therefore we can add this subreddit as one of the useful list for doing a market sentiment analysis. \n",
    "\n",
    "The third one, we have stockstobuytoday. From what I observe from this subreddit, it is not a more relaxed page to discuss everything about stocks. Everyone shares about their stocks whether it made a profit or loss. Then most of them also asks for advice, therefore explains why the neutral sentiments of this subreddit is that high.\n",
    "\n",
    "The last one, wallstreetbets subreddit is actually the most unserious page that is used to discuss stocks. This is owing to the fact that this page has so many memes and jokes about stocks instead of meaningful data for stock traders. That is why the neutral and positive sentiments of this subreddit is seen high too.\n",
    "\n",
    "Therefore, we can only choose from either StockMarket or stocks subreddit to do a market sentiment analysis. The fact that these 2 subreddits provide more reliable data, the number of positive, negative, and neutral sentiments that we got from the dataset would be more useful. We can also see from the graph, that the pattern of these 3 sentiments is actually balanced in those two subreddits, so they would provide both bullish and bearish market attitudes that is very useful for serious analysis.\n"
   ]
  },
  {
   "cell_type": "markdown",
   "metadata": {},
   "source": [
    "## New Visualization for the data sentiment"
   ]
  },
  {
   "cell_type": "markdown",
   "metadata": {},
   "source": [
    "# Phase 2"
   ]
  },
  {
   "cell_type": "code",
   "execution_count": null,
   "metadata": {},
   "outputs": [],
   "source": [
    "### Begin Assignment Here"
   ]
  }
 ],
 "metadata": {
  "kernelspec": {
   "display_name": "Python(dm2025lab)",
   "language": "python",
   "name": "dm2025lab"
  },
  "language_info": {
   "codemirror_mode": {
    "name": "ipython",
    "version": 3
   },
   "file_extension": ".py",
   "mimetype": "text/x-python",
   "name": "python",
   "nbconvert_exporter": "python",
   "pygments_lexer": "ipython3",
   "version": "3.11.0"
  }
 },
 "nbformat": 4,
 "nbformat_minor": 4
}
